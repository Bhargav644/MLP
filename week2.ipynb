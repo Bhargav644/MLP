{
  "nbformat": 4,
  "nbformat_minor": 0,
  "metadata": {
    "colab": {
      "name": "week2.ipynb",
      "provenance": [],
      "collapsed_sections": [
        "zjnVaHcqXPMs",
        "z1H5Q8rPoEis"
      ]
    },
    "kernelspec": {
      "name": "python3",
      "display_name": "Python 3"
    },
    "language_info": {
      "name": "python"
    }
  },
  "cells": [
    {
      "cell_type": "markdown",
      "source": [
        "**<h2>Data Pre-processing Techniques</h2>**\n",
        "\n",
        "Data preprocessing involves several transformations that are applied to raw data to make it more amenable for learning.It is carried out before using it for model training or prediction.\n",
        "\n",
        "\n",
        "* Data Cleaning\n",
        "    \n",
        "    * Data Imputation\n",
        "    * Feature scaling\n",
        "\n",
        "* Feature transformation\n",
        "    \n",
        "    * Polynomial Features\n",
        "    * Discretization\n",
        "    * Handling categorical features\n",
        "    * Custom Transformers\n",
        "    * Composite Transformers\n",
        "        * Apply transformation to diverse features\n",
        "        * TargetTransformedRegressor\n",
        "\n",
        "* Feature Selection\n",
        "\n",
        "    * Filter based feature selection\n",
        "    * Wrapper based feature selection    \n",
        "\n",
        "* Feature Extraction\n",
        "\n",
        "    * PCA\n",
        "\n",
        "The transformation are applied in a specific order can be specified via **`Pipeline`**.We need to apply transformations based on the feature type.**`FeatureUnion`** helps us perform that task and combine outputs from multiple transformations into single transformed feature matrix.    \n"
      ],
      "metadata": {
        "id": "5gMRfq-EsQq0"
      }
    },
    {
      "cell_type": "markdown",
      "source": [
        "<h2>Importing basic library </h2>"
      ],
      "metadata": {
        "id": "P2w1vXXIvBgF"
      }
    },
    {
      "cell_type": "code",
      "source": [
        "import numpy as np\n",
        "import matplotlib.pyplot as plt\n",
        "import pandas as pd\n",
        "import seaborn as sns\n",
        "sns.set_theme(style=\"whitegrid\")"
      ],
      "metadata": {
        "id": "DUcyeXdwu-YE"
      },
      "execution_count": 42,
      "outputs": []
    },
    {
      "cell_type": "markdown",
      "source": [
        "## **1. Feature Extraction**\n",
        "\n",
        "### DictVectorize:\n",
        "Many times the data is present as a list of dictionary objects.ML algorithim expect the data in matrix form with shape(n,m) where n is the number of samples and m is the number of features \n",
        "\n",
        "`DictVectorizer` **converts** a list of dictionary objects to feature matrix"
      ],
      "metadata": {
        "id": "zeUF6_2XvjuE"
      }
    },
    {
      "cell_type": "code",
      "source": [
        "data=[\n",
        "      {'age':4,'height':96.0},\n",
        "      {'age':1,'height':73.9},\n",
        "      {'age':3,'height':88.9},\n",
        "      {'age':2,'height':81.6}\n",
        "]"
      ],
      "metadata": {
        "id": "UyRrL57avhmt"
      },
      "execution_count": 43,
      "outputs": []
    },
    {
      "cell_type": "code",
      "source": [
        "from sklearn.feature_extraction import DictVectorizer\n",
        "\n",
        "dv=DictVectorizer(sparse=False)\n",
        "data_transformed=dv.fit_transform(data)\n",
        "data_transformed"
      ],
      "metadata": {
        "colab": {
          "base_uri": "https://localhost:8080/"
        },
        "id": "Ck_AMuqJxHNW",
        "outputId": "5a9ec4fa-3ce2-4ceb-afae-193bbc99deac"
      },
      "execution_count": 44,
      "outputs": [
        {
          "output_type": "execute_result",
          "data": {
            "text/plain": [
              "array([[ 4. , 96. ],\n",
              "       [ 1. , 73.9],\n",
              "       [ 3. , 88.9],\n",
              "       [ 2. , 81.6]])"
            ]
          },
          "metadata": {},
          "execution_count": 44
        }
      ]
    },
    {
      "cell_type": "code",
      "source": [
        "data_transformed.shape"
      ],
      "metadata": {
        "colab": {
          "base_uri": "https://localhost:8080/"
        },
        "id": "-XmLSJ1exhHr",
        "outputId": "84c6b629-2b64-44ec-d412-45a65e1c417b"
      },
      "execution_count": 45,
      "outputs": [
        {
          "output_type": "execute_result",
          "data": {
            "text/plain": [
              "(4, 2)"
            ]
          },
          "metadata": {},
          "execution_count": 45
        }
      ]
    },
    {
      "cell_type": "markdown",
      "source": [
        "As we can se that the data is transformed into the feature matrix from 4 samples with 2 feature each i.e shape(4,2)"
      ],
      "metadata": {
        "id": "H9CDXc-F07KM"
      }
    },
    {
      "cell_type": "markdown",
      "source": [
        "##**2. Data Imputation**\n",
        "    \n",
        "* Many machine learning algorithims need full feature matrix and they may not work in presence of missing data\n",
        "* Data imputation identifies missing values in each feature of the dataset and replaces them with an appropriate value based on fixed strategy such as\n",
        "    * `mean` or `median` or `mode` of that feature\n",
        "    *  use specified constant value\n",
        "\n",
        "Sklearn library provides `sklearn.impute.SimpleImputer` class for this purpose    "
      ],
      "metadata": {
        "id": "QeUu5dwiyBKD"
      }
    },
    {
      "cell_type": "code",
      "source": [
        "from sklearn.impute import SimpleImputer"
      ],
      "metadata": {
        "id": "Kve5-5itxrzY"
      },
      "execution_count": 46,
      "outputs": []
    },
    {
      "cell_type": "markdown",
      "source": [
        "Some of it's important parameter:\n",
        "* `missing_values`:Could be int,float,str,np.nan or None.Default is np.nan\n",
        "* `strategy`:string,default is `mean`\n",
        "    * mean\n",
        "    * meadian\n",
        "    * most_frequent\n",
        "    * conastant\n",
        "* `add_indicator` :is boolean parameter that when set to true returns missing value indicators in `indicator_` member variable"
      ],
      "metadata": {
        "id": "t0xn-HLD1YiO"
      }
    },
    {
      "cell_type": "code",
      "source": [
        "cols=['age','sex','cp','trestbps','chol','fbs','restecg','thalach','exang','oldpeak','slope','ca','thal','num']\n",
        "heart_data=pd.read_csv('https://archive.ics.uci.edu/ml/machine-learning-databases/heart-disease/processed.cleveland.data',header=None,names=cols)"
      ],
      "metadata": {
        "id": "wmpPAcIv1VfW"
      },
      "execution_count": 47,
      "outputs": []
    },
    {
      "cell_type": "code",
      "source": [
        "heart_data.info()"
      ],
      "metadata": {
        "colab": {
          "base_uri": "https://localhost:8080/"
        },
        "id": "XAd90CGA6cn_",
        "outputId": "cc687e0d-c02f-4eef-9e50-815492e80d84"
      },
      "execution_count": 48,
      "outputs": [
        {
          "output_type": "stream",
          "name": "stdout",
          "text": [
            "<class 'pandas.core.frame.DataFrame'>\n",
            "RangeIndex: 303 entries, 0 to 302\n",
            "Data columns (total 14 columns):\n",
            " #   Column    Non-Null Count  Dtype  \n",
            "---  ------    --------------  -----  \n",
            " 0   age       303 non-null    float64\n",
            " 1   sex       303 non-null    float64\n",
            " 2   cp        303 non-null    float64\n",
            " 3   trestbps  303 non-null    float64\n",
            " 4   chol      303 non-null    float64\n",
            " 5   fbs       303 non-null    float64\n",
            " 6   restecg   303 non-null    float64\n",
            " 7   thalach   303 non-null    float64\n",
            " 8   exang     303 non-null    float64\n",
            " 9   oldpeak   303 non-null    float64\n",
            " 10  slope     303 non-null    float64\n",
            " 11  ca        303 non-null    object \n",
            " 12  thal      303 non-null    object \n",
            " 13  num       303 non-null    int64  \n",
            "dtypes: float64(11), int64(1), object(2)\n",
            "memory usage: 33.3+ KB\n"
          ]
        }
      ]
    },
    {
      "cell_type": "code",
      "source": [
        "(heart_data.isnull().sum())"
      ],
      "metadata": {
        "colab": {
          "base_uri": "https://localhost:8080/"
        },
        "id": "2NLuT4B96sWM",
        "outputId": "19242135-1c6a-4d22-dbc1-22ff64e2f3e1"
      },
      "execution_count": 49,
      "outputs": [
        {
          "output_type": "execute_result",
          "data": {
            "text/plain": [
              "age         0\n",
              "sex         0\n",
              "cp          0\n",
              "trestbps    0\n",
              "chol        0\n",
              "fbs         0\n",
              "restecg     0\n",
              "thalach     0\n",
              "exang       0\n",
              "oldpeak     0\n",
              "slope       0\n",
              "ca          0\n",
              "thal        0\n",
              "num         0\n",
              "dtype: int64"
            ]
          },
          "metadata": {},
          "execution_count": 49
        }
      ]
    },
    {
      "cell_type": "code",
      "source": [
        "print(\"Unique values in ca:\",heart_data.ca.unique())\n",
        "print(\"Unique values in thal:\",heart_data.thal.unique())"
      ],
      "metadata": {
        "colab": {
          "base_uri": "https://localhost:8080/"
        },
        "id": "KrquFxEE623M",
        "outputId": "832237e1-e95e-4ae5-a764-d2060a5701c7"
      },
      "execution_count": 50,
      "outputs": [
        {
          "output_type": "stream",
          "name": "stdout",
          "text": [
            "Unique values in ca: ['0.0' '3.0' '2.0' '1.0' '?']\n",
            "Unique values in thal: ['6.0' '3.0' '7.0' '?']\n"
          ]
        }
      ]
    },
    {
      "cell_type": "code",
      "source": [
        "print(\"# missing value in ca:\",\n",
        "      heart_data.loc[heart_data.ca=='?','ca'].count())\n",
        "print(\"# missing value in thal:\",\n",
        "      heart_data.loc[heart_data.thal=='?','thal'].count())\n"
      ],
      "metadata": {
        "colab": {
          "base_uri": "https://localhost:8080/"
        },
        "id": "EnUsRdqb7U5w",
        "outputId": "e3fd53ab-cf6c-4e05-9e61-be1fc953f9bb"
      },
      "execution_count": 51,
      "outputs": [
        {
          "output_type": "stream",
          "name": "stdout",
          "text": [
            "# missing value in ca: 4\n",
            "# missing value in thal: 2\n"
          ]
        }
      ]
    },
    {
      "cell_type": "code",
      "source": [
        "heart_data.replace('?',np.nan,inplace=True)"
      ],
      "metadata": {
        "id": "x8m5v_fu8-ur"
      },
      "execution_count": 52,
      "outputs": []
    },
    {
      "cell_type": "code",
      "source": [
        "imputer=SimpleImputer(missing_values=np.nan,strategy='mean',add_indicator=True)\n",
        "imputer=imputer.fit(heart_data)\n",
        "heart_data_imputed_with_indicator=imputer.transform(heart_data)\n",
        "print(heart_data_imputed_with_indicator.shape)"
      ],
      "metadata": {
        "colab": {
          "base_uri": "https://localhost:8080/"
        },
        "id": "ULgTuyVI8ch4",
        "outputId": "b04b9a64-5a40-404a-be72-a718d81a821e"
      },
      "execution_count": 53,
      "outputs": [
        {
          "output_type": "stream",
          "name": "stdout",
          "text": [
            "(303, 16)\n"
          ]
        }
      ]
    },
    {
      "cell_type": "markdown",
      "source": [
        "##**3. Feature scaling**\n",
        "\n",
        "Feature scaling transforms feature values such that all the features are on the same scale\n",
        "\n",
        "Benefits:\n",
        "  * Enables faster convergence in iterative omptimization\n",
        "  * The performance of ML algorithim such as SVM,K-NN and K-mefans etc that compute euclidien distance among input samples gets impacted if the features are not scaled\n",
        "\n",
        "Methods:\n",
        "  * Standardization\n",
        "  * Normalization\n",
        "  * MaxAbscaler \n",
        "\n",
        "**Note:** Tree based ML algorithim are not affected by feature scaling\n"
      ],
      "metadata": {
        "id": "DtVBilH8-0GV"
      }
    },
    {
      "cell_type": "code",
      "source": [
        "cols=['Sex','Length','Diameter','Height','Whole weight','Shucked weight','Viscera weight','Shell weight','Rings']\n",
        "abalone_data=pd.read_csv('https://archive.ics.uci.edu/ml/machine-learning-databases/abalone/abalone.data',header=None,names=cols)"
      ],
      "metadata": {
        "id": "hWTefXM-81Ss"
      },
      "execution_count": 54,
      "outputs": []
    },
    {
      "cell_type": "code",
      "source": [
        "abalone_data.info()"
      ],
      "metadata": {
        "colab": {
          "base_uri": "https://localhost:8080/"
        },
        "id": "-r2KmuOhBtnG",
        "outputId": "4f85a9d5-ae6e-4311-b319-93cebe3d05c4"
      },
      "execution_count": 55,
      "outputs": [
        {
          "output_type": "stream",
          "name": "stdout",
          "text": [
            "<class 'pandas.core.frame.DataFrame'>\n",
            "RangeIndex: 4177 entries, 0 to 4176\n",
            "Data columns (total 9 columns):\n",
            " #   Column          Non-Null Count  Dtype  \n",
            "---  ------          --------------  -----  \n",
            " 0   Sex             4177 non-null   object \n",
            " 1   Length          4177 non-null   float64\n",
            " 2   Diameter        4177 non-null   float64\n",
            " 3   Height          4177 non-null   float64\n",
            " 4   Whole weight    4177 non-null   float64\n",
            " 5   Shucked weight  4177 non-null   float64\n",
            " 6   Viscera weight  4177 non-null   float64\n",
            " 7   Shell weight    4177 non-null   float64\n",
            " 8   Rings           4177 non-null   int64  \n",
            "dtypes: float64(7), int64(1), object(1)\n",
            "memory usage: 293.8+ KB\n"
          ]
        }
      ]
    },
    {
      "cell_type": "markdown",
      "source": [
        "##Step1[optional] Convert non-numerical atribute to numericals type\n"
      ],
      "metadata": {
        "id": "6SdjxcDFCtSd"
      }
    },
    {
      "cell_type": "code",
      "source": [
        "abalone_data.Sex.unique()"
      ],
      "metadata": {
        "colab": {
          "base_uri": "https://localhost:8080/"
        },
        "id": "driW54QFB1oS",
        "outputId": "5231dcd8-8564-460f-ab1c-c012f8f4e408"
      },
      "execution_count": 56,
      "outputs": [
        {
          "output_type": "execute_result",
          "data": {
            "text/plain": [
              "array(['M', 'F', 'I'], dtype=object)"
            ]
          },
          "metadata": {},
          "execution_count": 56
        }
      ]
    },
    {
      "cell_type": "code",
      "source": [
        "abalone_data=abalone_data.replace({\"Sex\":{\"M\":1,\"F\":2,\"I\":3}})\n",
        "abalone_data.info()"
      ],
      "metadata": {
        "colab": {
          "base_uri": "https://localhost:8080/"
        },
        "id": "LtBfWMFbCP8e",
        "outputId": "14513c8f-a91d-41f2-cfe2-4a9462631b7b"
      },
      "execution_count": 57,
      "outputs": [
        {
          "output_type": "stream",
          "name": "stdout",
          "text": [
            "<class 'pandas.core.frame.DataFrame'>\n",
            "RangeIndex: 4177 entries, 0 to 4176\n",
            "Data columns (total 9 columns):\n",
            " #   Column          Non-Null Count  Dtype  \n",
            "---  ------          --------------  -----  \n",
            " 0   Sex             4177 non-null   int64  \n",
            " 1   Length          4177 non-null   float64\n",
            " 2   Diameter        4177 non-null   float64\n",
            " 3   Height          4177 non-null   float64\n",
            " 4   Whole weight    4177 non-null   float64\n",
            " 5   Shucked weight  4177 non-null   float64\n",
            " 6   Viscera weight  4177 non-null   float64\n",
            " 7   Shell weight    4177 non-null   float64\n",
            " 8   Rings           4177 non-null   int64  \n",
            "dtypes: float64(7), int64(2)\n",
            "memory usage: 293.8 KB\n"
          ]
        }
      ]
    },
    {
      "cell_type": "markdown",
      "source": [
        "##Step2: Seperate labels from feature"
      ],
      "metadata": {
        "id": "Vnw7AeB2DAN0"
      }
    },
    {
      "cell_type": "code",
      "source": [
        "y=abalone_data.pop(\"Rings\")\n",
        "print(\"The dataframe object after deleting the column\")\n",
        "abalone_data.info()"
      ],
      "metadata": {
        "colab": {
          "base_uri": "https://localhost:8080/"
        },
        "id": "ApRdyMBhCd7U",
        "outputId": "115167d4-52b7-4ea4-99c1-2f8e19a5d6f6"
      },
      "execution_count": 58,
      "outputs": [
        {
          "output_type": "stream",
          "name": "stdout",
          "text": [
            "The dataframe object after deleting the column\n",
            "<class 'pandas.core.frame.DataFrame'>\n",
            "RangeIndex: 4177 entries, 0 to 4176\n",
            "Data columns (total 8 columns):\n",
            " #   Column          Non-Null Count  Dtype  \n",
            "---  ------          --------------  -----  \n",
            " 0   Sex             4177 non-null   int64  \n",
            " 1   Length          4177 non-null   float64\n",
            " 2   Diameter        4177 non-null   float64\n",
            " 3   Height          4177 non-null   float64\n",
            " 4   Whole weight    4177 non-null   float64\n",
            " 5   Shucked weight  4177 non-null   float64\n",
            " 6   Viscera weight  4177 non-null   float64\n",
            " 7   Shell weight    4177 non-null   float64\n",
            "dtypes: float64(7), int64(1)\n",
            "memory usage: 261.2 KB\n"
          ]
        }
      ]
    },
    {
      "cell_type": "markdown",
      "source": [
        "##Step3: Examine feature scales"
      ],
      "metadata": {
        "id": "p2mfFY7VDfNM"
      }
    },
    {
      "cell_type": "code",
      "source": [
        "abalone_data.describe().T"
      ],
      "metadata": {
        "colab": {
          "base_uri": "https://localhost:8080/",
          "height": 300
        },
        "id": "oY0eya-_DcZE",
        "outputId": "f96e939e-d4f2-41e4-f0ae-27382f58f8e7"
      },
      "execution_count": 59,
      "outputs": [
        {
          "output_type": "execute_result",
          "data": {
            "text/plain": [
              "                 count      mean       std     min     25%     50%    75%  \\\n",
              "Sex             4177.0  1.955470  0.827815  1.0000  1.0000  2.0000  3.000   \n",
              "Length          4177.0  0.523992  0.120093  0.0750  0.4500  0.5450  0.615   \n",
              "Diameter        4177.0  0.407881  0.099240  0.0550  0.3500  0.4250  0.480   \n",
              "Height          4177.0  0.139516  0.041827  0.0000  0.1150  0.1400  0.165   \n",
              "Whole weight    4177.0  0.828742  0.490389  0.0020  0.4415  0.7995  1.153   \n",
              "Shucked weight  4177.0  0.359367  0.221963  0.0010  0.1860  0.3360  0.502   \n",
              "Viscera weight  4177.0  0.180594  0.109614  0.0005  0.0935  0.1710  0.253   \n",
              "Shell weight    4177.0  0.238831  0.139203  0.0015  0.1300  0.2340  0.329   \n",
              "\n",
              "                   max  \n",
              "Sex             3.0000  \n",
              "Length          0.8150  \n",
              "Diameter        0.6500  \n",
              "Height          1.1300  \n",
              "Whole weight    2.8255  \n",
              "Shucked weight  1.4880  \n",
              "Viscera weight  0.7600  \n",
              "Shell weight    1.0050  "
            ],
            "text/html": [
              "\n",
              "  <div id=\"df-cc72feed-0421-4671-b1f6-551ed1a0a435\">\n",
              "    <div class=\"colab-df-container\">\n",
              "      <div>\n",
              "<style scoped>\n",
              "    .dataframe tbody tr th:only-of-type {\n",
              "        vertical-align: middle;\n",
              "    }\n",
              "\n",
              "    .dataframe tbody tr th {\n",
              "        vertical-align: top;\n",
              "    }\n",
              "\n",
              "    .dataframe thead th {\n",
              "        text-align: right;\n",
              "    }\n",
              "</style>\n",
              "<table border=\"1\" class=\"dataframe\">\n",
              "  <thead>\n",
              "    <tr style=\"text-align: right;\">\n",
              "      <th></th>\n",
              "      <th>count</th>\n",
              "      <th>mean</th>\n",
              "      <th>std</th>\n",
              "      <th>min</th>\n",
              "      <th>25%</th>\n",
              "      <th>50%</th>\n",
              "      <th>75%</th>\n",
              "      <th>max</th>\n",
              "    </tr>\n",
              "  </thead>\n",
              "  <tbody>\n",
              "    <tr>\n",
              "      <th>Sex</th>\n",
              "      <td>4177.0</td>\n",
              "      <td>1.955470</td>\n",
              "      <td>0.827815</td>\n",
              "      <td>1.0000</td>\n",
              "      <td>1.0000</td>\n",
              "      <td>2.0000</td>\n",
              "      <td>3.000</td>\n",
              "      <td>3.0000</td>\n",
              "    </tr>\n",
              "    <tr>\n",
              "      <th>Length</th>\n",
              "      <td>4177.0</td>\n",
              "      <td>0.523992</td>\n",
              "      <td>0.120093</td>\n",
              "      <td>0.0750</td>\n",
              "      <td>0.4500</td>\n",
              "      <td>0.5450</td>\n",
              "      <td>0.615</td>\n",
              "      <td>0.8150</td>\n",
              "    </tr>\n",
              "    <tr>\n",
              "      <th>Diameter</th>\n",
              "      <td>4177.0</td>\n",
              "      <td>0.407881</td>\n",
              "      <td>0.099240</td>\n",
              "      <td>0.0550</td>\n",
              "      <td>0.3500</td>\n",
              "      <td>0.4250</td>\n",
              "      <td>0.480</td>\n",
              "      <td>0.6500</td>\n",
              "    </tr>\n",
              "    <tr>\n",
              "      <th>Height</th>\n",
              "      <td>4177.0</td>\n",
              "      <td>0.139516</td>\n",
              "      <td>0.041827</td>\n",
              "      <td>0.0000</td>\n",
              "      <td>0.1150</td>\n",
              "      <td>0.1400</td>\n",
              "      <td>0.165</td>\n",
              "      <td>1.1300</td>\n",
              "    </tr>\n",
              "    <tr>\n",
              "      <th>Whole weight</th>\n",
              "      <td>4177.0</td>\n",
              "      <td>0.828742</td>\n",
              "      <td>0.490389</td>\n",
              "      <td>0.0020</td>\n",
              "      <td>0.4415</td>\n",
              "      <td>0.7995</td>\n",
              "      <td>1.153</td>\n",
              "      <td>2.8255</td>\n",
              "    </tr>\n",
              "    <tr>\n",
              "      <th>Shucked weight</th>\n",
              "      <td>4177.0</td>\n",
              "      <td>0.359367</td>\n",
              "      <td>0.221963</td>\n",
              "      <td>0.0010</td>\n",
              "      <td>0.1860</td>\n",
              "      <td>0.3360</td>\n",
              "      <td>0.502</td>\n",
              "      <td>1.4880</td>\n",
              "    </tr>\n",
              "    <tr>\n",
              "      <th>Viscera weight</th>\n",
              "      <td>4177.0</td>\n",
              "      <td>0.180594</td>\n",
              "      <td>0.109614</td>\n",
              "      <td>0.0005</td>\n",
              "      <td>0.0935</td>\n",
              "      <td>0.1710</td>\n",
              "      <td>0.253</td>\n",
              "      <td>0.7600</td>\n",
              "    </tr>\n",
              "    <tr>\n",
              "      <th>Shell weight</th>\n",
              "      <td>4177.0</td>\n",
              "      <td>0.238831</td>\n",
              "      <td>0.139203</td>\n",
              "      <td>0.0015</td>\n",
              "      <td>0.1300</td>\n",
              "      <td>0.2340</td>\n",
              "      <td>0.329</td>\n",
              "      <td>1.0050</td>\n",
              "    </tr>\n",
              "  </tbody>\n",
              "</table>\n",
              "</div>\n",
              "      <button class=\"colab-df-convert\" onclick=\"convertToInteractive('df-cc72feed-0421-4671-b1f6-551ed1a0a435')\"\n",
              "              title=\"Convert this dataframe to an interactive table.\"\n",
              "              style=\"display:none;\">\n",
              "        \n",
              "  <svg xmlns=\"http://www.w3.org/2000/svg\" height=\"24px\"viewBox=\"0 0 24 24\"\n",
              "       width=\"24px\">\n",
              "    <path d=\"M0 0h24v24H0V0z\" fill=\"none\"/>\n",
              "    <path d=\"M18.56 5.44l.94 2.06.94-2.06 2.06-.94-2.06-.94-.94-2.06-.94 2.06-2.06.94zm-11 1L8.5 8.5l.94-2.06 2.06-.94-2.06-.94L8.5 2.5l-.94 2.06-2.06.94zm10 10l.94 2.06.94-2.06 2.06-.94-2.06-.94-.94-2.06-.94 2.06-2.06.94z\"/><path d=\"M17.41 7.96l-1.37-1.37c-.4-.4-.92-.59-1.43-.59-.52 0-1.04.2-1.43.59L10.3 9.45l-7.72 7.72c-.78.78-.78 2.05 0 2.83L4 21.41c.39.39.9.59 1.41.59.51 0 1.02-.2 1.41-.59l7.78-7.78 2.81-2.81c.8-.78.8-2.07 0-2.86zM5.41 20L4 18.59l7.72-7.72 1.47 1.35L5.41 20z\"/>\n",
              "  </svg>\n",
              "      </button>\n",
              "      \n",
              "  <style>\n",
              "    .colab-df-container {\n",
              "      display:flex;\n",
              "      flex-wrap:wrap;\n",
              "      gap: 12px;\n",
              "    }\n",
              "\n",
              "    .colab-df-convert {\n",
              "      background-color: #E8F0FE;\n",
              "      border: none;\n",
              "      border-radius: 50%;\n",
              "      cursor: pointer;\n",
              "      display: none;\n",
              "      fill: #1967D2;\n",
              "      height: 32px;\n",
              "      padding: 0 0 0 0;\n",
              "      width: 32px;\n",
              "    }\n",
              "\n",
              "    .colab-df-convert:hover {\n",
              "      background-color: #E2EBFA;\n",
              "      box-shadow: 0px 1px 2px rgba(60, 64, 67, 0.3), 0px 1px 3px 1px rgba(60, 64, 67, 0.15);\n",
              "      fill: #174EA6;\n",
              "    }\n",
              "\n",
              "    [theme=dark] .colab-df-convert {\n",
              "      background-color: #3B4455;\n",
              "      fill: #D2E3FC;\n",
              "    }\n",
              "\n",
              "    [theme=dark] .colab-df-convert:hover {\n",
              "      background-color: #434B5C;\n",
              "      box-shadow: 0px 1px 3px 1px rgba(0, 0, 0, 0.15);\n",
              "      filter: drop-shadow(0px 1px 2px rgba(0, 0, 0, 0.3));\n",
              "      fill: #FFFFFF;\n",
              "    }\n",
              "  </style>\n",
              "\n",
              "      <script>\n",
              "        const buttonEl =\n",
              "          document.querySelector('#df-cc72feed-0421-4671-b1f6-551ed1a0a435 button.colab-df-convert');\n",
              "        buttonEl.style.display =\n",
              "          google.colab.kernel.accessAllowed ? 'block' : 'none';\n",
              "\n",
              "        async function convertToInteractive(key) {\n",
              "          const element = document.querySelector('#df-cc72feed-0421-4671-b1f6-551ed1a0a435');\n",
              "          const dataTable =\n",
              "            await google.colab.kernel.invokeFunction('convertToInteractive',\n",
              "                                                     [key], {});\n",
              "          if (!dataTable) return;\n",
              "\n",
              "          const docLinkHtml = 'Like what you see? Visit the ' +\n",
              "            '<a target=\"_blank\" href=https://colab.research.google.com/notebooks/data_table.ipynb>data table notebook</a>'\n",
              "            + ' to learn more about interactive tables.';\n",
              "          element.innerHTML = '';\n",
              "          dataTable['output_type'] = 'display_data';\n",
              "          await google.colab.output.renderOutput(dataTable, element);\n",
              "          const docLink = document.createElement('div');\n",
              "          docLink.innerHTML = docLinkHtml;\n",
              "          element.appendChild(docLink);\n",
              "        }\n",
              "      </script>\n",
              "    </div>\n",
              "  </div>\n",
              "  "
            ]
          },
          "metadata": {},
          "execution_count": 59
        }
      ]
    },
    {
      "cell_type": "code",
      "source": [
        "ax=abalone_data.plot.kde()"
      ],
      "metadata": {
        "colab": {
          "base_uri": "https://localhost:8080/",
          "height": 268
        },
        "id": "zzDPMtz5Dv1w",
        "outputId": "32f58c4e-83db-4128-a7c9-8b1d6d6e9dae"
      },
      "execution_count": 60,
      "outputs": [
        {
          "output_type": "display_data",
          "data": {
            "text/plain": [
              "<Figure size 432x288 with 1 Axes>"
            ],
            "image/png": "[encoded data removed]"
          },
          "metadata": {}
        }
      ]
    },
    {
      "cell_type": "markdown",
      "source": [
        "##Step4: Scaling\n",
        "\n",
        "**Normalization**\n",
        "* `MaxAbsoluteScaler` transforms features in range [-1,1]\n",
        "* `MinMaxScalar` transforms feature in range [0,1]\n",
        "\n",
        "**MaxAbsoluteScaler**: x'=x/MaxAbsoluteValue"
      ],
      "metadata": {
        "id": "2T8uQ_s1EVdG"
      }
    },
    {
      "cell_type": "code",
      "source": [
        "x=np.array([4,2,5,-2,-100]).reshape(-1,1)\n",
        "print(x) "
      ],
      "metadata": {
        "colab": {
          "base_uri": "https://localhost:8080/"
        },
        "id": "j5AUfAvCD_dQ",
        "outputId": "43b51d14-2442-45ad-801b-72deb94ec0d0"
      },
      "execution_count": 61,
      "outputs": [
        {
          "output_type": "stream",
          "name": "stdout",
          "text": [
            "[[   4]\n",
            " [   2]\n",
            " [   5]\n",
            " [  -2]\n",
            " [-100]]\n"
          ]
        }
      ]
    },
    {
      "cell_type": "code",
      "source": [
        "from sklearn.preprocessing import MaxAbsScaler\n",
        "\n",
        "mas=MaxAbsScaler()\n",
        "x_new=mas.fit_transform(x)\n",
        "print(x_new)"
      ],
      "metadata": {
        "colab": {
          "base_uri": "https://localhost:8080/"
        },
        "id": "_Hc_VtbDEhhX",
        "outputId": "52ed8054-1148-41ea-a38e-7b08f615bcb4"
      },
      "execution_count": 62,
      "outputs": [
        {
          "output_type": "stream",
          "name": "stdout",
          "text": [
            "[[ 0.04]\n",
            " [ 0.02]\n",
            " [ 0.05]\n",
            " [-0.02]\n",
            " [-1.  ]]\n"
          ]
        }
      ]
    },
    {
      "cell_type": "markdown",
      "source": [
        "**MinMaxScalar**\n",
        "$X_{new}$=$\\frac{X_{old}-X_{min}}{X_{max}-X_{min}}$\n",
        "\n",
        "* $X_{old}$ is the old value of data point which is rescaled to $X_{new}$\n",
        "* $X_{min}$ is minimum value of feature X\n",
        "* $X_{max}$ is maximum value of feature X\n"
      ],
      "metadata": {
        "id": "0WemulM0HxBU"
      }
    },
    {
      "cell_type": "code",
      "source": [
        "from sklearn.preprocessing import MinMaxScaler\n",
        "X=abalone_data\n",
        "mm=MinMaxScaler()\n",
        "X_normalized=mm.fit_transform(X)\n",
        "X_normalized[:5]"
      ],
      "metadata": {
        "colab": {
          "base_uri": "https://localhost:8080/"
        },
        "id": "uV3cOYEOGOYE",
        "outputId": "1b85588f-3689-4394-b97a-3eff4e816ea0"
      },
      "execution_count": 63,
      "outputs": [
        {
          "output_type": "execute_result",
          "data": {
            "text/plain": [
              "array([[0.        , 0.51351351, 0.5210084 , 0.0840708 , 0.18133522,\n",
              "        0.15030262, 0.1323239 , 0.14798206],\n",
              "       [0.        , 0.37162162, 0.35294118, 0.07964602, 0.07915707,\n",
              "        0.06624075, 0.06319947, 0.06826109],\n",
              "       [0.5       , 0.61486486, 0.61344538, 0.11946903, 0.23906499,\n",
              "        0.17182246, 0.18564845, 0.2077728 ],\n",
              "       [0.        , 0.49324324, 0.5210084 , 0.11061947, 0.18204356,\n",
              "        0.14425017, 0.14944042, 0.15296462],\n",
              "       [1.        , 0.34459459, 0.33613445, 0.07079646, 0.07189658,\n",
              "        0.0595158 , 0.05134957, 0.0533134 ]])"
            ]
          },
          "metadata": {},
          "execution_count": 63
        }
      ]
    },
    {
      "cell_type": "code",
      "source": [
        "X_normalized.mean(axis=0)"
      ],
      "metadata": {
        "colab": {
          "base_uri": "https://localhost:8080/"
        },
        "id": "qcesQGveKfTt",
        "outputId": "f8f06a57-f812-40c4-96a9-7b2270d6c107"
      },
      "execution_count": 64,
      "outputs": [
        {
          "output_type": "execute_result",
          "data": {
            "text/plain": [
              "array([0.47773522, 0.60674608, 0.59307774, 0.12346584, 0.29280756,\n",
              "       0.24100033, 0.23712127, 0.2365031 ])"
            ]
          },
          "metadata": {},
          "execution_count": 64
        }
      ]
    },
    {
      "cell_type": "markdown",
      "source": [
        "**Standardization**\n",
        "\n",
        "$X_{new}$=$\\frac{X_{old}-mean}{Standard Deviation}$\n"
      ],
      "metadata": {
        "id": "SU6vgSEALEN2"
      }
    },
    {
      "cell_type": "code",
      "source": [
        "from sklearn.preprocessing import StandardScaler\n",
        "ss=StandardScaler()\n",
        "X_standardized=ss.fit_transform(X)\n",
        "X_standardized[:5]"
      ],
      "metadata": {
        "colab": {
          "base_uri": "https://localhost:8080/"
        },
        "id": "Kyq1v7RKK0X9",
        "outputId": "f95c8b6f-a009-45d8-a67a-38979e856ba7"
      },
      "execution_count": 65,
      "outputs": [
        {
          "output_type": "execute_result",
          "data": {
            "text/plain": [
              "array([[-1.15434629, -0.57455813, -0.43214879, -1.06442415, -0.64189823,\n",
              "        -0.60768536, -0.72621157, -0.63821689],\n",
              "       [-1.15434629, -1.44898585, -1.439929  , -1.18397831, -1.23027711,\n",
              "        -1.17090984, -1.20522124, -1.21298732],\n",
              "       [ 0.05379815,  0.05003309,  0.12213032, -0.10799087, -0.30946926,\n",
              "        -0.4634999 , -0.35668983, -0.20713907],\n",
              "       [-1.15434629, -0.69947638, -0.43214879, -0.34709919, -0.63781934,\n",
              "        -0.64823753, -0.60759966, -0.60229374],\n",
              "       [ 1.26194258, -1.61554351, -1.54070702, -1.42308663, -1.27208566,\n",
              "        -1.2159678 , -1.28733718, -1.32075677]])"
            ]
          },
          "metadata": {},
          "execution_count": 65
        }
      ]
    },
    {
      "cell_type": "code",
      "source": [
        "X_standardized.std(axis=0)"
      ],
      "metadata": {
        "colab": {
          "base_uri": "https://localhost:8080/"
        },
        "id": "WOxuiftiOS8A",
        "outputId": "6c89e4fb-1e5d-4836-d00a-b26029707b33"
      },
      "execution_count": 66,
      "outputs": [
        {
          "output_type": "execute_result",
          "data": {
            "text/plain": [
              "array([1., 1., 1., 1., 1., 1., 1., 1.])"
            ]
          },
          "metadata": {},
          "execution_count": 66
        }
      ]
    },
    {
      "cell_type": "markdown",
      "source": [
        "##**4. add_dummy_feature**"
      ],
      "metadata": {
        "id": "UEVTMfYoPHvA"
      }
    },
    {
      "cell_type": "code",
      "source": [
        "x=np.array(\n",
        "    [[7,1],\n",
        "    [1,8],\n",
        "    [2,0],\n",
        "    [9,6]]\n",
        ")\n",
        "from sklearn.preprocessing import add_dummy_feature\n",
        "x_new=add_dummy_feature(x)\n",
        "print(x_new)"
      ],
      "metadata": {
        "colab": {
          "base_uri": "https://localhost:8080/"
        },
        "id": "bdCfJTCwOenw",
        "outputId": "ca33ebca-da5c-4f76-fc91-3f1d4167866a"
      },
      "execution_count": 67,
      "outputs": [
        {
          "output_type": "stream",
          "name": "stdout",
          "text": [
            "[[1. 7. 1.]\n",
            " [1. 1. 8.]\n",
            " [1. 2. 0.]\n",
            " [1. 9. 6.]]\n"
          ]
        }
      ]
    },
    {
      "cell_type": "markdown",
      "source": [
        "##**5. Custom transformers**\n",
        "\n",
        "Enables conversion of an existing Python function into a transformer to assist in data cleaning or processing\n",
        "\n",
        "* The dataset consists of heterogeneous data type(eg. raster images and text captions)\n",
        "* The dataset is stored in pandas.Dataframe"
      ],
      "metadata": {
        "id": "qzQgQsnZPq3W"
      }
    },
    {
      "cell_type": "code",
      "source": [
        "from sklearn.preprocessing import FunctionTransformer"
      ],
      "metadata": {
        "id": "4P8JhT0dWha0"
      },
      "execution_count": 68,
      "outputs": []
    },
    {
      "cell_type": "code",
      "source": [
        "wine_data=pd.read_csv(\"https://archive.ics.uci.edu/ml/machine-learning-databases/wine-quality/winequality-red.csv\",sep=\";\")"
      ],
      "metadata": {
        "id": "gHdjv0l9PoQf"
      },
      "execution_count": 69,
      "outputs": []
    },
    {
      "cell_type": "code",
      "source": [
        "wine_data.describe().T"
      ],
      "metadata": {
        "colab": {
          "base_uri": "https://localhost:8080/",
          "height": 426
        },
        "id": "mcvzNnbbVdzO",
        "outputId": "ff1f23c0-e28a-4be9-d7f7-02f349414bf6"
      },
      "execution_count": 70,
      "outputs": [
        {
          "output_type": "execute_result",
          "data": {
            "text/plain": [
              "                       count       mean        std      min      25%  \\\n",
              "fixed acidity         1599.0   8.319637   1.741096  4.60000   7.1000   \n",
              "volatile acidity      1599.0   0.527821   0.179060  0.12000   0.3900   \n",
              "citric acid           1599.0   0.270976   0.194801  0.00000   0.0900   \n",
              "residual sugar        1599.0   2.538806   1.409928  0.90000   1.9000   \n",
              "chlorides             1599.0   0.087467   0.047065  0.01200   0.0700   \n",
              "free sulfur dioxide   1599.0  15.874922  10.460157  1.00000   7.0000   \n",
              "total sulfur dioxide  1599.0  46.467792  32.895324  6.00000  22.0000   \n",
              "density               1599.0   0.996747   0.001887  0.99007   0.9956   \n",
              "pH                    1599.0   3.311113   0.154386  2.74000   3.2100   \n",
              "sulphates             1599.0   0.658149   0.169507  0.33000   0.5500   \n",
              "alcohol               1599.0  10.422983   1.065668  8.40000   9.5000   \n",
              "quality               1599.0   5.636023   0.807569  3.00000   5.0000   \n",
              "\n",
              "                           50%        75%        max  \n",
              "fixed acidity          7.90000   9.200000   15.90000  \n",
              "volatile acidity       0.52000   0.640000    1.58000  \n",
              "citric acid            0.26000   0.420000    1.00000  \n",
              "residual sugar         2.20000   2.600000   15.50000  \n",
              "chlorides              0.07900   0.090000    0.61100  \n",
              "free sulfur dioxide   14.00000  21.000000   72.00000  \n",
              "total sulfur dioxide  38.00000  62.000000  289.00000  \n",
              "density                0.99675   0.997835    1.00369  \n",
              "pH                     3.31000   3.400000    4.01000  \n",
              "sulphates              0.62000   0.730000    2.00000  \n",
              "alcohol               10.20000  11.100000   14.90000  \n",
              "quality                6.00000   6.000000    8.00000  "
            ],
            "text/html": [
              "\n",
              "  <div id=\"df-4b38cf22-e4e0-4a60-874e-de9089752a16\">\n",
              "    <div class=\"colab-df-container\">\n",
              "      <div>\n",
              "<style scoped>\n",
              "    .dataframe tbody tr th:only-of-type {\n",
              "        vertical-align: middle;\n",
              "    }\n",
              "\n",
              "    .dataframe tbody tr th {\n",
              "        vertical-align: top;\n",
              "    }\n",
              "\n",
              "    .dataframe thead th {\n",
              "        text-align: right;\n",
              "    }\n",
              "</style>\n",
              "<table border=\"1\" class=\"dataframe\">\n",
              "  <thead>\n",
              "    <tr style=\"text-align: right;\">\n",
              "      <th></th>\n",
              "      <th>count</th>\n",
              "      <th>mean</th>\n",
              "      <th>std</th>\n",
              "      <th>min</th>\n",
              "      <th>25%</th>\n",
              "      <th>50%</th>\n",
              "      <th>75%</th>\n",
              "      <th>max</th>\n",
              "    </tr>\n",
              "  </thead>\n",
              "  <tbody>\n",
              "    <tr>\n",
              "      <th>fixed acidity</th>\n",
              "      <td>1599.0</td>\n",
              "      <td>8.319637</td>\n",
              "      <td>1.741096</td>\n",
              "      <td>4.60000</td>\n",
              "      <td>7.1000</td>\n",
              "      <td>7.90000</td>\n",
              "      <td>9.200000</td>\n",
              "      <td>15.90000</td>\n",
              "    </tr>\n",
              "    <tr>\n",
              "      <th>volatile acidity</th>\n",
              "      <td>1599.0</td>\n",
              "      <td>0.527821</td>\n",
              "      <td>0.179060</td>\n",
              "      <td>0.12000</td>\n",
              "      <td>0.3900</td>\n",
              "      <td>0.52000</td>\n",
              "      <td>0.640000</td>\n",
              "      <td>1.58000</td>\n",
              "    </tr>\n",
              "    <tr>\n",
              "      <th>citric acid</th>\n",
              "      <td>1599.0</td>\n",
              "      <td>0.270976</td>\n",
              "      <td>0.194801</td>\n",
              "      <td>0.00000</td>\n",
              "      <td>0.0900</td>\n",
              "      <td>0.26000</td>\n",
              "      <td>0.420000</td>\n",
              "      <td>1.00000</td>\n",
              "    </tr>\n",
              "    <tr>\n",
              "      <th>residual sugar</th>\n",
              "      <td>1599.0</td>\n",
              "      <td>2.538806</td>\n",
              "      <td>1.409928</td>\n",
              "      <td>0.90000</td>\n",
              "      <td>1.9000</td>\n",
              "      <td>2.20000</td>\n",
              "      <td>2.600000</td>\n",
              "      <td>15.50000</td>\n",
              "    </tr>\n",
              "    <tr>\n",
              "      <th>chlorides</th>\n",
              "      <td>1599.0</td>\n",
              "      <td>0.087467</td>\n",
              "      <td>0.047065</td>\n",
              "      <td>0.01200</td>\n",
              "      <td>0.0700</td>\n",
              "      <td>0.07900</td>\n",
              "      <td>0.090000</td>\n",
              "      <td>0.61100</td>\n",
              "    </tr>\n",
              "    <tr>\n",
              "      <th>free sulfur dioxide</th>\n",
              "      <td>1599.0</td>\n",
              "      <td>15.874922</td>\n",
              "      <td>10.460157</td>\n",
              "      <td>1.00000</td>\n",
              "      <td>7.0000</td>\n",
              "      <td>14.00000</td>\n",
              "      <td>21.000000</td>\n",
              "      <td>72.00000</td>\n",
              "    </tr>\n",
              "    <tr>\n",
              "      <th>total sulfur dioxide</th>\n",
              "      <td>1599.0</td>\n",
              "      <td>46.467792</td>\n",
              "      <td>32.895324</td>\n",
              "      <td>6.00000</td>\n",
              "      <td>22.0000</td>\n",
              "      <td>38.00000</td>\n",
              "      <td>62.000000</td>\n",
              "      <td>289.00000</td>\n",
              "    </tr>\n",
              "    <tr>\n",
              "      <th>density</th>\n",
              "      <td>1599.0</td>\n",
              "      <td>0.996747</td>\n",
              "      <td>0.001887</td>\n",
              "      <td>0.99007</td>\n",
              "      <td>0.9956</td>\n",
              "      <td>0.99675</td>\n",
              "      <td>0.997835</td>\n",
              "      <td>1.00369</td>\n",
              "    </tr>\n",
              "    <tr>\n",
              "      <th>pH</th>\n",
              "      <td>1599.0</td>\n",
              "      <td>3.311113</td>\n",
              "      <td>0.154386</td>\n",
              "      <td>2.74000</td>\n",
              "      <td>3.2100</td>\n",
              "      <td>3.31000</td>\n",
              "      <td>3.400000</td>\n",
              "      <td>4.01000</td>\n",
              "    </tr>\n",
              "    <tr>\n",
              "      <th>sulphates</th>\n",
              "      <td>1599.0</td>\n",
              "      <td>0.658149</td>\n",
              "      <td>0.169507</td>\n",
              "      <td>0.33000</td>\n",
              "      <td>0.5500</td>\n",
              "      <td>0.62000</td>\n",
              "      <td>0.730000</td>\n",
              "      <td>2.00000</td>\n",
              "    </tr>\n",
              "    <tr>\n",
              "      <th>alcohol</th>\n",
              "      <td>1599.0</td>\n",
              "      <td>10.422983</td>\n",
              "      <td>1.065668</td>\n",
              "      <td>8.40000</td>\n",
              "      <td>9.5000</td>\n",
              "      <td>10.20000</td>\n",
              "      <td>11.100000</td>\n",
              "      <td>14.90000</td>\n",
              "    </tr>\n",
              "    <tr>\n",
              "      <th>quality</th>\n",
              "      <td>1599.0</td>\n",
              "      <td>5.636023</td>\n",
              "      <td>0.807569</td>\n",
              "      <td>3.00000</td>\n",
              "      <td>5.0000</td>\n",
              "      <td>6.00000</td>\n",
              "      <td>6.000000</td>\n",
              "      <td>8.00000</td>\n",
              "    </tr>\n",
              "  </tbody>\n",
              "</table>\n",
              "</div>\n",
              "      <button class=\"colab-df-convert\" onclick=\"convertToInteractive('df-4b38cf22-e4e0-4a60-874e-de9089752a16')\"\n",
              "              title=\"Convert this dataframe to an interactive table.\"\n",
              "              style=\"display:none;\">\n",
              "        \n",
              "  <svg xmlns=\"http://www.w3.org/2000/svg\" height=\"24px\"viewBox=\"0 0 24 24\"\n",
              "       width=\"24px\">\n",
              "    <path d=\"M0 0h24v24H0V0z\" fill=\"none\"/>\n",
              "    <path d=\"M18.56 5.44l.94 2.06.94-2.06 2.06-.94-2.06-.94-.94-2.06-.94 2.06-2.06.94zm-11 1L8.5 8.5l.94-2.06 2.06-.94-2.06-.94L8.5 2.5l-.94 2.06-2.06.94zm10 10l.94 2.06.94-2.06 2.06-.94-2.06-.94-.94-2.06-.94 2.06-2.06.94z\"/><path d=\"M17.41 7.96l-1.37-1.37c-.4-.4-.92-.59-1.43-.59-.52 0-1.04.2-1.43.59L10.3 9.45l-7.72 7.72c-.78.78-.78 2.05 0 2.83L4 21.41c.39.39.9.59 1.41.59.51 0 1.02-.2 1.41-.59l7.78-7.78 2.81-2.81c.8-.78.8-2.07 0-2.86zM5.41 20L4 18.59l7.72-7.72 1.47 1.35L5.41 20z\"/>\n",
              "  </svg>\n",
              "      </button>\n",
              "      \n",
              "  <style>\n",
              "    .colab-df-container {\n",
              "      display:flex;\n",
              "      flex-wrap:wrap;\n",
              "      gap: 12px;\n",
              "    }\n",
              "\n",
              "    .colab-df-convert {\n",
              "      background-color: #E8F0FE;\n",
              "      border: none;\n",
              "      border-radius: 50%;\n",
              "      cursor: pointer;\n",
              "      display: none;\n",
              "      fill: #1967D2;\n",
              "      height: 32px;\n",
              "      padding: 0 0 0 0;\n",
              "      width: 32px;\n",
              "    }\n",
              "\n",
              "    .colab-df-convert:hover {\n",
              "      background-color: #E2EBFA;\n",
              "      box-shadow: 0px 1px 2px rgba(60, 64, 67, 0.3), 0px 1px 3px 1px rgba(60, 64, 67, 0.15);\n",
              "      fill: #174EA6;\n",
              "    }\n",
              "\n",
              "    [theme=dark] .colab-df-convert {\n",
              "      background-color: #3B4455;\n",
              "      fill: #D2E3FC;\n",
              "    }\n",
              "\n",
              "    [theme=dark] .colab-df-convert:hover {\n",
              "      background-color: #434B5C;\n",
              "      box-shadow: 0px 1px 3px 1px rgba(0, 0, 0, 0.15);\n",
              "      filter: drop-shadow(0px 1px 2px rgba(0, 0, 0, 0.3));\n",
              "      fill: #FFFFFF;\n",
              "    }\n",
              "  </style>\n",
              "\n",
              "      <script>\n",
              "        const buttonEl =\n",
              "          document.querySelector('#df-4b38cf22-e4e0-4a60-874e-de9089752a16 button.colab-df-convert');\n",
              "        buttonEl.style.display =\n",
              "          google.colab.kernel.accessAllowed ? 'block' : 'none';\n",
              "\n",
              "        async function convertToInteractive(key) {\n",
              "          const element = document.querySelector('#df-4b38cf22-e4e0-4a60-874e-de9089752a16');\n",
              "          const dataTable =\n",
              "            await google.colab.kernel.invokeFunction('convertToInteractive',\n",
              "                                                     [key], {});\n",
              "          if (!dataTable) return;\n",
              "\n",
              "          const docLinkHtml = 'Like what you see? Visit the ' +\n",
              "            '<a target=\"_blank\" href=https://colab.research.google.com/notebooks/data_table.ipynb>data table notebook</a>'\n",
              "            + ' to learn more about interactive tables.';\n",
              "          element.innerHTML = '';\n",
              "          dataTable['output_type'] = 'display_data';\n",
              "          await google.colab.output.renderOutput(dataTable, element);\n",
              "          const docLink = document.createElement('div');\n",
              "          docLink.innerHTML = docLinkHtml;\n",
              "          element.appendChild(docLink);\n",
              "        }\n",
              "      </script>\n",
              "    </div>\n",
              "  </div>\n",
              "  "
            ]
          },
          "metadata": {},
          "execution_count": 70
        }
      ]
    },
    {
      "cell_type": "markdown",
      "source": [
        "let's usse np.loglp which returns natural alogarithm of(1+the feature value)"
      ],
      "metadata": {
        "id": "LugPh0a_Vrqd"
      }
    },
    {
      "cell_type": "code",
      "source": [
        "transformer=FunctionTransformer(np.log1p,validate=True)\n",
        "wine_data_transformed=transformer.transform(np.array(wine_data))\n",
        "pd.DataFrame(wine_data_transformed,columns=wine_data.columns).describe().T"
      ],
      "metadata": {
        "colab": {
          "base_uri": "https://localhost:8080/",
          "height": 426
        },
        "id": "kEGlm1SFVhSB",
        "outputId": "7327079f-ff0c-4069-ed42-46631897c37e"
      },
      "execution_count": 71,
      "outputs": [
        {
          "output_type": "execute_result",
          "data": {
            "text/plain": [
              "                       count      mean       std       min       25%  \\\n",
              "fixed acidity         1599.0  2.215842  0.178100  1.722767  2.091864   \n",
              "volatile acidity      1599.0  0.417173  0.114926  0.113329  0.329304   \n",
              "citric acid           1599.0  0.228147  0.152423  0.000000  0.086178   \n",
              "residual sugar        1599.0  1.218131  0.269969  0.641854  1.064711   \n",
              "chlorides             1599.0  0.083038  0.038991  0.011929  0.067659   \n",
              "free sulfur dioxide   1599.0  2.639013  0.623790  0.693147  2.079442   \n",
              "total sulfur dioxide  1599.0  3.634750  0.682575  1.945910  3.135494   \n",
              "density               1599.0  0.691519  0.000945  0.688170  0.690945   \n",
              "pH                    1599.0  1.460557  0.035760  1.319086  1.437463   \n",
              "sulphates             1599.0  0.501073  0.093731  0.285179  0.438255   \n",
              "alcohol               1599.0  2.431458  0.090434  2.240710  2.351375   \n",
              "quality               1599.0  1.885054  0.122749  1.386294  1.791759   \n",
              "\n",
              "                           50%       75%       max  \n",
              "fixed acidity         2.186051  2.322388  2.827314  \n",
              "volatile acidity      0.418710  0.494696  0.947789  \n",
              "citric acid           0.231112  0.350657  0.693147  \n",
              "residual sugar        1.163151  1.280934  2.803360  \n",
              "chlorides             0.076035  0.086178  0.476855  \n",
              "free sulfur dioxide   2.708050  3.091042  4.290459  \n",
              "total sulfur dioxide  3.663562  4.143135  5.669881  \n",
              "density               0.691521  0.692064  0.694990  \n",
              "pH                    1.460938  1.481605  1.611436  \n",
              "sulphates             0.482426  0.548121  1.098612  \n",
              "alcohol               2.415914  2.493205  2.766319  \n",
              "quality               1.945910  1.945910  2.197225  "
            ],
            "text/html": [
              "\n",
              "  <div id=\"df-20b1e86c-cb5c-470d-b8c3-2ec1866d2471\">\n",
              "    <div class=\"colab-df-container\">\n",
              "      <div>\n",
              "<style scoped>\n",
              "    .dataframe tbody tr th:only-of-type {\n",
              "        vertical-align: middle;\n",
              "    }\n",
              "\n",
              "    .dataframe tbody tr th {\n",
              "        vertical-align: top;\n",
              "    }\n",
              "\n",
              "    .dataframe thead th {\n",
              "        text-align: right;\n",
              "    }\n",
              "</style>\n",
              "<table border=\"1\" class=\"dataframe\">\n",
              "  <thead>\n",
              "    <tr style=\"text-align: right;\">\n",
              "      <th></th>\n",
              "      <th>count</th>\n",
              "      <th>mean</th>\n",
              "      <th>std</th>\n",
              "      <th>min</th>\n",
              "      <th>25%</th>\n",
              "      <th>50%</th>\n",
              "      <th>75%</th>\n",
              "      <th>max</th>\n",
              "    </tr>\n",
              "  </thead>\n",
              "  <tbody>\n",
              "    <tr>\n",
              "      <th>fixed acidity</th>\n",
              "      <td>1599.0</td>\n",
              "      <td>2.215842</td>\n",
              "      <td>0.178100</td>\n",
              "      <td>1.722767</td>\n",
              "      <td>2.091864</td>\n",
              "      <td>2.186051</td>\n",
              "      <td>2.322388</td>\n",
              "      <td>2.827314</td>\n",
              "    </tr>\n",
              "    <tr>\n",
              "      <th>volatile acidity</th>\n",
              "      <td>1599.0</td>\n",
              "      <td>0.417173</td>\n",
              "      <td>0.114926</td>\n",
              "      <td>0.113329</td>\n",
              "      <td>0.329304</td>\n",
              "      <td>0.418710</td>\n",
              "      <td>0.494696</td>\n",
              "      <td>0.947789</td>\n",
              "    </tr>\n",
              "    <tr>\n",
              "      <th>citric acid</th>\n",
              "      <td>1599.0</td>\n",
              "      <td>0.228147</td>\n",
              "      <td>0.152423</td>\n",
              "      <td>0.000000</td>\n",
              "      <td>0.086178</td>\n",
              "      <td>0.231112</td>\n",
              "      <td>0.350657</td>\n",
              "      <td>0.693147</td>\n",
              "    </tr>\n",
              "    <tr>\n",
              "      <th>residual sugar</th>\n",
              "      <td>1599.0</td>\n",
              "      <td>1.218131</td>\n",
              "      <td>0.269969</td>\n",
              "      <td>0.641854</td>\n",
              "      <td>1.064711</td>\n",
              "      <td>1.163151</td>\n",
              "      <td>1.280934</td>\n",
              "      <td>2.803360</td>\n",
              "    </tr>\n",
              "    <tr>\n",
              "      <th>chlorides</th>\n",
              "      <td>1599.0</td>\n",
              "      <td>0.083038</td>\n",
              "      <td>0.038991</td>\n",
              "      <td>0.011929</td>\n",
              "      <td>0.067659</td>\n",
              "      <td>0.076035</td>\n",
              "      <td>0.086178</td>\n",
              "      <td>0.476855</td>\n",
              "    </tr>\n",
              "    <tr>\n",
              "      <th>free sulfur dioxide</th>\n",
              "      <td>1599.0</td>\n",
              "      <td>2.639013</td>\n",
              "      <td>0.623790</td>\n",
              "      <td>0.693147</td>\n",
              "      <td>2.079442</td>\n",
              "      <td>2.708050</td>\n",
              "      <td>3.091042</td>\n",
              "      <td>4.290459</td>\n",
              "    </tr>\n",
              "    <tr>\n",
              "      <th>total sulfur dioxide</th>\n",
              "      <td>1599.0</td>\n",
              "      <td>3.634750</td>\n",
              "      <td>0.682575</td>\n",
              "      <td>1.945910</td>\n",
              "      <td>3.135494</td>\n",
              "      <td>3.663562</td>\n",
              "      <td>4.143135</td>\n",
              "      <td>5.669881</td>\n",
              "    </tr>\n",
              "    <tr>\n",
              "      <th>density</th>\n",
              "      <td>1599.0</td>\n",
              "      <td>0.691519</td>\n",
              "      <td>0.000945</td>\n",
              "      <td>0.688170</td>\n",
              "      <td>0.690945</td>\n",
              "      <td>0.691521</td>\n",
              "      <td>0.692064</td>\n",
              "      <td>0.694990</td>\n",
              "    </tr>\n",
              "    <tr>\n",
              "      <th>pH</th>\n",
              "      <td>1599.0</td>\n",
              "      <td>1.460557</td>\n",
              "      <td>0.035760</td>\n",
              "      <td>1.319086</td>\n",
              "      <td>1.437463</td>\n",
              "      <td>1.460938</td>\n",
              "      <td>1.481605</td>\n",
              "      <td>1.611436</td>\n",
              "    </tr>\n",
              "    <tr>\n",
              "      <th>sulphates</th>\n",
              "      <td>1599.0</td>\n",
              "      <td>0.501073</td>\n",
              "      <td>0.093731</td>\n",
              "      <td>0.285179</td>\n",
              "      <td>0.438255</td>\n",
              "      <td>0.482426</td>\n",
              "      <td>0.548121</td>\n",
              "      <td>1.098612</td>\n",
              "    </tr>\n",
              "    <tr>\n",
              "      <th>alcohol</th>\n",
              "      <td>1599.0</td>\n",
              "      <td>2.431458</td>\n",
              "      <td>0.090434</td>\n",
              "      <td>2.240710</td>\n",
              "      <td>2.351375</td>\n",
              "      <td>2.415914</td>\n",
              "      <td>2.493205</td>\n",
              "      <td>2.766319</td>\n",
              "    </tr>\n",
              "    <tr>\n",
              "      <th>quality</th>\n",
              "      <td>1599.0</td>\n",
              "      <td>1.885054</td>\n",
              "      <td>0.122749</td>\n",
              "      <td>1.386294</td>\n",
              "      <td>1.791759</td>\n",
              "      <td>1.945910</td>\n",
              "      <td>1.945910</td>\n",
              "      <td>2.197225</td>\n",
              "    </tr>\n",
              "  </tbody>\n",
              "</table>\n",
              "</div>\n",
              "      <button class=\"colab-df-convert\" onclick=\"convertToInteractive('df-20b1e86c-cb5c-470d-b8c3-2ec1866d2471')\"\n",
              "              title=\"Convert this dataframe to an interactive table.\"\n",
              "              style=\"display:none;\">\n",
              "        \n",
              "  <svg xmlns=\"http://www.w3.org/2000/svg\" height=\"24px\"viewBox=\"0 0 24 24\"\n",
              "       width=\"24px\">\n",
              "    <path d=\"M0 0h24v24H0V0z\" fill=\"none\"/>\n",
              "    <path d=\"M18.56 5.44l.94 2.06.94-2.06 2.06-.94-2.06-.94-.94-2.06-.94 2.06-2.06.94zm-11 1L8.5 8.5l.94-2.06 2.06-.94-2.06-.94L8.5 2.5l-.94 2.06-2.06.94zm10 10l.94 2.06.94-2.06 2.06-.94-2.06-.94-.94-2.06-.94 2.06-2.06.94z\"/><path d=\"M17.41 7.96l-1.37-1.37c-.4-.4-.92-.59-1.43-.59-.52 0-1.04.2-1.43.59L10.3 9.45l-7.72 7.72c-.78.78-.78 2.05 0 2.83L4 21.41c.39.39.9.59 1.41.59.51 0 1.02-.2 1.41-.59l7.78-7.78 2.81-2.81c.8-.78.8-2.07 0-2.86zM5.41 20L4 18.59l7.72-7.72 1.47 1.35L5.41 20z\"/>\n",
              "  </svg>\n",
              "      </button>\n",
              "      \n",
              "  <style>\n",
              "    .colab-df-container {\n",
              "      display:flex;\n",
              "      flex-wrap:wrap;\n",
              "      gap: 12px;\n",
              "    }\n",
              "\n",
              "    .colab-df-convert {\n",
              "      background-color: #E8F0FE;\n",
              "      border: none;\n",
              "      border-radius: 50%;\n",
              "      cursor: pointer;\n",
              "      display: none;\n",
              "      fill: #1967D2;\n",
              "      height: 32px;\n",
              "      padding: 0 0 0 0;\n",
              "      width: 32px;\n",
              "    }\n",
              "\n",
              "    .colab-df-convert:hover {\n",
              "      background-color: #E2EBFA;\n",
              "      box-shadow: 0px 1px 2px rgba(60, 64, 67, 0.3), 0px 1px 3px 1px rgba(60, 64, 67, 0.15);\n",
              "      fill: #174EA6;\n",
              "    }\n",
              "\n",
              "    [theme=dark] .colab-df-convert {\n",
              "      background-color: #3B4455;\n",
              "      fill: #D2E3FC;\n",
              "    }\n",
              "\n",
              "    [theme=dark] .colab-df-convert:hover {\n",
              "      background-color: #434B5C;\n",
              "      box-shadow: 0px 1px 3px 1px rgba(0, 0, 0, 0.15);\n",
              "      filter: drop-shadow(0px 1px 2px rgba(0, 0, 0, 0.3));\n",
              "      fill: #FFFFFF;\n",
              "    }\n",
              "  </style>\n",
              "\n",
              "      <script>\n",
              "        const buttonEl =\n",
              "          document.querySelector('#df-20b1e86c-cb5c-470d-b8c3-2ec1866d2471 button.colab-df-convert');\n",
              "        buttonEl.style.display =\n",
              "          google.colab.kernel.accessAllowed ? 'block' : 'none';\n",
              "\n",
              "        async function convertToInteractive(key) {\n",
              "          const element = document.querySelector('#df-20b1e86c-cb5c-470d-b8c3-2ec1866d2471');\n",
              "          const dataTable =\n",
              "            await google.colab.kernel.invokeFunction('convertToInteractive',\n",
              "                                                     [key], {});\n",
              "          if (!dataTable) return;\n",
              "\n",
              "          const docLinkHtml = 'Like what you see? Visit the ' +\n",
              "            '<a target=\"_blank\" href=https://colab.research.google.com/notebooks/data_table.ipynb>data table notebook</a>'\n",
              "            + ' to learn more about interactive tables.';\n",
              "          element.innerHTML = '';\n",
              "          dataTable['output_type'] = 'display_data';\n",
              "          await google.colab.output.renderOutput(dataTable, element);\n",
              "          const docLink = document.createElement('div');\n",
              "          docLink.innerHTML = docLinkHtml;\n",
              "          element.appendChild(docLink);\n",
              "        }\n",
              "      </script>\n",
              "    </div>\n",
              "  </div>\n",
              "  "
            ]
          },
          "metadata": {},
          "execution_count": 71
        }
      ]
    },
    {
      "cell_type": "markdown",
      "source": [
        "##**6. PolyNomial Features**##\n",
        "check out Demonstration of data transformation vedio"
      ],
      "metadata": {
        "id": "zjnVaHcqXPMs"
      }
    },
    {
      "cell_type": "markdown",
      "source": [
        "##**7. Discretization**##\n",
        "(also known as quantization or binning) provides a way to partition continous features into discrete values\n",
        "\n",
        "* One-hot enconded discretized features can make a model more expressive while maintaining interpretability\n",
        "* For instance,pre-processing with a discretizer can introduce nolinearity to linear models"
      ],
      "metadata": {
        "id": "ER-CM4YyZ5t6"
      }
    },
    {
      "cell_type": "code",
      "source": [
        "#KBinsDiscretizer discretizes feature into k bins\n",
        "from sklearn.preprocessing import KBinsDiscretizer"
      ],
      "metadata": {
        "id": "8e_IIepJWVJs"
      },
      "execution_count": 72,
      "outputs": []
    },
    {
      "cell_type": "code",
      "source": [
        "wine_data=wine_data.copy()\n",
        "\n",
        "enc=KBinsDiscretizer(n_bins=10,encode=\"onehot\")\n",
        "X=np.array(wine_data['chlorides']).reshape(-1,1)\n",
        "X_binned=enc.fit_transform(X)"
      ],
      "metadata": {
        "id": "XrBFo5y5bG30"
      },
      "execution_count": 73,
      "outputs": []
    },
    {
      "cell_type": "code",
      "source": [
        "X_binned"
      ],
      "metadata": {
        "colab": {
          "base_uri": "https://localhost:8080/"
        },
        "id": "zXVKztNlb7ro",
        "outputId": "1e40de35-84e3-432c-d6b1-a6c0aee4486e"
      },
      "execution_count": 74,
      "outputs": [
        {
          "output_type": "execute_result",
          "data": {
            "text/plain": [
              "<1599x10 sparse matrix of type '<class 'numpy.float64'>'\n",
              "\twith 1599 stored elements in Compressed Sparse Row format>"
            ]
          },
          "metadata": {},
          "execution_count": 74
        }
      ]
    },
    {
      "cell_type": "code",
      "source": [
        "X_binned.toarray()[:5]"
      ],
      "metadata": {
        "colab": {
          "base_uri": "https://localhost:8080/"
        },
        "id": "olNma8MwcGyM",
        "outputId": "7ffac6fa-a233-4ea8-df8d-fff26b35fffe"
      },
      "execution_count": 75,
      "outputs": [
        {
          "output_type": "execute_result",
          "data": {
            "text/plain": [
              "array([[0., 0., 0., 0., 1., 0., 0., 0., 0., 0.],\n",
              "       [0., 0., 0., 0., 0., 0., 0., 0., 1., 0.],\n",
              "       [0., 0., 0., 0., 0., 0., 0., 1., 0., 0.],\n",
              "       [0., 0., 0., 1., 0., 0., 0., 0., 0., 0.],\n",
              "       [0., 0., 0., 0., 1., 0., 0., 0., 0., 0.]])"
            ]
          },
          "metadata": {},
          "execution_count": 75
        }
      ]
    },
    {
      "cell_type": "markdown",
      "source": [
        "##**8. Handling Categorical Features**\n",
        "We need convert the categorical features into numeric features.\n",
        "* Ordinal enconding\n",
        "* One-hot encoding\n",
        "* Label encoder\n",
        "* Using dummy variables\n",
        "\n",
        "###**Ordinal Encoding**\n",
        "\n",
        "Categorical features are those that contain categories or groups.These are non-numerical features and need to be converted into appropriate from before they feeding them for training on ML model\n",
        "\n",
        "we can give numbers to model according to category\n",
        "Problem: suppose Punjab has number 1 and himachal as 2 maybe model can think of himachal as twiice of punjab"
      ],
      "metadata": {
        "id": "HDMBNj0if01V"
      }
    },
    {
      "cell_type": "markdown",
      "source": [
        "###**One -hot encoding**\n",
        "This approach consists of creating an additional feature for each label present in the categorical feature\n",
        "\n"
      ],
      "metadata": {
        "id": "Sldr3A-fh3Nr"
      }
    },
    {
      "cell_type": "code",
      "source": [
        "from sklearn.preprocessing import OrdinalEncoder\n",
        "from sklearn.preprocessing import OneHotEncoder"
      ],
      "metadata": {
        "id": "sWa1W_PAfj2t"
      },
      "execution_count": 76,
      "outputs": []
    },
    {
      "cell_type": "code",
      "source": [
        "cols=['sepal length','sepal width','petal length','petal width','label']\n",
        "iris_data=pd.read_csv('https://archive.ics.uci.edu/ml/machine-learning-databases/iris/iris.data',header=None,names=cols)\n",
        "iris_data.head()"
      ],
      "metadata": {
        "colab": {
          "base_uri": "https://localhost:8080/",
          "height": 206
        },
        "id": "vX74AjYai6gh",
        "outputId": "67b2abfa-4357-48cb-f172-7d3de3896e2b"
      },
      "execution_count": 77,
      "outputs": [
        {
          "output_type": "execute_result",
          "data": {
            "text/plain": [
              "   sepal length  sepal width  petal length  petal width        label\n",
              "0           5.1          3.5           1.4          0.2  Iris-setosa\n",
              "1           4.9          3.0           1.4          0.2  Iris-setosa\n",
              "2           4.7          3.2           1.3          0.2  Iris-setosa\n",
              "3           4.6          3.1           1.5          0.2  Iris-setosa\n",
              "4           5.0          3.6           1.4          0.2  Iris-setosa"
            ],
            "text/html": [
              "\n",
              "  <div id=\"df-71e43ae4-c3f6-4225-85c2-bbe82379c74f\">\n",
              "    <div class=\"colab-df-container\">\n",
              "      <div>\n",
              "<style scoped>\n",
              "    .dataframe tbody tr th:only-of-type {\n",
              "        vertical-align: middle;\n",
              "    }\n",
              "\n",
              "    .dataframe tbody tr th {\n",
              "        vertical-align: top;\n",
              "    }\n",
              "\n",
              "    .dataframe thead th {\n",
              "        text-align: right;\n",
              "    }\n",
              "</style>\n",
              "<table border=\"1\" class=\"dataframe\">\n",
              "  <thead>\n",
              "    <tr style=\"text-align: right;\">\n",
              "      <th></th>\n",
              "      <th>sepal length</th>\n",
              "      <th>sepal width</th>\n",
              "      <th>petal length</th>\n",
              "      <th>petal width</th>\n",
              "      <th>label</th>\n",
              "    </tr>\n",
              "  </thead>\n",
              "  <tbody>\n",
              "    <tr>\n",
              "      <th>0</th>\n",
              "      <td>5.1</td>\n",
              "      <td>3.5</td>\n",
              "      <td>1.4</td>\n",
              "      <td>0.2</td>\n",
              "      <td>Iris-setosa</td>\n",
              "    </tr>\n",
              "    <tr>\n",
              "      <th>1</th>\n",
              "      <td>4.9</td>\n",
              "      <td>3.0</td>\n",
              "      <td>1.4</td>\n",
              "      <td>0.2</td>\n",
              "      <td>Iris-setosa</td>\n",
              "    </tr>\n",
              "    <tr>\n",
              "      <th>2</th>\n",
              "      <td>4.7</td>\n",
              "      <td>3.2</td>\n",
              "      <td>1.3</td>\n",
              "      <td>0.2</td>\n",
              "      <td>Iris-setosa</td>\n",
              "    </tr>\n",
              "    <tr>\n",
              "      <th>3</th>\n",
              "      <td>4.6</td>\n",
              "      <td>3.1</td>\n",
              "      <td>1.5</td>\n",
              "      <td>0.2</td>\n",
              "      <td>Iris-setosa</td>\n",
              "    </tr>\n",
              "    <tr>\n",
              "      <th>4</th>\n",
              "      <td>5.0</td>\n",
              "      <td>3.6</td>\n",
              "      <td>1.4</td>\n",
              "      <td>0.2</td>\n",
              "      <td>Iris-setosa</td>\n",
              "    </tr>\n",
              "  </tbody>\n",
              "</table>\n",
              "</div>\n",
              "      <button class=\"colab-df-convert\" onclick=\"convertToInteractive('df-71e43ae4-c3f6-4225-85c2-bbe82379c74f')\"\n",
              "              title=\"Convert this dataframe to an interactive table.\"\n",
              "              style=\"display:none;\">\n",
              "        \n",
              "  <svg xmlns=\"http://www.w3.org/2000/svg\" height=\"24px\"viewBox=\"0 0 24 24\"\n",
              "       width=\"24px\">\n",
              "    <path d=\"M0 0h24v24H0V0z\" fill=\"none\"/>\n",
              "    <path d=\"M18.56 5.44l.94 2.06.94-2.06 2.06-.94-2.06-.94-.94-2.06-.94 2.06-2.06.94zm-11 1L8.5 8.5l.94-2.06 2.06-.94-2.06-.94L8.5 2.5l-.94 2.06-2.06.94zm10 10l.94 2.06.94-2.06 2.06-.94-2.06-.94-.94-2.06-.94 2.06-2.06.94z\"/><path d=\"M17.41 7.96l-1.37-1.37c-.4-.4-.92-.59-1.43-.59-.52 0-1.04.2-1.43.59L10.3 9.45l-7.72 7.72c-.78.78-.78 2.05 0 2.83L4 21.41c.39.39.9.59 1.41.59.51 0 1.02-.2 1.41-.59l7.78-7.78 2.81-2.81c.8-.78.8-2.07 0-2.86zM5.41 20L4 18.59l7.72-7.72 1.47 1.35L5.41 20z\"/>\n",
              "  </svg>\n",
              "      </button>\n",
              "      \n",
              "  <style>\n",
              "    .colab-df-container {\n",
              "      display:flex;\n",
              "      flex-wrap:wrap;\n",
              "      gap: 12px;\n",
              "    }\n",
              "\n",
              "    .colab-df-convert {\n",
              "      background-color: #E8F0FE;\n",
              "      border: none;\n",
              "      border-radius: 50%;\n",
              "      cursor: pointer;\n",
              "      display: none;\n",
              "      fill: #1967D2;\n",
              "      height: 32px;\n",
              "      padding: 0 0 0 0;\n",
              "      width: 32px;\n",
              "    }\n",
              "\n",
              "    .colab-df-convert:hover {\n",
              "      background-color: #E2EBFA;\n",
              "      box-shadow: 0px 1px 2px rgba(60, 64, 67, 0.3), 0px 1px 3px 1px rgba(60, 64, 67, 0.15);\n",
              "      fill: #174EA6;\n",
              "    }\n",
              "\n",
              "    [theme=dark] .colab-df-convert {\n",
              "      background-color: #3B4455;\n",
              "      fill: #D2E3FC;\n",
              "    }\n",
              "\n",
              "    [theme=dark] .colab-df-convert:hover {\n",
              "      background-color: #434B5C;\n",
              "      box-shadow: 0px 1px 3px 1px rgba(0, 0, 0, 0.15);\n",
              "      filter: drop-shadow(0px 1px 2px rgba(0, 0, 0, 0.3));\n",
              "      fill: #FFFFFF;\n",
              "    }\n",
              "  </style>\n",
              "\n",
              "      <script>\n",
              "        const buttonEl =\n",
              "          document.querySelector('#df-71e43ae4-c3f6-4225-85c2-bbe82379c74f button.colab-df-convert');\n",
              "        buttonEl.style.display =\n",
              "          google.colab.kernel.accessAllowed ? 'block' : 'none';\n",
              "\n",
              "        async function convertToInteractive(key) {\n",
              "          const element = document.querySelector('#df-71e43ae4-c3f6-4225-85c2-bbe82379c74f');\n",
              "          const dataTable =\n",
              "            await google.colab.kernel.invokeFunction('convertToInteractive',\n",
              "                                                     [key], {});\n",
              "          if (!dataTable) return;\n",
              "\n",
              "          const docLinkHtml = 'Like what you see? Visit the ' +\n",
              "            '<a target=\"_blank\" href=https://colab.research.google.com/notebooks/data_table.ipynb>data table notebook</a>'\n",
              "            + ' to learn more about interactive tables.';\n",
              "          element.innerHTML = '';\n",
              "          dataTable['output_type'] = 'display_data';\n",
              "          await google.colab.output.renderOutput(dataTable, element);\n",
              "          const docLink = document.createElement('div');\n",
              "          docLink.innerHTML = docLinkHtml;\n",
              "          element.appendChild(docLink);\n",
              "        }\n",
              "      </script>\n",
              "    </div>\n",
              "  </div>\n",
              "  "
            ]
          },
          "metadata": {},
          "execution_count": 77
        }
      ]
    },
    {
      "cell_type": "code",
      "source": [
        "iris_data.label.unique()"
      ],
      "metadata": {
        "colab": {
          "base_uri": "https://localhost:8080/"
        },
        "id": "sNzgkPGjjkvX",
        "outputId": "0900ed3a-ab4d-4a51-8a71-5ea3937d4f0e"
      },
      "execution_count": 78,
      "outputs": [
        {
          "output_type": "execute_result",
          "data": {
            "text/plain": [
              "array(['Iris-setosa', 'Iris-versicolor', 'Iris-virginica'], dtype=object)"
            ]
          },
          "metadata": {},
          "execution_count": 78
        }
      ]
    },
    {
      "cell_type": "markdown",
      "source": [
        "There are three class labels .Let's convert them to one hot vectors"
      ],
      "metadata": {
        "id": "qzKEF8ZYj1qz"
      }
    },
    {
      "cell_type": "code",
      "source": [
        "onehotencoder=OneHotEncoder(categories='auto')\n",
        "print('Shape of y before encoding',iris_data.label.shape)\n",
        "\n",
        "iris_labels=onehotencoder.fit_transform(iris_data.label.values.reshape(-1,1))\n",
        "print('Shape of y after encoding',iris_labels.shape)\n",
        "\n",
        "print(\"First 5 labels:\")\n",
        "print(iris_labels.toarray()[:5])"
      ],
      "metadata": {
        "colab": {
          "base_uri": "https://localhost:8080/"
        },
        "id": "__XQx4uCjxaQ",
        "outputId": "ee2f23b2-5e25-46bf-f45b-d0fdc14d8bec"
      },
      "execution_count": 79,
      "outputs": [
        {
          "output_type": "stream",
          "name": "stdout",
          "text": [
            "Shape of y before encoding (150,)\n",
            "Shape of y after encoding (150, 3)\n",
            "First 5 labels:\n",
            "[[1. 0. 0.]\n",
            " [1. 0. 0.]\n",
            " [1. 0. 0.]\n",
            " [1. 0. 0.]\n",
            " [1. 0. 0.]]\n"
          ]
        }
      ]
    },
    {
      "cell_type": "code",
      "source": [
        "enc=OrdinalEncoder()\n",
        "iris_labels=np.array(iris_data['label'])\n",
        "\n",
        "iris_labels_transformed=enc.fit_transform(iris_labels.reshape(-1,1))\n",
        "print(\"Unique labels\",np.unique(iris_labels_transformed))\n",
        "\n",
        "print(\"\\nFirst 5 labels:\")\n",
        "print(iris_labels_transformed[:5])"
      ],
      "metadata": {
        "colab": {
          "base_uri": "https://localhost:8080/"
        },
        "id": "o-rxJgYTlIoM",
        "outputId": "4056b930-77e5-4c04-ed57-7c0a7cddde40"
      },
      "execution_count": 80,
      "outputs": [
        {
          "output_type": "stream",
          "name": "stdout",
          "text": [
            "Unique labels [0. 1. 2.]\n",
            "\n",
            "First 5 labels:\n",
            "[[0.]\n",
            " [0.]\n",
            " [0.]\n",
            " [0.]\n",
            " [0.]]\n"
          ]
        }
      ]
    },
    {
      "cell_type": "markdown",
      "source": [
        "##**LabelEncoder**"
      ],
      "metadata": {
        "id": "U7ygKROzmYr2"
      }
    },
    {
      "cell_type": "code",
      "source": [
        "from sklearn.preprocessing import LabelEncoder"
      ],
      "metadata": {
        "id": "oAYJHj7FmRig"
      },
      "execution_count": 81,
      "outputs": []
    },
    {
      "cell_type": "code",
      "source": [
        "iris_labels=np.array(iris_data['label'])\n",
        "\n",
        "enc=LabelEncoder()\n",
        "label_integer=enc.fit_transform(iris_labels)\n",
        "label_integer"
      ],
      "metadata": {
        "colab": {
          "base_uri": "https://localhost:8080/"
        },
        "id": "EgBs1RjRmm8J",
        "outputId": "991a98a8-5031-47b9-c8b6-9d92389c1117"
      },
      "execution_count": 82,
      "outputs": [
        {
          "output_type": "execute_result",
          "data": {
            "text/plain": [
              "array([0, 0, 0, 0, 0, 0, 0, 0, 0, 0, 0, 0, 0, 0, 0, 0, 0, 0, 0, 0, 0, 0,\n",
              "       0, 0, 0, 0, 0, 0, 0, 0, 0, 0, 0, 0, 0, 0, 0, 0, 0, 0, 0, 0, 0, 0,\n",
              "       0, 0, 0, 0, 0, 0, 1, 1, 1, 1, 1, 1, 1, 1, 1, 1, 1, 1, 1, 1, 1, 1,\n",
              "       1, 1, 1, 1, 1, 1, 1, 1, 1, 1, 1, 1, 1, 1, 1, 1, 1, 1, 1, 1, 1, 1,\n",
              "       1, 1, 1, 1, 1, 1, 1, 1, 1, 1, 1, 1, 2, 2, 2, 2, 2, 2, 2, 2, 2, 2,\n",
              "       2, 2, 2, 2, 2, 2, 2, 2, 2, 2, 2, 2, 2, 2, 2, 2, 2, 2, 2, 2, 2, 2,\n",
              "       2, 2, 2, 2, 2, 2, 2, 2, 2, 2, 2, 2, 2, 2, 2, 2, 2, 2])"
            ]
          },
          "metadata": {},
          "execution_count": 82
        }
      ]
    },
    {
      "cell_type": "markdown",
      "source": [
        "##**MultilabelBinarizer**\n",
        "Encodes categorical features with value between 0 and k-1 where k in number of calsses"
      ],
      "metadata": {
        "id": "GR92GjiKnB9r"
      }
    },
    {
      "cell_type": "code",
      "source": [
        "movie_genres=[{'action','comedy'},\n",
        "             {'comedy'},\n",
        "             {'action','thriller'},\n",
        "             {'science-fiction','action','thriller'}]"
      ],
      "metadata": {
        "id": "85I0mjY9m8Ks"
      },
      "execution_count": 83,
      "outputs": []
    },
    {
      "cell_type": "code",
      "source": [
        "from sklearn.preprocessing import MultiLabelBinarizer\n",
        "mlb=MultiLabelBinarizer()\n",
        "mlb.fit_transform(movie_genres)"
      ],
      "metadata": {
        "colab": {
          "base_uri": "https://localhost:8080/"
        },
        "id": "Pk2MTl3ynh2F",
        "outputId": "80a929bf-4a37-46a9-f55b-5365ce3ea494"
      },
      "execution_count": 84,
      "outputs": [
        {
          "output_type": "execute_result",
          "data": {
            "text/plain": [
              "array([[1, 1, 0, 0],\n",
              "       [0, 1, 0, 0],\n",
              "       [1, 0, 0, 1],\n",
              "       [1, 0, 1, 1]])"
            ]
          },
          "metadata": {},
          "execution_count": 84
        }
      ]
    },
    {
      "cell_type": "markdown",
      "source": [
        "Can be done \n",
        "##**Using dummy variables**"
      ],
      "metadata": {
        "id": "z1H5Q8rPoEis"
      }
    },
    {
      "cell_type": "markdown",
      "source": [
        "##**9. Composite Transformers**\n",
        "check out the week 2 second demonstration vedio"
      ],
      "metadata": {
        "id": "iC61Ni3CoRs1"
      }
    },
    {
      "cell_type": "markdown",
      "source": [
        "##**10. Feature Selection**\n",
        "\n",
        "sklearn.feature_selection modulehas useful API's to select features/reduce dimensionality,either to improve estimator's accuracy scores or to boost their performance on very high dimensional datasets"
      ],
      "metadata": {
        "id": "kjLw8pF6qYHz"
      }
    },
    {
      "cell_type": "markdown",
      "source": [
        "##Filter based methods\n",
        "\n",
        "##Variance threshhold\n",
        "This transformer helps to only high variance features by providing a certain threshold\n",
        "* Features with variance greater or equal to threshold value are kept rest are removed\n",
        "* By default it removes any feature with same value i.e 0 variance"
      ],
      "metadata": {
        "id": "AN6trPYjribf"
      }
    },
    {
      "cell_type": "code",
      "source": [
        "data=[\n",
        "      {'age':4,'height':96.0},\n",
        "      {'age':1,'height':73.9},\n",
        "      {'age':3,'height':88.9},\n",
        "      {'age':2,'height':81.6}\n",
        "]\n",
        "from sklearn.feature_extraction import DictVectorizer\n",
        "dv=DictVectorizer(sparse=False)\n",
        "data_transformed=dv.fit_transform(data)\n",
        "np.var(data_transformed,axis=0)"
      ],
      "metadata": {
        "id": "fHwAsN09nyIj",
        "colab": {
          "base_uri": "https://localhost:8080/"
        },
        "outputId": "7255a7e3-098a-4dfe-8cdf-62a8790d283b"
      },
      "execution_count": 85,
      "outputs": [
        {
          "output_type": "execute_result",
          "data": {
            "text/plain": [
              "array([ 1.25 , 67.735])"
            ]
          },
          "metadata": {},
          "execution_count": 85
        }
      ]
    },
    {
      "cell_type": "code",
      "source": [
        "from sklearn.feature_selection import VarianceThreshold\n",
        "\n",
        "vt=VarianceThreshold(threshold=9)\n",
        "data_new=vt.fit_transform(data_transformed)\n",
        "data_new"
      ],
      "metadata": {
        "colab": {
          "base_uri": "https://localhost:8080/"
        },
        "id": "WxMR_NxetC0-",
        "outputId": "45e1765d-9dbf-4661-fbe6-125acaede2b6"
      },
      "execution_count": 86,
      "outputs": [
        {
          "output_type": "execute_result",
          "data": {
            "text/plain": [
              "array([[96. ],\n",
              "       [73.9],\n",
              "       [88.9],\n",
              "       [81.6]])"
            ]
          },
          "metadata": {},
          "execution_count": 86
        }
      ]
    },
    {
      "cell_type": "markdown",
      "source": [
        "Age feature is removed because it's variance is below the threshold"
      ],
      "metadata": {
        "id": "pce7P-7xuI5V"
      }
    },
    {
      "cell_type": "markdown",
      "source": [
        "##SlectkBest\n",
        "it selects k highest sscoring features based on function and removes the rest of features"
      ],
      "metadata": {
        "id": "YX7tWYhWuRm8"
      }
    },
    {
      "cell_type": "code",
      "source": [
        "from sklearn.datasets import fetch_california_housing\n",
        "from sklearn.model_selection import train_test_split\n",
        "from sklearn.feature_selection import SelectKBest,mutual_info_regression\n",
        "\n",
        "X_california,y_california=fetch_california_housing(return_X_y=True)\n",
        "\n",
        "#selecting subset of data\n",
        "\n",
        "X,y=X_california[:2000,:],y_california[:2000]\n",
        "print(f'Shape of feature matrix before feature selection:{X.shape}')"
      ],
      "metadata": {
        "colab": {
          "base_uri": "https://localhost:8080/"
        },
        "id": "jeBspkVkt_Mq",
        "outputId": "fdce9939-5756-4a5e-e220-50a5345b280d"
      },
      "execution_count": 87,
      "outputs": [
        {
          "output_type": "stream",
          "name": "stdout",
          "text": [
            "Shape of feature matrix before feature selection:(2000, 8)\n"
          ]
        }
      ]
    },
    {
      "cell_type": "code",
      "source": [
        "skb=SelectKBest(mutual_info_regression,k=3)\n",
        "X_new=skb.fit_transform(X,y)\n",
        "print(f'Shape of feature matrix before feature selection:{X_new.shape}')"
      ],
      "metadata": {
        "colab": {
          "base_uri": "https://localhost:8080/"
        },
        "id": "2DnWfGyuvTtK",
        "outputId": "9fec38ba-2104-429f-9910-6c0eb8aad6f6"
      },
      "execution_count": 88,
      "outputs": [
        {
          "output_type": "stream",
          "name": "stdout",
          "text": [
            "Shape of feature matrix before feature selection:(2000, 3)\n"
          ]
        }
      ]
    },
    {
      "cell_type": "code",
      "source": [
        "skb.get_feature_names_out()"
      ],
      "metadata": {
        "colab": {
          "base_uri": "https://localhost:8080/"
        },
        "id": "K61rOQYzvm_R",
        "outputId": "6ccba7c0-60b1-4ae5-f08d-3832edbdae4b"
      },
      "execution_count": 89,
      "outputs": [
        {
          "output_type": "execute_result",
          "data": {
            "text/plain": [
              "array(['x0', 'x6', 'x7'], dtype=object)"
            ]
          },
          "metadata": {},
          "execution_count": 89
        }
      ]
    },
    {
      "cell_type": "markdown",
      "source": [
        "##SlectPercentile\n",
        "Very similar to SelectKBest from previous section the only difference is ,it selects top percentile of all featuers and drops the rest of the featuers\n",
        "* It also use a scoring function to decide importance of features"
      ],
      "metadata": {
        "id": "ht-8gvhEv6nP"
      }
    },
    {
      "cell_type": "code",
      "source": [
        "from sklearn.feature_selection import SelectPercentile\n",
        "sp=SelectPercentile(mutual_info_regression,percentile=30)\n",
        "X_new=sp.fit_transform(X,y)\n",
        "print(f'Shape of feature matrix before feature selection:{X_new.shape}')"
      ],
      "metadata": {
        "colab": {
          "base_uri": "https://localhost:8080/"
        },
        "id": "tWBvzaexvzoo",
        "outputId": "6b1d0c5d-ee37-45d4-92a2-f5b53675bef8"
      },
      "execution_count": 90,
      "outputs": [
        {
          "output_type": "stream",
          "name": "stdout",
          "text": [
            "Shape of feature matrix before feature selection:(2000, 3)\n"
          ]
        }
      ]
    },
    {
      "cell_type": "code",
      "source": [
        "sp.get_feature_names_out()"
      ],
      "metadata": {
        "colab": {
          "base_uri": "https://localhost:8080/"
        },
        "id": "nbJmwIpOxFly",
        "outputId": "ce11b980-1ddf-42c8-d4d5-51dd9e99bc50"
      },
      "execution_count": 91,
      "outputs": [
        {
          "output_type": "execute_result",
          "data": {
            "text/plain": [
              "array(['x0', 'x6', 'x7'], dtype=object)"
            ]
          },
          "metadata": {},
          "execution_count": 91
        }
      ]
    },
    {
      "cell_type": "markdown",
      "source": [
        "##GenericUnivariateSelct\n",
        "It applies univariate feature selection with a certain strategy,which is passed to the API via mode Parameter.the mode can take one of the following values: `percentile`,`k_best`,`fpr`(false positive rate),`fdr`(false discovery rate),`fwe`(family wise error rate)"
      ],
      "metadata": {
        "id": "wbouW-3IxXFj"
      }
    },
    {
      "cell_type": "code",
      "source": [
        "from sklearn.feature_selection import GenericUnivariateSelect\n",
        "gus=GenericUnivariateSelect(mutual_info_regression,mode='k_best',param=3)\n",
        "X_new=gus.fit_transform(X,y)\n",
        "print(f'Shape of feature matrix before feature selection:{X.shape}')\n",
        "print(f'Shape of feature matrix before feature selection:{X_new.shape}')"
      ],
      "metadata": {
        "colab": {
          "base_uri": "https://localhost:8080/"
        },
        "id": "1hodwbtfxSYY",
        "outputId": "1b98c02e-88eb-49c6-f08d-b57018928d63"
      },
      "execution_count": 92,
      "outputs": [
        {
          "output_type": "stream",
          "name": "stdout",
          "text": [
            "Shape of feature matrix before feature selection:(2000, 8)\n",
            "Shape of feature matrix before feature selection:(2000, 3)\n"
          ]
        }
      ]
    },
    {
      "cell_type": "markdown",
      "source": [
        "##Wrapper based methods\n",
        "\n",
        "##RFE(Recursive Feature Elimination)\n",
        "\n",
        "* STEP1: fits a model and\n",
        "* STEP2: Ranks the feature afterwards it removes one or more features(depending upon step parameter)\n",
        "\n",
        "These two steps are repeated until desired number of feature are selected"
      ],
      "metadata": {
        "id": "g6yw18NkynQd"
      }
    },
    {
      "cell_type": "code",
      "source": [
        "from sklearn.datasets import make_friedman1\n",
        "from sklearn.feature_selection import RFE\n",
        "from sklearn.linear_model import LinearRegression\n",
        "\n",
        "estimator=LinearRegression()\n",
        "selector=RFE(estimator,n_features_to_select=3,step=1)\n",
        "selector=selector.fit(X,y)\n",
        "\n",
        "#support_attribute is a boolean array\n",
        "#marking which features are selected\n",
        "print(selector.support_)\n",
        "\n",
        "# rank of each feature\n",
        "# if it's value is '1' then it is selected\n",
        "# feature with rank 2 onwards are ranked least.\n",
        "print(f' rank of each feature is :{selector.ranking_}')"
      ],
      "metadata": {
        "colab": {
          "base_uri": "https://localhost:8080/"
        },
        "id": "yyt6qFjIyhPX",
        "outputId": "ecdcd253-d5ba-49ab-c7c2-25d54ad014f9"
      },
      "execution_count": 93,
      "outputs": [
        {
          "output_type": "stream",
          "name": "stdout",
          "text": [
            "[ True False False False False False  True  True]\n",
            " rank of each feature is :[1 5 4 3 6 2 1 1]\n"
          ]
        }
      ]
    },
    {
      "cell_type": "code",
      "source": [
        "X_new=selector.transform(X)\n",
        "print(f'Shape of feature matrix after feature selection:{X_new.shape}')"
      ],
      "metadata": {
        "colab": {
          "base_uri": "https://localhost:8080/"
        },
        "id": "DpvJCVjHKsNr",
        "outputId": "17df9382-5b5e-40b8-f7ab-2b17443f74eb"
      },
      "execution_count": 94,
      "outputs": [
        {
          "output_type": "stream",
          "name": "stdout",
          "text": [
            "Shape of feature matrix after feature selection:(2000, 3)\n"
          ]
        }
      ]
    },
    {
      "cell_type": "markdown",
      "source": [
        "##**RFE-CV**\n",
        "Same as RFE but it adds just the cross validations  "
      ],
      "metadata": {
        "id": "gxNL94IeMNWf"
      }
    },
    {
      "cell_type": "markdown",
      "source": [
        "##**SequentialFeatureSelection**\n",
        "it performs feature selection or deselecting features one by one in greedy manner\n"
      ],
      "metadata": {
        "id": "_LT52oRHMjO3"
      }
    },
    {
      "cell_type": "code",
      "source": [
        "from sklearn.feature_selection import SequentialFeatureSelector"
      ],
      "metadata": {
        "id": "7fAW8G5BMJzB"
      },
      "execution_count": 95,
      "outputs": []
    },
    {
      "cell_type": "code",
      "source": [
        "%%time\n",
        "estimator=LinearRegression()\n",
        "\n",
        "sfs=SequentialFeatureSelector(estimator,n_features_to_select=3)\n",
        "sfs.fit_transform(X,y)\n",
        "print(sfs.get_support())"
      ],
      "metadata": {
        "colab": {
          "base_uri": "https://localhost:8080/"
        },
        "id": "suoY6WksM64-",
        "outputId": "02fb1ccf-3fa0-47a1-b0e3-cf709a994617"
      },
      "execution_count": 96,
      "outputs": [
        {
          "output_type": "stream",
          "name": "stdout",
          "text": [
            "[ True False False False False  True  True False]\n",
            "CPU times: user 142 ms, sys: 0 ns, total: 142 ms\n",
            "Wall time: 142 ms\n"
          ]
        }
      ]
    },
    {
      "cell_type": "code",
      "source": [
        "%%time\n",
        "estimator=LinearRegression()\n",
        "sfs=SequentialFeatureSelector(estimator,n_features_to_select=3,direction='backward')\n",
        "sfs.fit_transform(X,y)\n",
        "print(sfs.get_support())"
      ],
      "metadata": {
        "colab": {
          "base_uri": "https://localhost:8080/"
        },
        "id": "CCqxAXkNNftR",
        "outputId": "156f8719-ed08-4c85-d3fb-031990851435"
      },
      "execution_count": 97,
      "outputs": [
        {
          "output_type": "stream",
          "name": "stdout",
          "text": [
            "[ True False False False False  True  True False]\n",
            "CPU times: user 319 ms, sys: 164 ms, total: 484 ms\n",
            "Wall time: 299 ms\n"
          ]
        }
      ]
    },
    {
      "cell_type": "markdown",
      "source": [
        "* Bith forward and backward selection methods select the same features\n",
        "* The backward selection method takes longer than forward selection method"
      ],
      "metadata": {
        "id": "DVO8mzzkQnCY"
      }
    },
    {
      "cell_type": "markdown",
      "source": [
        "Basicaly called feature reduction or dimentionality reduction\n",
        "##**PCA**\n",
        "PCA is used to decompose a multivariate dataset in a set of successive orthogonal components that capture maximum amount of the variance"
      ],
      "metadata": {
        "id": "12DZYGLhQ5fn"
      }
    },
    {
      "cell_type": "code",
      "source": [
        "from sklearn.decomposition import PCA\n",
        "pca=PCA(n_components=2)\n",
        "pca.fit(X)"
      ],
      "metadata": {
        "colab": {
          "base_uri": "https://localhost:8080/",
          "height": 75
        },
        "id": "hepODh0ZQaFZ",
        "outputId": "dc79d50b-b63c-4e8c-b034-c68ce6831419"
      },
      "execution_count": 98,
      "outputs": [
        {
          "output_type": "execute_result",
          "data": {
            "text/plain": [
              "PCA(n_components=2)"
            ],
            "text/html": [
              "<style>#sk-4bb7f53b-9b0b-4f47-b31c-224967f84d2e {color: black;background-color: white;}#sk-4bb7f53b-9b0b-4f47-b31c-224967f84d2e pre{padding: 0;}#sk-4bb7f53b-9b0b-4f47-b31c-224967f84d2e div.sk-toggleable {background-color: white;}#sk-4bb7f53b-9b0b-4f47-b31c-224967f84d2e label.sk-toggleable__label {cursor: pointer;display: block;width: 100%;margin-bottom: 0;padding: 0.3em;box-sizing: border-box;text-align: center;}#sk-4bb7f53b-9b0b-4f47-b31c-224967f84d2e label.sk-toggleable__label-arrow:before {content: \"▸\";float: left;margin-right: 0.25em;color: #696969;}#sk-4bb7f53b-9b0b-4f47-b31c-224967f84d2e label.sk-toggleable__label-arrow:hover:before {color: black;}#sk-4bb7f53b-9b0b-4f47-b31c-224967f84d2e div.sk-estimator:hover label.sk-toggleable__label-arrow:before {color: black;}#sk-4bb7f53b-9b0b-4f47-b31c-224967f84d2e div.sk-toggleable__content {max-height: 0;max-width: 0;overflow: hidden;text-align: left;background-color: #f0f8ff;}#sk-4bb7f53b-9b0b-4f47-b31c-224967f84d2e div.sk-toggleable__content pre {margin: 0.2em;color: black;border-radius: 0.25em;background-color: #f0f8ff;}#sk-4bb7f53b-9b0b-4f47-b31c-224967f84d2e input.sk-toggleable__control:checked~div.sk-toggleable__content {max-height: 200px;max-width: 100%;overflow: auto;}#sk-4bb7f53b-9b0b-4f47-b31c-224967f84d2e input.sk-toggleable__control:checked~label.sk-toggleable__label-arrow:before {content: \"▾\";}#sk-4bb7f53b-9b0b-4f47-b31c-224967f84d2e div.sk-estimator input.sk-toggleable__control:checked~label.sk-toggleable__label {background-color: #d4ebff;}#sk-4bb7f53b-9b0b-4f47-b31c-224967f84d2e div.sk-label input.sk-toggleable__control:checked~label.sk-toggleable__label {background-color: #d4ebff;}#sk-4bb7f53b-9b0b-4f47-b31c-224967f84d2e input.sk-hidden--visually {border: 0;clip: rect(1px 1px 1px 1px);clip: rect(1px, 1px, 1px, 1px);height: 1px;margin: -1px;overflow: hidden;padding: 0;position: absolute;width: 1px;}#sk-4bb7f53b-9b0b-4f47-b31c-224967f84d2e div.sk-estimator {font-family: monospace;background-color: #f0f8ff;border: 1px dotted black;border-radius: 0.25em;box-sizing: border-box;margin-bottom: 0.5em;}#sk-4bb7f53b-9b0b-4f47-b31c-224967f84d2e div.sk-estimator:hover {background-color: #d4ebff;}#sk-4bb7f53b-9b0b-4f47-b31c-224967f84d2e div.sk-parallel-item::after {content: \"\";width: 100%;border-bottom: 1px solid gray;flex-grow: 1;}#sk-4bb7f53b-9b0b-4f47-b31c-224967f84d2e div.sk-label:hover label.sk-toggleable__label {background-color: #d4ebff;}#sk-4bb7f53b-9b0b-4f47-b31c-224967f84d2e div.sk-serial::before {content: \"\";position: absolute;border-left: 1px solid gray;box-sizing: border-box;top: 2em;bottom: 0;left: 50%;}#sk-4bb7f53b-9b0b-4f47-b31c-224967f84d2e div.sk-serial {display: flex;flex-direction: column;align-items: center;background-color: white;padding-right: 0.2em;padding-left: 0.2em;}#sk-4bb7f53b-9b0b-4f47-b31c-224967f84d2e div.sk-item {z-index: 1;}#sk-4bb7f53b-9b0b-4f47-b31c-224967f84d2e div.sk-parallel {display: flex;align-items: stretch;justify-content: center;background-color: white;}#sk-4bb7f53b-9b0b-4f47-b31c-224967f84d2e div.sk-parallel::before {content: \"\";position: absolute;border-left: 1px solid gray;box-sizing: border-box;top: 2em;bottom: 0;left: 50%;}#sk-4bb7f53b-9b0b-4f47-b31c-224967f84d2e div.sk-parallel-item {display: flex;flex-direction: column;position: relative;background-color: white;}#sk-4bb7f53b-9b0b-4f47-b31c-224967f84d2e div.sk-parallel-item:first-child::after {align-self: flex-end;width: 50%;}#sk-4bb7f53b-9b0b-4f47-b31c-224967f84d2e div.sk-parallel-item:last-child::after {align-self: flex-start;width: 50%;}#sk-4bb7f53b-9b0b-4f47-b31c-224967f84d2e div.sk-parallel-item:only-child::after {width: 0;}#sk-4bb7f53b-9b0b-4f47-b31c-224967f84d2e div.sk-dashed-wrapped {border: 1px dashed gray;margin: 0 0.4em 0.5em 0.4em;box-sizing: border-box;padding-bottom: 0.4em;background-color: white;position: relative;}#sk-4bb7f53b-9b0b-4f47-b31c-224967f84d2e div.sk-label label {font-family: monospace;font-weight: bold;background-color: white;display: inline-block;line-height: 1.2em;}#sk-4bb7f53b-9b0b-4f47-b31c-224967f84d2e div.sk-label-container {position: relative;z-index: 2;text-align: center;}#sk-4bb7f53b-9b0b-4f47-b31c-224967f84d2e div.sk-container {/* jupyter's `normalize.less` sets `[hidden] { display: none; }` but bootstrap.min.css set `[hidden] { display: none !important; }` so we also need the `!important` here to be able to override the default hidden behavior on the sphinx rendered scikit-learn.org. See: https://github.com/scikit-learn/scikit-learn/issues/21755 */display: inline-block !important;position: relative;}#sk-4bb7f53b-9b0b-4f47-b31c-224967f84d2e div.sk-text-repr-fallback {display: none;}</style><div id=\"sk-4bb7f53b-9b0b-4f47-b31c-224967f84d2e\" class=\"sk-top-container\"><div class=\"sk-text-repr-fallback\"><pre>PCA(n_components=2)</pre><b>Please rerun this cell to show the HTML repr or trust the notebook.</b></div><div class=\"sk-container\" hidden><div class=\"sk-item\"><div class=\"sk-estimator sk-toggleable\"><input class=\"sk-toggleable__control sk-hidden--visually\" id=\"72726312-5d5e-4f78-b06e-cf6c7c6c6c93\" type=\"checkbox\" checked><label for=\"72726312-5d5e-4f78-b06e-cf6c7c6c6c93\" class=\"sk-toggleable__label sk-toggleable__label-arrow\">PCA</label><div class=\"sk-toggleable__content\"><pre>PCA(n_components=2)</pre></div></div></div></div></div>"
            ]
          },
          "metadata": {},
          "execution_count": 98
        }
      ]
    },
    {
      "cell_type": "code",
      "source": [
        " print(f'The {pca.n_components_} principal axes are \\n',pca.components_)"
      ],
      "metadata": {
        "colab": {
          "base_uri": "https://localhost:8080/"
        },
        "id": "yFoeYEbyRrAf",
        "outputId": "fe3e31da-5376-47ca-e298-a60976541b13"
      },
      "execution_count": 99,
      "outputs": [
        {
          "output_type": "stream",
          "name": "stdout",
          "text": [
            "The 2 principal axes are \n",
            " [[ 3.58746278e-04 -5.26626273e-03 -3.55739438e-04 -1.04636644e-04\n",
            "   9.99985993e-01  1.07189337e-04 -3.72926795e-05 -3.18638902e-05]\n",
            " [ 2.83042309e-02 -9.96787172e-01  7.04618553e-02  1.11176863e-02\n",
            "  -5.23215008e-03 -1.02817045e-03  1.45200590e-02  1.69252465e-02]]\n"
          ]
        }
      ]
    },
    {
      "cell_type": "code",
      "source": [
        "pca=PCA(n_components=4)\n",
        "pca.fit(X)\n",
        "X_pca=pca.transform(X)\n",
        "print('Original shape: ',X.shape)\n",
        "print('transformed shape',X_pca.shape)"
      ],
      "metadata": {
        "colab": {
          "base_uri": "https://localhost:8080/"
        },
        "id": "KcF3m-edSE_d",
        "outputId": "175369fe-c693-4182-e0f5-79af3fe5e6ad"
      },
      "execution_count": 100,
      "outputs": [
        {
          "output_type": "stream",
          "name": "stdout",
          "text": [
            "Original shape:  (2000, 8)\n",
            "transformed shape (2000, 4)\n"
          ]
        }
      ]
    },
    {
      "cell_type": "markdown",
      "source": [
        "##**Chaining Transformers**\n",
        "\n",
        "If we don't do all the above steps in sequence than it will lead to loss of data or something else \n",
        "\n",
        "##Pipeline\n",
        "So pipeline module of Scikit-learn is a tool that makes the preprocessing simple and easy by combining the transformations in a pipe\n",
        "\n",
        "The preprocessing transformations applied one after another on the input feature matrix.\n",
        "\n",
        "The sklearn.pipeline module provides untilities to build a composite estimator as chain of transformers and estimators"
      ],
      "metadata": {
        "id": "IKh9RxltsY_K"
      }
    },
    {
      "cell_type": "code",
      "source": [
        "from sklearn.pipeline import Pipeline\n",
        "from sklearn.impute import SimpleImputer\n",
        "from sklearn.preprocessing import StandardScaler\n",
        "\n",
        "estimators=[\n",
        "            ('simpleImputer',SimpleImputer()),\n",
        "            ('standardScaler',StandardScaler())\n",
        "]\n",
        "\n",
        "pipe=Pipeline(steps=estimators)"
      ],
      "metadata": {
        "id": "1YrmF7v7StKG"
      },
      "execution_count": 101,
      "outputs": []
    },
    {
      "cell_type": "markdown",
      "source": [
        "or can be done by `make_pipeline`"
      ],
      "metadata": {
        "id": "xlTtsDcxwyG-"
      }
    },
    {
      "cell_type": "code",
      "source": [
        "from sklearn.pipeline import make_pipeline\n",
        "pipe=make_pipeline(SimpleImputer(),\n",
        "                   StandardScaler())\n"
      ],
      "metadata": {
        "id": "D8ZM_zqywu2K"
      },
      "execution_count": 102,
      "outputs": []
    },
    {
      "cell_type": "code",
      "source": [
        "from sklearn.decomposition import PCA\n",
        "estimator =[\n",
        "            ('simpleImputer',SimpleImputer()),\n",
        "            ('pca',PCA()),\n",
        "            ('regressor',LinearRegression())\n",
        "]\n",
        "pipe=Pipeline(steps=estimator)"
      ],
      "metadata": {
        "id": "JPmrgTQ5xI4X"
      },
      "execution_count": 103,
      "outputs": []
    },
    {
      "cell_type": "code",
      "source": [
        "print(len(pipe.steps))"
      ],
      "metadata": {
        "colab": {
          "base_uri": "https://localhost:8080/"
        },
        "id": "Z-7RDqgnxh2p",
        "outputId": "17dcc593-dc8e-4251-f889-a5f7447d677b"
      },
      "execution_count": 104,
      "outputs": [
        {
          "output_type": "stream",
          "name": "stdout",
          "text": [
            "3\n"
          ]
        }
      ]
    },
    {
      "cell_type": "code",
      "source": [
        "print(pipe.steps)"
      ],
      "metadata": {
        "colab": {
          "base_uri": "https://localhost:8080/"
        },
        "id": "DTRrw_IWxtfQ",
        "outputId": "ffcf4960-b9c1-4ca5-a54c-1ba7c37cd6a0"
      },
      "execution_count": 105,
      "outputs": [
        {
          "output_type": "stream",
          "name": "stdout",
          "text": [
            "[('simpleImputer', SimpleImputer()), ('pca', PCA()), ('regressor', LinearRegression())]\n"
          ]
        }
      ]
    },
    {
      "cell_type": "code",
      "source": [
        " pipe['pca']"
      ],
      "metadata": {
        "colab": {
          "base_uri": "https://localhost:8080/",
          "height": 75
        },
        "id": "5iYa1TeSx6_o",
        "outputId": "40c9d108-6c5f-4e83-cee5-4671f594159a"
      },
      "execution_count": 106,
      "outputs": [
        {
          "output_type": "execute_result",
          "data": {
            "text/plain": [
              "PCA()"
            ],
            "text/html": [
              "<style>#sk-97878c71-27e3-4937-9903-e6acfc26ab04 {color: black;background-color: white;}#sk-97878c71-27e3-4937-9903-e6acfc26ab04 pre{padding: 0;}#sk-97878c71-27e3-4937-9903-e6acfc26ab04 div.sk-toggleable {background-color: white;}#sk-97878c71-27e3-4937-9903-e6acfc26ab04 label.sk-toggleable__label {cursor: pointer;display: block;width: 100%;margin-bottom: 0;padding: 0.3em;box-sizing: border-box;text-align: center;}#sk-97878c71-27e3-4937-9903-e6acfc26ab04 label.sk-toggleable__label-arrow:before {content: \"▸\";float: left;margin-right: 0.25em;color: #696969;}#sk-97878c71-27e3-4937-9903-e6acfc26ab04 label.sk-toggleable__label-arrow:hover:before {color: black;}#sk-97878c71-27e3-4937-9903-e6acfc26ab04 div.sk-estimator:hover label.sk-toggleable__label-arrow:before {color: black;}#sk-97878c71-27e3-4937-9903-e6acfc26ab04 div.sk-toggleable__content {max-height: 0;max-width: 0;overflow: hidden;text-align: left;background-color: #f0f8ff;}#sk-97878c71-27e3-4937-9903-e6acfc26ab04 div.sk-toggleable__content pre {margin: 0.2em;color: black;border-radius: 0.25em;background-color: #f0f8ff;}#sk-97878c71-27e3-4937-9903-e6acfc26ab04 input.sk-toggleable__control:checked~div.sk-toggleable__content {max-height: 200px;max-width: 100%;overflow: auto;}#sk-97878c71-27e3-4937-9903-e6acfc26ab04 input.sk-toggleable__control:checked~label.sk-toggleable__label-arrow:before {content: \"▾\";}#sk-97878c71-27e3-4937-9903-e6acfc26ab04 div.sk-estimator input.sk-toggleable__control:checked~label.sk-toggleable__label {background-color: #d4ebff;}#sk-97878c71-27e3-4937-9903-e6acfc26ab04 div.sk-label input.sk-toggleable__control:checked~label.sk-toggleable__label {background-color: #d4ebff;}#sk-97878c71-27e3-4937-9903-e6acfc26ab04 input.sk-hidden--visually {border: 0;clip: rect(1px 1px 1px 1px);clip: rect(1px, 1px, 1px, 1px);height: 1px;margin: -1px;overflow: hidden;padding: 0;position: absolute;width: 1px;}#sk-97878c71-27e3-4937-9903-e6acfc26ab04 div.sk-estimator {font-family: monospace;background-color: #f0f8ff;border: 1px dotted black;border-radius: 0.25em;box-sizing: border-box;margin-bottom: 0.5em;}#sk-97878c71-27e3-4937-9903-e6acfc26ab04 div.sk-estimator:hover {background-color: #d4ebff;}#sk-97878c71-27e3-4937-9903-e6acfc26ab04 div.sk-parallel-item::after {content: \"\";width: 100%;border-bottom: 1px solid gray;flex-grow: 1;}#sk-97878c71-27e3-4937-9903-e6acfc26ab04 div.sk-label:hover label.sk-toggleable__label {background-color: #d4ebff;}#sk-97878c71-27e3-4937-9903-e6acfc26ab04 div.sk-serial::before {content: \"\";position: absolute;border-left: 1px solid gray;box-sizing: border-box;top: 2em;bottom: 0;left: 50%;}#sk-97878c71-27e3-4937-9903-e6acfc26ab04 div.sk-serial {display: flex;flex-direction: column;align-items: center;background-color: white;padding-right: 0.2em;padding-left: 0.2em;}#sk-97878c71-27e3-4937-9903-e6acfc26ab04 div.sk-item {z-index: 1;}#sk-97878c71-27e3-4937-9903-e6acfc26ab04 div.sk-parallel {display: flex;align-items: stretch;justify-content: center;background-color: white;}#sk-97878c71-27e3-4937-9903-e6acfc26ab04 div.sk-parallel::before {content: \"\";position: absolute;border-left: 1px solid gray;box-sizing: border-box;top: 2em;bottom: 0;left: 50%;}#sk-97878c71-27e3-4937-9903-e6acfc26ab04 div.sk-parallel-item {display: flex;flex-direction: column;position: relative;background-color: white;}#sk-97878c71-27e3-4937-9903-e6acfc26ab04 div.sk-parallel-item:first-child::after {align-self: flex-end;width: 50%;}#sk-97878c71-27e3-4937-9903-e6acfc26ab04 div.sk-parallel-item:last-child::after {align-self: flex-start;width: 50%;}#sk-97878c71-27e3-4937-9903-e6acfc26ab04 div.sk-parallel-item:only-child::after {width: 0;}#sk-97878c71-27e3-4937-9903-e6acfc26ab04 div.sk-dashed-wrapped {border: 1px dashed gray;margin: 0 0.4em 0.5em 0.4em;box-sizing: border-box;padding-bottom: 0.4em;background-color: white;position: relative;}#sk-97878c71-27e3-4937-9903-e6acfc26ab04 div.sk-label label {font-family: monospace;font-weight: bold;background-color: white;display: inline-block;line-height: 1.2em;}#sk-97878c71-27e3-4937-9903-e6acfc26ab04 div.sk-label-container {position: relative;z-index: 2;text-align: center;}#sk-97878c71-27e3-4937-9903-e6acfc26ab04 div.sk-container {/* jupyter's `normalize.less` sets `[hidden] { display: none; }` but bootstrap.min.css set `[hidden] { display: none !important; }` so we also need the `!important` here to be able to override the default hidden behavior on the sphinx rendered scikit-learn.org. See: https://github.com/scikit-learn/scikit-learn/issues/21755 */display: inline-block !important;position: relative;}#sk-97878c71-27e3-4937-9903-e6acfc26ab04 div.sk-text-repr-fallback {display: none;}</style><div id=\"sk-97878c71-27e3-4937-9903-e6acfc26ab04\" class=\"sk-top-container\"><div class=\"sk-text-repr-fallback\"><pre>PCA()</pre><b>Please rerun this cell to show the HTML repr or trust the notebook.</b></div><div class=\"sk-container\" hidden><div class=\"sk-item\"><div class=\"sk-estimator sk-toggleable\"><input class=\"sk-toggleable__control sk-hidden--visually\" id=\"c831c950-b821-44c2-b924-f2c496352e02\" type=\"checkbox\" checked><label for=\"c831c950-b821-44c2-b924-f2c496352e02\" class=\"sk-toggleable__label sk-toggleable__label-arrow\">PCA</label><div class=\"sk-toggleable__content\"><pre>PCA()</pre></div></div></div></div></div>"
            ]
          },
          "metadata": {},
          "execution_count": 106
        }
      ]
    },
    {
      "cell_type": "markdown",
      "source": [
        "Setting up parametes of transformers inside pipeline"
      ],
      "metadata": {
        "id": "Y1YPNUcKyX7P"
      }
    },
    {
      "cell_type": "code",
      "source": [
        "pipe.set_params(pca__n_components=2)"
      ],
      "metadata": {
        "colab": {
          "base_uri": "https://localhost:8080/",
          "height": 162
        },
        "id": "7pzGzWh1yNfN",
        "outputId": "e62f1375-0f52-4251-98c0-c495d3763a15"
      },
      "execution_count": 107,
      "outputs": [
        {
          "output_type": "execute_result",
          "data": {
            "text/plain": [
              "Pipeline(steps=[('simpleImputer', SimpleImputer()),\n",
              "                ('pca', PCA(n_components=2)),\n",
              "                ('regressor', LinearRegression())])"
            ],
            "text/html": [
              "<style>#sk-a24ecb3d-70d6-453b-b222-8e36230de86c {color: black;background-color: white;}#sk-a24ecb3d-70d6-453b-b222-8e36230de86c pre{padding: 0;}#sk-a24ecb3d-70d6-453b-b222-8e36230de86c div.sk-toggleable {background-color: white;}#sk-a24ecb3d-70d6-453b-b222-8e36230de86c label.sk-toggleable__label {cursor: pointer;display: block;width: 100%;margin-bottom: 0;padding: 0.3em;box-sizing: border-box;text-align: center;}#sk-a24ecb3d-70d6-453b-b222-8e36230de86c label.sk-toggleable__label-arrow:before {content: \"▸\";float: left;margin-right: 0.25em;color: #696969;}#sk-a24ecb3d-70d6-453b-b222-8e36230de86c label.sk-toggleable__label-arrow:hover:before {color: black;}#sk-a24ecb3d-70d6-453b-b222-8e36230de86c div.sk-estimator:hover label.sk-toggleable__label-arrow:before {color: black;}#sk-a24ecb3d-70d6-453b-b222-8e36230de86c div.sk-toggleable__content {max-height: 0;max-width: 0;overflow: hidden;text-align: left;background-color: #f0f8ff;}#sk-a24ecb3d-70d6-453b-b222-8e36230de86c div.sk-toggleable__content pre {margin: 0.2em;color: black;border-radius: 0.25em;background-color: #f0f8ff;}#sk-a24ecb3d-70d6-453b-b222-8e36230de86c input.sk-toggleable__control:checked~div.sk-toggleable__content {max-height: 200px;max-width: 100%;overflow: auto;}#sk-a24ecb3d-70d6-453b-b222-8e36230de86c input.sk-toggleable__control:checked~label.sk-toggleable__label-arrow:before {content: \"▾\";}#sk-a24ecb3d-70d6-453b-b222-8e36230de86c div.sk-estimator input.sk-toggleable__control:checked~label.sk-toggleable__label {background-color: #d4ebff;}#sk-a24ecb3d-70d6-453b-b222-8e36230de86c div.sk-label input.sk-toggleable__control:checked~label.sk-toggleable__label {background-color: #d4ebff;}#sk-a24ecb3d-70d6-453b-b222-8e36230de86c input.sk-hidden--visually {border: 0;clip: rect(1px 1px 1px 1px);clip: rect(1px, 1px, 1px, 1px);height: 1px;margin: -1px;overflow: hidden;padding: 0;position: absolute;width: 1px;}#sk-a24ecb3d-70d6-453b-b222-8e36230de86c div.sk-estimator {font-family: monospace;background-color: #f0f8ff;border: 1px dotted black;border-radius: 0.25em;box-sizing: border-box;margin-bottom: 0.5em;}#sk-a24ecb3d-70d6-453b-b222-8e36230de86c div.sk-estimator:hover {background-color: #d4ebff;}#sk-a24ecb3d-70d6-453b-b222-8e36230de86c div.sk-parallel-item::after {content: \"\";width: 100%;border-bottom: 1px solid gray;flex-grow: 1;}#sk-a24ecb3d-70d6-453b-b222-8e36230de86c div.sk-label:hover label.sk-toggleable__label {background-color: #d4ebff;}#sk-a24ecb3d-70d6-453b-b222-8e36230de86c div.sk-serial::before {content: \"\";position: absolute;border-left: 1px solid gray;box-sizing: border-box;top: 2em;bottom: 0;left: 50%;}#sk-a24ecb3d-70d6-453b-b222-8e36230de86c div.sk-serial {display: flex;flex-direction: column;align-items: center;background-color: white;padding-right: 0.2em;padding-left: 0.2em;}#sk-a24ecb3d-70d6-453b-b222-8e36230de86c div.sk-item {z-index: 1;}#sk-a24ecb3d-70d6-453b-b222-8e36230de86c div.sk-parallel {display: flex;align-items: stretch;justify-content: center;background-color: white;}#sk-a24ecb3d-70d6-453b-b222-8e36230de86c div.sk-parallel::before {content: \"\";position: absolute;border-left: 1px solid gray;box-sizing: border-box;top: 2em;bottom: 0;left: 50%;}#sk-a24ecb3d-70d6-453b-b222-8e36230de86c div.sk-parallel-item {display: flex;flex-direction: column;position: relative;background-color: white;}#sk-a24ecb3d-70d6-453b-b222-8e36230de86c div.sk-parallel-item:first-child::after {align-self: flex-end;width: 50%;}#sk-a24ecb3d-70d6-453b-b222-8e36230de86c div.sk-parallel-item:last-child::after {align-self: flex-start;width: 50%;}#sk-a24ecb3d-70d6-453b-b222-8e36230de86c div.sk-parallel-item:only-child::after {width: 0;}#sk-a24ecb3d-70d6-453b-b222-8e36230de86c div.sk-dashed-wrapped {border: 1px dashed gray;margin: 0 0.4em 0.5em 0.4em;box-sizing: border-box;padding-bottom: 0.4em;background-color: white;position: relative;}#sk-a24ecb3d-70d6-453b-b222-8e36230de86c div.sk-label label {font-family: monospace;font-weight: bold;background-color: white;display: inline-block;line-height: 1.2em;}#sk-a24ecb3d-70d6-453b-b222-8e36230de86c div.sk-label-container {position: relative;z-index: 2;text-align: center;}#sk-a24ecb3d-70d6-453b-b222-8e36230de86c div.sk-container {/* jupyter's `normalize.less` sets `[hidden] { display: none; }` but bootstrap.min.css set `[hidden] { display: none !important; }` so we also need the `!important` here to be able to override the default hidden behavior on the sphinx rendered scikit-learn.org. See: https://github.com/scikit-learn/scikit-learn/issues/21755 */display: inline-block !important;position: relative;}#sk-a24ecb3d-70d6-453b-b222-8e36230de86c div.sk-text-repr-fallback {display: none;}</style><div id=\"sk-a24ecb3d-70d6-453b-b222-8e36230de86c\" class=\"sk-top-container\"><div class=\"sk-text-repr-fallback\"><pre>Pipeline(steps=[(&#x27;simpleImputer&#x27;, SimpleImputer()),\n",
              "                (&#x27;pca&#x27;, PCA(n_components=2)),\n",
              "                (&#x27;regressor&#x27;, LinearRegression())])</pre><b>Please rerun this cell to show the HTML repr or trust the notebook.</b></div><div class=\"sk-container\" hidden><div class=\"sk-item sk-dashed-wrapped\"><div class=\"sk-label-container\"><div class=\"sk-label sk-toggleable\"><input class=\"sk-toggleable__control sk-hidden--visually\" id=\"25c52c76-ddf4-4ec6-bea0-b86595299309\" type=\"checkbox\" ><label for=\"25c52c76-ddf4-4ec6-bea0-b86595299309\" class=\"sk-toggleable__label sk-toggleable__label-arrow\">Pipeline</label><div class=\"sk-toggleable__content\"><pre>Pipeline(steps=[(&#x27;simpleImputer&#x27;, SimpleImputer()),\n",
              "                (&#x27;pca&#x27;, PCA(n_components=2)),\n",
              "                (&#x27;regressor&#x27;, LinearRegression())])</pre></div></div></div><div class=\"sk-serial\"><div class=\"sk-item\"><div class=\"sk-estimator sk-toggleable\"><input class=\"sk-toggleable__control sk-hidden--visually\" id=\"f269cc03-4978-44a0-a321-a3af4866976e\" type=\"checkbox\" ><label for=\"f269cc03-4978-44a0-a321-a3af4866976e\" class=\"sk-toggleable__label sk-toggleable__label-arrow\">SimpleImputer</label><div class=\"sk-toggleable__content\"><pre>SimpleImputer()</pre></div></div></div><div class=\"sk-item\"><div class=\"sk-estimator sk-toggleable\"><input class=\"sk-toggleable__control sk-hidden--visually\" id=\"dd80314d-b170-47ec-ba4a-8f198427adb9\" type=\"checkbox\" ><label for=\"dd80314d-b170-47ec-ba4a-8f198427adb9\" class=\"sk-toggleable__label sk-toggleable__label-arrow\">PCA</label><div class=\"sk-toggleable__content\"><pre>PCA(n_components=2)</pre></div></div></div><div class=\"sk-item\"><div class=\"sk-estimator sk-toggleable\"><input class=\"sk-toggleable__control sk-hidden--visually\" id=\"4bf0d05e-9489-4924-8785-f374f4b2a034\" type=\"checkbox\" ><label for=\"4bf0d05e-9489-4924-8785-f374f4b2a034\" class=\"sk-toggleable__label sk-toggleable__label-arrow\">LinearRegression</label><div class=\"sk-toggleable__content\"><pre>LinearRegression()</pre></div></div></div></div></div></div></div>"
            ]
          },
          "metadata": {},
          "execution_count": 107
        }
      ]
    },
    {
      "cell_type": "markdown",
      "source": [
        "##**FeatureUnion**\n",
        "\n",
        "Concatenates results of multiple transforfmers object"
      ],
      "metadata": {
        "id": "8Q3_ON130YIm"
      }
    },
    {
      "cell_type": "code",
      "source": [
        "from sklearn.preprocessing import StandardScaler, LabelBinarizer\n",
        "from sklearn.pipeline import Pipeline, FeatureUnion\n",
        "from sklearn.compose import ColumnTransformer\n",
        "from sklearn.impute import SimpleImputer\n",
        "\n",
        "num_pipeline=Pipeline ([('selector',ColumnTransformer ([('select_first_4',\n",
        "                                                            'passthrough',\n",
        "                                                           slice(0,4))])),\n",
        "                          ('imputer', SimpleImputer (strategy=\"median\")),\n",
        "                          ('std scaler', StandardScaler()),\n",
        "])\n",
        "cat_pipeline=ColumnTransformer ([('label binarizer', LabelBinarizer(),141),\n",
        "])\n",
        "full_pipeline=FeatureUnion(transformer_list=\n",
        "                              [(\"num_pipeline\", num_pipeline),\n",
        "                               (\"cat pipeline\", cat_pipeline),\n",
        "])"
      ],
      "metadata": {
        "id": "n_U2gYyv0Dr3"
      },
      "execution_count": 108,
      "outputs": []
    },
    {
      "cell_type": "code",
      "source": [
        "from sklearn import set_config\n",
        "set_config(display='diagram')\n",
        "#display HTML representation in a jupyter context\n",
        "full_pipeline"
      ],
      "metadata": {
        "colab": {
          "base_uri": "https://localhost:8080/",
          "height": 246
        },
        "id": "CqAQG-ie1_62",
        "outputId": "6091c1d0-3f80-44ac-fe26-6def8bd263d2"
      },
      "execution_count": 109,
      "outputs": [
        {
          "output_type": "execute_result",
          "data": {
            "text/plain": [
              "FeatureUnion(transformer_list=[('num_pipeline',\n",
              "                                Pipeline(steps=[('selector',\n",
              "                                                 ColumnTransformer(transformers=[('select_first_4',\n",
              "                                                                                  'passthrough',\n",
              "                                                                                  slice(0, 4, None))])),\n",
              "                                                ('imputer',\n",
              "                                                 SimpleImputer(strategy='median')),\n",
              "                                                ('std scaler',\n",
              "                                                 StandardScaler())])),\n",
              "                               ('cat pipeline',\n",
              "                                ColumnTransformer(transformers=[('label '\n",
              "                                                                 'binarizer',\n",
              "                                                                 LabelBinarizer(),\n",
              "                                                                 141)]))])"
            ],
            "text/html": [
              "<style>#sk-5f672a5d-d082-4e19-89e5-db8195501e87 {color: black;background-color: white;}#sk-5f672a5d-d082-4e19-89e5-db8195501e87 pre{padding: 0;}#sk-5f672a5d-d082-4e19-89e5-db8195501e87 div.sk-toggleable {background-color: white;}#sk-5f672a5d-d082-4e19-89e5-db8195501e87 label.sk-toggleable__label {cursor: pointer;display: block;width: 100%;margin-bottom: 0;padding: 0.3em;box-sizing: border-box;text-align: center;}#sk-5f672a5d-d082-4e19-89e5-db8195501e87 label.sk-toggleable__label-arrow:before {content: \"▸\";float: left;margin-right: 0.25em;color: #696969;}#sk-5f672a5d-d082-4e19-89e5-db8195501e87 label.sk-toggleable__label-arrow:hover:before {color: black;}#sk-5f672a5d-d082-4e19-89e5-db8195501e87 div.sk-estimator:hover label.sk-toggleable__label-arrow:before {color: black;}#sk-5f672a5d-d082-4e19-89e5-db8195501e87 div.sk-toggleable__content {max-height: 0;max-width: 0;overflow: hidden;text-align: left;background-color: #f0f8ff;}#sk-5f672a5d-d082-4e19-89e5-db8195501e87 div.sk-toggleable__content pre {margin: 0.2em;color: black;border-radius: 0.25em;background-color: #f0f8ff;}#sk-5f672a5d-d082-4e19-89e5-db8195501e87 input.sk-toggleable__control:checked~div.sk-toggleable__content {max-height: 200px;max-width: 100%;overflow: auto;}#sk-5f672a5d-d082-4e19-89e5-db8195501e87 input.sk-toggleable__control:checked~label.sk-toggleable__label-arrow:before {content: \"▾\";}#sk-5f672a5d-d082-4e19-89e5-db8195501e87 div.sk-estimator input.sk-toggleable__control:checked~label.sk-toggleable__label {background-color: #d4ebff;}#sk-5f672a5d-d082-4e19-89e5-db8195501e87 div.sk-label input.sk-toggleable__control:checked~label.sk-toggleable__label {background-color: #d4ebff;}#sk-5f672a5d-d082-4e19-89e5-db8195501e87 input.sk-hidden--visually {border: 0;clip: rect(1px 1px 1px 1px);clip: rect(1px, 1px, 1px, 1px);height: 1px;margin: -1px;overflow: hidden;padding: 0;position: absolute;width: 1px;}#sk-5f672a5d-d082-4e19-89e5-db8195501e87 div.sk-estimator {font-family: monospace;background-color: #f0f8ff;border: 1px dotted black;border-radius: 0.25em;box-sizing: border-box;margin-bottom: 0.5em;}#sk-5f672a5d-d082-4e19-89e5-db8195501e87 div.sk-estimator:hover {background-color: #d4ebff;}#sk-5f672a5d-d082-4e19-89e5-db8195501e87 div.sk-parallel-item::after {content: \"\";width: 100%;border-bottom: 1px solid gray;flex-grow: 1;}#sk-5f672a5d-d082-4e19-89e5-db8195501e87 div.sk-label:hover label.sk-toggleable__label {background-color: #d4ebff;}#sk-5f672a5d-d082-4e19-89e5-db8195501e87 div.sk-serial::before {content: \"\";position: absolute;border-left: 1px solid gray;box-sizing: border-box;top: 2em;bottom: 0;left: 50%;}#sk-5f672a5d-d082-4e19-89e5-db8195501e87 div.sk-serial {display: flex;flex-direction: column;align-items: center;background-color: white;padding-right: 0.2em;padding-left: 0.2em;}#sk-5f672a5d-d082-4e19-89e5-db8195501e87 div.sk-item {z-index: 1;}#sk-5f672a5d-d082-4e19-89e5-db8195501e87 div.sk-parallel {display: flex;align-items: stretch;justify-content: center;background-color: white;}#sk-5f672a5d-d082-4e19-89e5-db8195501e87 div.sk-parallel::before {content: \"\";position: absolute;border-left: 1px solid gray;box-sizing: border-box;top: 2em;bottom: 0;left: 50%;}#sk-5f672a5d-d082-4e19-89e5-db8195501e87 div.sk-parallel-item {display: flex;flex-direction: column;position: relative;background-color: white;}#sk-5f672a5d-d082-4e19-89e5-db8195501e87 div.sk-parallel-item:first-child::after {align-self: flex-end;width: 50%;}#sk-5f672a5d-d082-4e19-89e5-db8195501e87 div.sk-parallel-item:last-child::after {align-self: flex-start;width: 50%;}#sk-5f672a5d-d082-4e19-89e5-db8195501e87 div.sk-parallel-item:only-child::after {width: 0;}#sk-5f672a5d-d082-4e19-89e5-db8195501e87 div.sk-dashed-wrapped {border: 1px dashed gray;margin: 0 0.4em 0.5em 0.4em;box-sizing: border-box;padding-bottom: 0.4em;background-color: white;position: relative;}#sk-5f672a5d-d082-4e19-89e5-db8195501e87 div.sk-label label {font-family: monospace;font-weight: bold;background-color: white;display: inline-block;line-height: 1.2em;}#sk-5f672a5d-d082-4e19-89e5-db8195501e87 div.sk-label-container {position: relative;z-index: 2;text-align: center;}#sk-5f672a5d-d082-4e19-89e5-db8195501e87 div.sk-container {/* jupyter's `normalize.less` sets `[hidden] { display: none; }` but bootstrap.min.css set `[hidden] { display: none !important; }` so we also need the `!important` here to be able to override the default hidden behavior on the sphinx rendered scikit-learn.org. See: https://github.com/scikit-learn/scikit-learn/issues/21755 */display: inline-block !important;position: relative;}#sk-5f672a5d-d082-4e19-89e5-db8195501e87 div.sk-text-repr-fallback {display: none;}</style><div id=\"sk-5f672a5d-d082-4e19-89e5-db8195501e87\" class=\"sk-top-container\"><div class=\"sk-text-repr-fallback\"><pre>FeatureUnion(transformer_list=[(&#x27;num_pipeline&#x27;,\n",
              "                                Pipeline(steps=[(&#x27;selector&#x27;,\n",
              "                                                 ColumnTransformer(transformers=[(&#x27;select_first_4&#x27;,\n",
              "                                                                                  &#x27;passthrough&#x27;,\n",
              "                                                                                  slice(0, 4, None))])),\n",
              "                                                (&#x27;imputer&#x27;,\n",
              "                                                 SimpleImputer(strategy=&#x27;median&#x27;)),\n",
              "                                                (&#x27;std scaler&#x27;,\n",
              "                                                 StandardScaler())])),\n",
              "                               (&#x27;cat pipeline&#x27;,\n",
              "                                ColumnTransformer(transformers=[(&#x27;label &#x27;\n",
              "                                                                 &#x27;binarizer&#x27;,\n",
              "                                                                 LabelBinarizer(),\n",
              "                                                                 141)]))])</pre><b>Please rerun this cell to show the HTML repr or trust the notebook.</b></div><div class=\"sk-container\" hidden><div class=\"sk-item sk-dashed-wrapped\"><div class=\"sk-label-container\"><div class=\"sk-label sk-toggleable\"><input class=\"sk-toggleable__control sk-hidden--visually\" id=\"24030a66-5506-42c8-80aa-865cb7696592\" type=\"checkbox\" ><label for=\"24030a66-5506-42c8-80aa-865cb7696592\" class=\"sk-toggleable__label sk-toggleable__label-arrow\">FeatureUnion</label><div class=\"sk-toggleable__content\"><pre>FeatureUnion(transformer_list=[(&#x27;num_pipeline&#x27;,\n",
              "                                Pipeline(steps=[(&#x27;selector&#x27;,\n",
              "                                                 ColumnTransformer(transformers=[(&#x27;select_first_4&#x27;,\n",
              "                                                                                  &#x27;passthrough&#x27;,\n",
              "                                                                                  slice(0, 4, None))])),\n",
              "                                                (&#x27;imputer&#x27;,\n",
              "                                                 SimpleImputer(strategy=&#x27;median&#x27;)),\n",
              "                                                (&#x27;std scaler&#x27;,\n",
              "                                                 StandardScaler())])),\n",
              "                               (&#x27;cat pipeline&#x27;,\n",
              "                                ColumnTransformer(transformers=[(&#x27;label &#x27;\n",
              "                                                                 &#x27;binarizer&#x27;,\n",
              "                                                                 LabelBinarizer(),\n",
              "                                                                 141)]))])</pre></div></div></div><div class=\"sk-parallel\"><div class=\"sk-parallel-item\"><div class=\"sk-item\"><div class=\"sk-label-container\"><div class=\"sk-label sk-toggleable\"><label>num_pipeline</label></div></div><div class=\"sk-serial\"><div class=\"sk-item\"><div class=\"sk-serial\"><div class=\"sk-item sk-dashed-wrapped\"><div class=\"sk-label-container\"><div class=\"sk-label sk-toggleable\"><input class=\"sk-toggleable__control sk-hidden--visually\" id=\"eb11dbf3-6498-49da-8f33-dd0c50365ce7\" type=\"checkbox\" ><label for=\"eb11dbf3-6498-49da-8f33-dd0c50365ce7\" class=\"sk-toggleable__label sk-toggleable__label-arrow\">selector: ColumnTransformer</label><div class=\"sk-toggleable__content\"><pre>ColumnTransformer(transformers=[(&#x27;select_first_4&#x27;, &#x27;passthrough&#x27;,\n",
              "                                 slice(0, 4, None))])</pre></div></div></div><div class=\"sk-parallel\"><div class=\"sk-parallel-item\"><div class=\"sk-item\"><div class=\"sk-label-container\"><div class=\"sk-label sk-toggleable\"><input class=\"sk-toggleable__control sk-hidden--visually\" id=\"98124d34-fdd7-4072-aaa7-84164b2fe6bc\" type=\"checkbox\" ><label for=\"98124d34-fdd7-4072-aaa7-84164b2fe6bc\" class=\"sk-toggleable__label sk-toggleable__label-arrow\">select_first_4</label><div class=\"sk-toggleable__content\"><pre>slice(0, 4, None)</pre></div></div></div><div class=\"sk-serial\"><div class=\"sk-item\"><div class=\"sk-estimator sk-toggleable\"><input class=\"sk-toggleable__control sk-hidden--visually\" id=\"577ad82b-c3f0-44b5-8c43-38b3e6d554e3\" type=\"checkbox\" ><label for=\"577ad82b-c3f0-44b5-8c43-38b3e6d554e3\" class=\"sk-toggleable__label sk-toggleable__label-arrow\">passthrough</label><div class=\"sk-toggleable__content\"><pre>passthrough</pre></div></div></div></div></div></div></div></div><div class=\"sk-item\"><div class=\"sk-estimator sk-toggleable\"><input class=\"sk-toggleable__control sk-hidden--visually\" id=\"6c066198-7c34-423e-82f4-3f49f6c127a5\" type=\"checkbox\" ><label for=\"6c066198-7c34-423e-82f4-3f49f6c127a5\" class=\"sk-toggleable__label sk-toggleable__label-arrow\">SimpleImputer</label><div class=\"sk-toggleable__content\"><pre>SimpleImputer(strategy=&#x27;median&#x27;)</pre></div></div></div><div class=\"sk-item\"><div class=\"sk-estimator sk-toggleable\"><input class=\"sk-toggleable__control sk-hidden--visually\" id=\"d563168f-b097-493a-8158-694a263a2734\" type=\"checkbox\" ><label for=\"d563168f-b097-493a-8158-694a263a2734\" class=\"sk-toggleable__label sk-toggleable__label-arrow\">StandardScaler</label><div class=\"sk-toggleable__content\"><pre>StandardScaler()</pre></div></div></div></div></div></div></div></div><div class=\"sk-parallel-item\"><div class=\"sk-item\"><div class=\"sk-label-container\"><div class=\"sk-label sk-toggleable\"><label>cat pipeline</label></div></div><div class=\"sk-serial\"><div class=\"sk-item sk-dashed-wrapped\"><div class=\"sk-parallel\"><div class=\"sk-parallel-item\"><div class=\"sk-item\"><div class=\"sk-label-container\"><div class=\"sk-label sk-toggleable\"><input class=\"sk-toggleable__control sk-hidden--visually\" id=\"3a83cc23-87c9-420e-aba4-3508bfa5d19d\" type=\"checkbox\" ><label for=\"3a83cc23-87c9-420e-aba4-3508bfa5d19d\" class=\"sk-toggleable__label sk-toggleable__label-arrow\">label binarizer</label><div class=\"sk-toggleable__content\"><pre>141</pre></div></div></div><div class=\"sk-serial\"><div class=\"sk-item\"><div class=\"sk-estimator sk-toggleable\"><input class=\"sk-toggleable__control sk-hidden--visually\" id=\"57feaf91-5167-44db-a563-ccb49806c1a4\" type=\"checkbox\" ><label for=\"57feaf91-5167-44db-a563-ccb49806c1a4\" class=\"sk-toggleable__label sk-toggleable__label-arrow\">LabelBinarizer</label><div class=\"sk-toggleable__content\"><pre>LabelBinarizer()</pre></div></div></div></div></div></div></div></div></div></div></div></div></div></div></div>"
            ]
          },
          "metadata": {},
          "execution_count": 109
        }
      ]
    },
    {
      "cell_type": "markdown",
      "source": [
        "##**Handling imbalanced data**\n",
        "\n",
        "Imbalanced datasets are those where one class is very less represented than the other class.This kind of data results in less efficient ML algorithim\n",
        "\n",
        "Two approaches:\n",
        "* Undersampling\n",
        "* Oversampling\n"
      ],
      "metadata": {
        "id": "PAEJr4HS2h4j"
      }
    },
    {
      "cell_type": "code",
      "source": [
        "wine_data=pd.read_csv(\n",
        "    \"https://archive.ics.uci.edu/ml/machine-learning-databases/wine-quality/\"\n",
        "    \"winequality-red.csv\",\n",
        "    sep=\";\")\n",
        "wine_data['quality'].hist(bins=50)\n",
        "plt.xlabel('Quality')\n",
        "plt.ylabel('Number of smaples')\n",
        "plt.show()"
      ],
      "metadata": {
        "colab": {
          "base_uri": "https://localhost:8080/",
          "height": 285
        },
        "id": "nZ6LUCws2dyP",
        "outputId": "5ba7d295-0b93-493b-9a47-33ba29deaeb3"
      },
      "execution_count": 110,
      "outputs": [
        {
          "output_type": "display_data",
          "data": {
            "text/plain": [
              "<Figure size 432x288 with 1 Axes>"
            ],
            "image/png": "[encoded data removed]"
          },
          "metadata": {}
        }
      ]
    },
    {
      "cell_type": "markdown",
      "source": [
        "##UnderSampling\n",
        "study it from vedio"
      ],
      "metadata": {
        "id": "MMq4ja9s5j3w"
      }
    },
    {
      "cell_type": "markdown",
      "source": [
        "##**Oversampling**"
      ],
      "metadata": {
        "id": "taCof7U951D3"
      }
    },
    {
      "cell_type": "code",
      "source": [
        "from imblearn.over_sampling import RandomOverSampler\n",
        "from collections import Counter\n",
        "\n",
        "X=wine_data.drop(['quality'],axis=1)\n",
        "y=wine_data['quality']\n",
        "ros=RandomOverSampler()\n",
        "X_ros,y_ros=ros.fit_resample(X,y)\n",
        "\n",
        "print ('original dataset shape:', Counter(y))\n",
        "print ('Resample dataset shape', Counter(y_ros))"
      ],
      "metadata": {
        "colab": {
          "base_uri": "https://localhost:8080/"
        },
        "id": "GtX1Soer5HcW",
        "outputId": "af57167a-089b-4d61-91ba-0206c1d7b8f0"
      },
      "execution_count": 112,
      "outputs": [
        {
          "output_type": "stream",
          "name": "stdout",
          "text": [
            "original dataset shape: Counter({5: 681, 6: 638, 7: 199, 4: 53, 8: 18, 3: 10})\n",
            "Resample dataset shape Counter({5: 681, 6: 681, 7: 681, 4: 681, 8: 681, 3: 681})\n"
          ]
        }
      ]
    },
    {
      "cell_type": "markdown",
      "source": [
        "Oversampling using SMOTE"
      ],
      "metadata": {
        "id": "FJcCapR96ykQ"
      }
    },
    {
      "cell_type": "code",
      "source": [
        "from imblearn.over_sampling import SMOTE\n",
        "\n",
        "oversample=SMOTE()\n",
        "X_sm,y_sm=oversample.fit_resample(X,y)\n",
        "counter=Counter(y_sm)\n",
        "counter"
      ],
      "metadata": {
        "colab": {
          "base_uri": "https://localhost:8080/"
        },
        "id": "-IZW2xsQ6RED",
        "outputId": "8c761989-56db-4193-b77f-531a622a6b29"
      },
      "execution_count": 113,
      "outputs": [
        {
          "output_type": "execute_result",
          "data": {
            "text/plain": [
              "Counter({3: 681, 4: 681, 5: 681, 6: 681, 7: 681, 8: 681})"
            ]
          },
          "metadata": {},
          "execution_count": 113
        }
      ]
    },
    {
      "cell_type": "markdown",
      "source": [
        "Types of SMOTE:\n",
        "* Borderine SMOTE\n",
        "* Borderline-SMOTE SVM\n",
        "* Adaptive Synthetic Sampling (ADASYN)"
      ],
      "metadata": {
        "id": "cBJdk-GU7U4D"
      }
    },
    {
      "cell_type": "code",
      "source": [
        ""
      ],
      "metadata": {
        "id": "HeglpVWL7MUf"
      },
      "execution_count": null,
      "outputs": []
    }
  ]
}