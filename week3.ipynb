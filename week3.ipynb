{
  "nbformat": 4,
  "nbformat_minor": 0,
  "metadata": {
    "colab": {
      "name": "week3.ipynb",
      "provenance": [],
      "collapsed_sections": []
    },
    "kernelspec": {
      "name": "python3",
      "display_name": "Python 3"
    },
    "language_info": {
      "name": "python"
    }
  },
  "cells": [
    {
      "cell_type": "markdown",
      "source": [
        "##**Linear Regression with sklearn API**\n",
        "\n",
        "1. Dataset:California housing\n",
        "2. Linear regression API:`LinearRegression`\n",
        "3. Training: `fit`(normal equation) and `cross_validate`(normal equation with cross validations)\n",
        "4. Evaluation:`score` (r2 score) and cross_val_score with different scoring parameters\n",
        "\n",
        "\n"
      ],
      "metadata": {
        "id": "SyM3ly5mI8EL"
      }
    },
    {
      "cell_type": "code",
      "source": [
        "import numpy as np\n",
        "import pandas as pd\n",
        "import matplotlib.pyplot as plt\n",
        "import seaborn as sns\n",
        "\n",
        "from sklearn.datasets import fetch_california_housing\n",
        "from sklearn.linear_model import LinearRegression\n",
        "\n",
        "from sklearn.model_selection import cross_validate\n",
        "from sklearn.model_selection import cross_val_score\n",
        "from sklearn.model_selection import learning_curve\n",
        "from sklearn.model_selection import ShuffleSplit\n",
        "\n",
        "from sklearn.metrics import mean_squared_error\n",
        "\n",
        "from sklearn.pipeline import Pipeline\n",
        "from sklearn.preprocessing import StandardScaler"
      ],
      "metadata": {
        "id": "7xm4mxIqJpiB"
      },
      "execution_count": 8,
      "outputs": []
    },
    {
      "cell_type": "code",
      "source": [
        "np.random.seed(306)\n",
        "plt.style.use('seaborn')"
      ],
      "metadata": {
        "id": "wo3OEEezMVc5"
      },
      "execution_count": 9,
      "outputs": []
    },
    {
      "cell_type": "markdown",
      "source": [
        "We will use shuffleSplit cross validation with:\n",
        "* 10 folds(n_splits) and\n",
        "* set aside 20% examples as test example(test_size)"
      ],
      "metadata": {
        "id": "kqOKQFCRP9pp"
      }
    },
    {
      "cell_type": "code",
      "source": [
        "shuffle_split_cv=ShuffleSplit(n_splits=10,test_size=0.2,random_state=0)"
      ],
      "metadata": {
        "id": "p--P1daSMjm5"
      },
      "execution_count": 10,
      "outputs": []
    },
    {
      "cell_type": "markdown",
      "source": [
        "Creates 10 folds through shuffle split by keeping aside 20% examples as test in each fold"
      ],
      "metadata": {
        "id": "jBsOJ0nZQr8T"
      }
    },
    {
      "cell_type": "markdown",
      "source": [
        "##**Step#1**:Load the dataset\n",
        "\n"
      ],
      "metadata": {
        "id": "qyFG87tRSMby"
      }
    },
    {
      "cell_type": "code",
      "source": [
        "features,labels=fetch_california_housing(as_frame=True,return_X_y=True)"
      ],
      "metadata": {
        "id": "HKFWBXXVQnaQ"
      },
      "execution_count": 11,
      "outputs": []
    },
    {
      "cell_type": "code",
      "source": [
        "print(\"Shape of feature matrix:\",features.shape)\n",
        "print(\"Shape of label vector:\",labels.shape)"
      ],
      "metadata": {
        "colab": {
          "base_uri": "https://localhost:8080/"
        },
        "id": "Op2XtlQTYSu6",
        "outputId": "55d1f010-7bb1-47f3-a382-1f8b01249df2"
      },
      "execution_count": 12,
      "outputs": [
        {
          "output_type": "stream",
          "name": "stdout",
          "text": [
            "Shape of feature matrix: (20640, 8)\n",
            "Shape of label vector: (20640,)\n"
          ]
        }
      ]
    },
    {
      "cell_type": "code",
      "source": [
        "assert(features.shape[0]==labels.shape[0])"
      ],
      "metadata": {
        "id": "FE7J4UboYfgD"
      },
      "execution_count": 13,
      "outputs": []
    },
    {
      "cell_type": "markdown",
      "source": [
        "##**Step#2**:Data exploration done before\n",
        "##**Step#3**:Preprocessing and model building"
      ],
      "metadata": {
        "id": "L6KVwp3YYyyT"
      }
    },
    {
      "cell_type": "code",
      "source": [
        "from sklearn.model_selection import train_test_split\n",
        "train_features,test_features,train_labels,test_labels=train_test_split(\n",
        "    features,labels,random_state=42)\n"
      ],
      "metadata": {
        "id": "B2e3I8ppYtCr"
      },
      "execution_count": 14,
      "outputs": []
    },
    {
      "cell_type": "code",
      "source": [
        "print(\"tainings samples:\",train_features.shape[0])\n",
        "print(\"test samples:\",test_features.shape[0])"
      ],
      "metadata": {
        "colab": {
          "base_uri": "https://localhost:8080/"
        },
        "id": "B-M65xMNe1mm",
        "outputId": "e8cba01c-d4fa-4cf6-e1e7-ab5c41d54596"
      },
      "execution_count": 15,
      "outputs": [
        {
          "output_type": "stream",
          "name": "stdout",
          "text": [
            "tainings samples: 15480\n",
            "test samples: 5160\n"
          ]
        }
      ]
    },
    {
      "cell_type": "code",
      "source": [
        "assert(train_features.shape[0]==train_labels.shape[0])\n",
        "assert(test_features.shape[0]==test_labels.shape[0])"
      ],
      "metadata": {
        "id": "Ln4I9CdhfL-0"
      },
      "execution_count": 16,
      "outputs": []
    },
    {
      "cell_type": "markdown",
      "source": [
        "##3.2 Pipeline:preprocessing+model\n",
        "\n",
        "We will use `StandardScaler` feature scaling to bring all fetures on th same scale followed by a `LinearRegression` model"
      ],
      "metadata": {
        "id": "siImYhKofknk"
      }
    },
    {
      "cell_type": "code",
      "source": [
        "lin_reg_pipeline=Pipeline([(\"feature_Scaling\",StandardScaler()),\n",
        "                          (\"lin_reg\",LinearRegression())])\n",
        "\n",
        "lin_reg_pipeline.fit(train_features,train_labels)"
      ],
      "metadata": {
        "colab": {
          "base_uri": "https://localhost:8080/"
        },
        "id": "CR-M1ThKfb6m",
        "outputId": "f040195a-82f1-4657-c619-d3186a907da0"
      },
      "execution_count": 17,
      "outputs": [
        {
          "output_type": "execute_result",
          "data": {
            "text/plain": [
              "Pipeline(steps=[('feature_Scaling', StandardScaler()),\n",
              "                ('lin_reg', LinearRegression())])"
            ]
          },
          "metadata": {},
          "execution_count": 17
        }
      ]
    },
    {
      "cell_type": "code",
      "source": [
        "print(\"intercept (w_0):\",lin_reg_pipeline[-1].intercept_)\n",
        "print(\"weight vector(w_1,...,w_m:\",lin_reg_pipeline[-1].coef_)"
      ],
      "metadata": {
        "colab": {
          "base_uri": "https://localhost:8080/"
        },
        "id": "mA5jxy7fgduU",
        "outputId": "0bde92a3-ad74-4770-ace2-fde5442c38cb"
      },
      "execution_count": 18,
      "outputs": [
        {
          "output_type": "stream",
          "name": "stdout",
          "text": [
            "intercept (w_0): 2.0703489205426377\n",
            "weight vector(w_1,...,w_m: [ 0.85210815  0.12065533 -0.30210555  0.34860575 -0.00164465 -0.04116356\n",
            " -0.89314697 -0.86784046]\n"
          ]
        }
      ]
    },
    {
      "cell_type": "markdown",
      "source": [
        "A couple of things to notice:\n",
        "\n",
        "1. We accessed the `LinearRegression` object as `lin_reg_pipeline[-1]` which is the last step in the pipeline.\n",
        "2. The intercept can be obtained via `intercept_member` variable and\n",
        "3. The weight vector corresponsing to features via `coef_`"
      ],
      "metadata": {
        "id": "fvmfw6B3h6fN"
      }
    },
    {
      "cell_type": "markdown",
      "source": [
        "##**Step #4:**Model evaluation\n",
        "\n",
        "Let's use `score` method to obtain train and test with twin objeectives:\n",
        "* Estimation of model performance as provided by test error.\n",
        "* Comaparision of errors for model dignostic purpose"
      ],
      "metadata": {
        "id": "15hiyqNQIU9R"
      }
    },
    {
      "cell_type": "code",
      "source": [
        "test_score=lin_reg_pipeline.score(test_features,test_labels)\n",
        "print(\"Model performance on test set:\",test_score)\n",
        "\n",
        "train_score=lin_reg_pipeline.score(train_features,train_labels)\n",
        "print(\"Model performance on test set:\",test_score)"
      ],
      "metadata": {
        "colab": {
          "base_uri": "https://localhost:8080/"
        },
        "id": "73yjED13hwOH",
        "outputId": "0a30e959-b6b0-4128-aed9-d77cda60c922"
      },
      "execution_count": 19,
      "outputs": [
        {
          "output_type": "stream",
          "name": "stdout",
          "text": [
            "Model performance on test set: 0.5910509795491352\n",
            "Model performance on test set: 0.5910509795491352\n"
          ]
        }
      ]
    },
    {
      "cell_type": "markdown",
      "source": [
        "The score method returns r2 score whose best value is 1.so here it points to underfitting issue."
      ],
      "metadata": {
        "id": "u7HqrF9IKAYC"
      }
    },
    {
      "cell_type": "markdown",
      "source": [
        "In above score we calculated the score on one fold hence it may not be the robust score hence we introduce\n",
        "##**Cross validates score(`cross_val_score`)**\n",
        "This calculates score on different folds through cross validation"
      ],
      "metadata": {
        "id": "MfBlR6c_Kaw5"
      }
    },
    {
      "cell_type": "code",
      "source": [
        "lin_reg_score=cross_val_score(lin_reg_pipeline,\n",
        "                              train_features,\n",
        "                              train_labels,\n",
        "                              scoring='neg_mean_squared_error',\n",
        "                              cv=shuffle_split_cv)\n",
        "\n",
        "print(lin_reg_score)#prints 10 different score one for each fold\n",
        "\n",
        "print(f\"\\nScore of linear regression model on the test set:\\n\"\n",
        "      f\"{lin_reg_score.mean():.3f} +/- {lin_reg_score.std():.3f}\")"
      ],
      "metadata": {
        "colab": {
          "base_uri": "https://localhost:8080/"
        },
        "id": "rqtjKQYWJ0_g",
        "outputId": "416a0a2d-c996-4b59-8b94-4f6277c5ea42"
      },
      "execution_count": 20,
      "outputs": [
        {
          "output_type": "stream",
          "name": "stdout",
          "text": [
            "[-0.50009976 -0.52183352 -0.55931218 -0.52110499 -0.56059203 -0.50510767\n",
            " -0.52386194 -0.54775518 -0.5007161  -0.54713448]\n",
            "\n",
            "Score of linear regression model on the test set:\n",
            "-0.529 +/- 0.022\n"
          ]
        }
      ]
    },
    {
      "cell_type": "markdown",
      "source": [
        "Here we got the negative mean squared error as a score"
      ],
      "metadata": {
        "id": "NZ5e8j5qL-mZ"
      }
    },
    {
      "cell_type": "code",
      "source": [
        "lin_reg_mse=-lin_reg_score\n",
        "print(f\"\\nMSE of linear regression model on the test set:\\n\"\n",
        "      f\"{lin_reg_mse.mean():.3f} +/- {lin_reg_mse.std():.3f}\")"
      ],
      "metadata": {
        "colab": {
          "base_uri": "https://localhost:8080/"
        },
        "id": "vdO_jfDkL1v2",
        "outputId": "98d56779-bf11-4122-c5cc-ae3be2f06985"
      },
      "execution_count": 21,
      "outputs": [
        {
          "output_type": "stream",
          "name": "stdout",
          "text": [
            "\n",
            "MSE of linear regression model on the test set:\n",
            "0.529 +/- 0.022\n"
          ]
        }
      ]
    },
    {
      "cell_type": "markdown",
      "source": [
        "##Cross validation"
      ],
      "metadata": {
        "id": "QPLzsZA0MmFZ"
      }
    },
    {
      "cell_type": "code",
      "source": [
        "lin_reg_cv_results=cross_validate(lin_reg_pipeline,\n",
        "                              train_features,\n",
        "                              train_labels,\n",
        "                              scoring='neg_mean_squared_error',\n",
        "                              cv=shuffle_split_cv,\n",
        "                              return_train_score=True,\n",
        "                              return_estimator=True)"
      ],
      "metadata": {
        "id": "KfRT0jHcMgQZ"
      },
      "execution_count": 22,
      "outputs": []
    },
    {
      "cell_type": "markdown",
      "source": [
        "lin_reg_cv_result is a dictionary with the following contents\n",
        "* trained estimators\n",
        "* time taken for fitting and scoring\n",
        "* training score\n",
        "* test scores"
      ],
      "metadata": {
        "id": "CNkAmLl6M8by"
      }
    },
    {
      "cell_type": "code",
      "source": [
        "lin_reg_cv_results"
      ],
      "metadata": {
        "colab": {
          "base_uri": "https://localhost:8080/"
        },
        "id": "Ou0C2-b0NPIs",
        "outputId": "b2c0b8b0-9775-44dc-daad-085d0494cc3e"
      },
      "execution_count": 23,
      "outputs": [
        {
          "output_type": "execute_result",
          "data": {
            "text/plain": [
              "{'estimator': [Pipeline(steps=[('feature_Scaling', StandardScaler()),\n",
              "                  ('lin_reg', LinearRegression())]),\n",
              "  Pipeline(steps=[('feature_Scaling', StandardScaler()),\n",
              "                  ('lin_reg', LinearRegression())]),\n",
              "  Pipeline(steps=[('feature_Scaling', StandardScaler()),\n",
              "                  ('lin_reg', LinearRegression())]),\n",
              "  Pipeline(steps=[('feature_Scaling', StandardScaler()),\n",
              "                  ('lin_reg', LinearRegression())]),\n",
              "  Pipeline(steps=[('feature_Scaling', StandardScaler()),\n",
              "                  ('lin_reg', LinearRegression())]),\n",
              "  Pipeline(steps=[('feature_Scaling', StandardScaler()),\n",
              "                  ('lin_reg', LinearRegression())]),\n",
              "  Pipeline(steps=[('feature_Scaling', StandardScaler()),\n",
              "                  ('lin_reg', LinearRegression())]),\n",
              "  Pipeline(steps=[('feature_Scaling', StandardScaler()),\n",
              "                  ('lin_reg', LinearRegression())]),\n",
              "  Pipeline(steps=[('feature_Scaling', StandardScaler()),\n",
              "                  ('lin_reg', LinearRegression())]),\n",
              "  Pipeline(steps=[('feature_Scaling', StandardScaler()),\n",
              "                  ('lin_reg', LinearRegression())])],\n",
              " 'fit_time': array([0.02422619, 0.02294159, 0.02534366, 0.02341986, 0.02680373,\n",
              "        0.01040912, 0.01031137, 0.01106954, 0.01037288, 0.01014614]),\n",
              " 'score_time': array([0.00281739, 0.0059371 , 0.00292277, 0.00582099, 0.00302076,\n",
              "        0.00259948, 0.00303721, 0.00264883, 0.00261116, 0.00259614]),\n",
              " 'test_score': array([-0.50009976, -0.52183352, -0.55931218, -0.52110499, -0.56059203,\n",
              "        -0.50510767, -0.52386194, -0.54775518, -0.5007161 , -0.54713448]),\n",
              " 'train_score': array([-0.52578695, -0.52035137, -0.51095597, -0.52049611, -0.51060835,\n",
              "        -0.52453922, -0.51994311, -0.5144039 , -0.52578473, -0.51397105])}"
            ]
          },
          "metadata": {},
          "execution_count": 23
        }
      ]
    },
    {
      "cell_type": "code",
      "source": [
        "train_error=-1*lin_reg_cv_results['train_score']\n",
        "test_error=-1*lin_reg_cv_results['test_score']\n",
        "\n",
        "print(f\"\\nMean squared error of linear regression model on the train set:\\n\"\n",
        "      f\"{train_error.mean():.3f} +/- {train_error.std():.3f}\")\n",
        "print(f\"\\nMean squared error of linear regression model on the test set:\\n\"\n",
        "      f\"{test_error.mean():.3f} +/- {test_error.std():.3f}\")"
      ],
      "metadata": {
        "colab": {
          "base_uri": "https://localhost:8080/"
        },
        "id": "6BPf1ftUNT40",
        "outputId": "43782f3e-be69-4cd9-e014-304c20e34774"
      },
      "execution_count": 24,
      "outputs": [
        {
          "output_type": "stream",
          "name": "stdout",
          "text": [
            "\n",
            "Mean squared error of linear regression model on the train set:\n",
            "0.519 +/- 0.006\n",
            "\n",
            "Mean squared error of linear regression model on the test set:\n",
            "0.529 +/- 0.022\n"
          ]
        }
      ]
    },
    {
      "cell_type": "markdown",
      "source": [
        "The training and test errors are high which is an indication of underfitting"
      ],
      "metadata": {
        "id": "JWKiBVvaOK7x"
      }
    },
    {
      "cell_type": "code",
      "source": [
        "feature_names=train_features.columns\n",
        "feature_names"
      ],
      "metadata": {
        "colab": {
          "base_uri": "https://localhost:8080/"
        },
        "id": "mhSRsy8jPoIC",
        "outputId": "5eb610a3-7dea-4a53-cb4b-75e8d05e9e8b"
      },
      "execution_count": 25,
      "outputs": [
        {
          "output_type": "execute_result",
          "data": {
            "text/plain": [
              "Index(['MedInc', 'HouseAge', 'AveRooms', 'AveBedrms', 'Population', 'AveOccup',\n",
              "       'Latitude', 'Longitude'],\n",
              "      dtype='object')"
            ]
          },
          "metadata": {},
          "execution_count": 25
        }
      ]
    },
    {
      "cell_type": "code",
      "source": [
        "coefs=[est[-1].coef_ for est in lin_reg_cv_results[\"estimator\"]]\n",
        "weights_df=pd.DataFrame(coefs,columns=feature_names)\n",
        "\n",
        "color={\"whiskers\":\"black\",\"medians\":\"black\",\"caps\":\"red\"}\n",
        "weights_df.plot.box(color=color,vert=False)\n",
        "_=plt.title(\"Linear regression coefficients\")"
      ],
      "metadata": {
        "colab": {
          "base_uri": "https://localhost:8080/",
          "height": 362
        },
        "id": "-aoX8U00OJVM",
        "outputId": "22a2d952-7068-44ef-88d4-abeb95e8c922"
      },
      "execution_count": 26,
      "outputs": [
        {
          "output_type": "display_data",
          "data": {
            "text/plain": [
              "<Figure size 576x396 with 1 Axes>"
            ],
            "image/png": "[encoded data removed]"
          },
          "metadata": {}
        }
      ]
    },
    {
      "cell_type": "code",
      "source": [
        "weights_df.describe()"
      ],
      "metadata": {
        "colab": {
          "base_uri": "https://localhost:8080/",
          "height": 300
        },
        "id": "PXF16bzMPwWL",
        "outputId": "24e415cf-7999-47d3-fdca-48e234b92184"
      },
      "execution_count": 27,
      "outputs": [
        {
          "output_type": "execute_result",
          "data": {
            "text/plain": [
              "          MedInc   HouseAge   AveRooms  AveBedrms  Population   AveOccup  \\\n",
              "count  10.000000  10.000000  10.000000  10.000000   10.000000  10.000000   \n",
              "mean    0.852153   0.122770  -0.304384   0.353528   -0.001576  -0.037059   \n",
              "std     0.005763   0.004312   0.010998   0.018044    0.003254   0.008582   \n",
              "min     0.843517   0.117394  -0.318971   0.307474   -0.005787  -0.047584   \n",
              "25%     0.848871   0.119895  -0.310778   0.349715   -0.002688  -0.042486   \n",
              "50%     0.852711   0.121592  -0.305795   0.360139   -0.002063  -0.042325   \n",
              "75%     0.854743   0.125520  -0.302980   0.364646   -0.000350  -0.027562   \n",
              "max     0.861659   0.130560  -0.278426   0.367952    0.005297  -0.026331   \n",
              "\n",
              "        Latitude  Longitude  \n",
              "count  10.000000  10.000000  \n",
              "mean   -0.894011  -0.869753  \n",
              "std     0.009975   0.009097  \n",
              "min    -0.908058  -0.884206  \n",
              "25%    -0.901411  -0.876542  \n",
              "50%    -0.895370  -0.869631  \n",
              "75%    -0.883967  -0.862110  \n",
              "max    -0.881884  -0.857844  "
            ],
            "text/html": [
              "\n",
              "  <div id=\"df-1fbbe125-aebd-41f7-9a18-8864160f44c5\">\n",
              "    <div class=\"colab-df-container\">\n",
              "      <div>\n",
              "<style scoped>\n",
              "    .dataframe tbody tr th:only-of-type {\n",
              "        vertical-align: middle;\n",
              "    }\n",
              "\n",
              "    .dataframe tbody tr th {\n",
              "        vertical-align: top;\n",
              "    }\n",
              "\n",
              "    .dataframe thead th {\n",
              "        text-align: right;\n",
              "    }\n",
              "</style>\n",
              "<table border=\"1\" class=\"dataframe\">\n",
              "  <thead>\n",
              "    <tr style=\"text-align: right;\">\n",
              "      <th></th>\n",
              "      <th>MedInc</th>\n",
              "      <th>HouseAge</th>\n",
              "      <th>AveRooms</th>\n",
              "      <th>AveBedrms</th>\n",
              "      <th>Population</th>\n",
              "      <th>AveOccup</th>\n",
              "      <th>Latitude</th>\n",
              "      <th>Longitude</th>\n",
              "    </tr>\n",
              "  </thead>\n",
              "  <tbody>\n",
              "    <tr>\n",
              "      <th>count</th>\n",
              "      <td>10.000000</td>\n",
              "      <td>10.000000</td>\n",
              "      <td>10.000000</td>\n",
              "      <td>10.000000</td>\n",
              "      <td>10.000000</td>\n",
              "      <td>10.000000</td>\n",
              "      <td>10.000000</td>\n",
              "      <td>10.000000</td>\n",
              "    </tr>\n",
              "    <tr>\n",
              "      <th>mean</th>\n",
              "      <td>0.852153</td>\n",
              "      <td>0.122770</td>\n",
              "      <td>-0.304384</td>\n",
              "      <td>0.353528</td>\n",
              "      <td>-0.001576</td>\n",
              "      <td>-0.037059</td>\n",
              "      <td>-0.894011</td>\n",
              "      <td>-0.869753</td>\n",
              "    </tr>\n",
              "    <tr>\n",
              "      <th>std</th>\n",
              "      <td>0.005763</td>\n",
              "      <td>0.004312</td>\n",
              "      <td>0.010998</td>\n",
              "      <td>0.018044</td>\n",
              "      <td>0.003254</td>\n",
              "      <td>0.008582</td>\n",
              "      <td>0.009975</td>\n",
              "      <td>0.009097</td>\n",
              "    </tr>\n",
              "    <tr>\n",
              "      <th>min</th>\n",
              "      <td>0.843517</td>\n",
              "      <td>0.117394</td>\n",
              "      <td>-0.318971</td>\n",
              "      <td>0.307474</td>\n",
              "      <td>-0.005787</td>\n",
              "      <td>-0.047584</td>\n",
              "      <td>-0.908058</td>\n",
              "      <td>-0.884206</td>\n",
              "    </tr>\n",
              "    <tr>\n",
              "      <th>25%</th>\n",
              "      <td>0.848871</td>\n",
              "      <td>0.119895</td>\n",
              "      <td>-0.310778</td>\n",
              "      <td>0.349715</td>\n",
              "      <td>-0.002688</td>\n",
              "      <td>-0.042486</td>\n",
              "      <td>-0.901411</td>\n",
              "      <td>-0.876542</td>\n",
              "    </tr>\n",
              "    <tr>\n",
              "      <th>50%</th>\n",
              "      <td>0.852711</td>\n",
              "      <td>0.121592</td>\n",
              "      <td>-0.305795</td>\n",
              "      <td>0.360139</td>\n",
              "      <td>-0.002063</td>\n",
              "      <td>-0.042325</td>\n",
              "      <td>-0.895370</td>\n",
              "      <td>-0.869631</td>\n",
              "    </tr>\n",
              "    <tr>\n",
              "      <th>75%</th>\n",
              "      <td>0.854743</td>\n",
              "      <td>0.125520</td>\n",
              "      <td>-0.302980</td>\n",
              "      <td>0.364646</td>\n",
              "      <td>-0.000350</td>\n",
              "      <td>-0.027562</td>\n",
              "      <td>-0.883967</td>\n",
              "      <td>-0.862110</td>\n",
              "    </tr>\n",
              "    <tr>\n",
              "      <th>max</th>\n",
              "      <td>0.861659</td>\n",
              "      <td>0.130560</td>\n",
              "      <td>-0.278426</td>\n",
              "      <td>0.367952</td>\n",
              "      <td>0.005297</td>\n",
              "      <td>-0.026331</td>\n",
              "      <td>-0.881884</td>\n",
              "      <td>-0.857844</td>\n",
              "    </tr>\n",
              "  </tbody>\n",
              "</table>\n",
              "</div>\n",
              "      <button class=\"colab-df-convert\" onclick=\"convertToInteractive('df-1fbbe125-aebd-41f7-9a18-8864160f44c5')\"\n",
              "              title=\"Convert this dataframe to an interactive table.\"\n",
              "              style=\"display:none;\">\n",
              "        \n",
              "  <svg xmlns=\"http://www.w3.org/2000/svg\" height=\"24px\"viewBox=\"0 0 24 24\"\n",
              "       width=\"24px\">\n",
              "    <path d=\"M0 0h24v24H0V0z\" fill=\"none\"/>\n",
              "    <path d=\"M18.56 5.44l.94 2.06.94-2.06 2.06-.94-2.06-.94-.94-2.06-.94 2.06-2.06.94zm-11 1L8.5 8.5l.94-2.06 2.06-.94-2.06-.94L8.5 2.5l-.94 2.06-2.06.94zm10 10l.94 2.06.94-2.06 2.06-.94-2.06-.94-.94-2.06-.94 2.06-2.06.94z\"/><path d=\"M17.41 7.96l-1.37-1.37c-.4-.4-.92-.59-1.43-.59-.52 0-1.04.2-1.43.59L10.3 9.45l-7.72 7.72c-.78.78-.78 2.05 0 2.83L4 21.41c.39.39.9.59 1.41.59.51 0 1.02-.2 1.41-.59l7.78-7.78 2.81-2.81c.8-.78.8-2.07 0-2.86zM5.41 20L4 18.59l7.72-7.72 1.47 1.35L5.41 20z\"/>\n",
              "  </svg>\n",
              "      </button>\n",
              "      \n",
              "  <style>\n",
              "    .colab-df-container {\n",
              "      display:flex;\n",
              "      flex-wrap:wrap;\n",
              "      gap: 12px;\n",
              "    }\n",
              "\n",
              "    .colab-df-convert {\n",
              "      background-color: #E8F0FE;\n",
              "      border: none;\n",
              "      border-radius: 50%;\n",
              "      cursor: pointer;\n",
              "      display: none;\n",
              "      fill: #1967D2;\n",
              "      height: 32px;\n",
              "      padding: 0 0 0 0;\n",
              "      width: 32px;\n",
              "    }\n",
              "\n",
              "    .colab-df-convert:hover {\n",
              "      background-color: #E2EBFA;\n",
              "      box-shadow: 0px 1px 2px rgba(60, 64, 67, 0.3), 0px 1px 3px 1px rgba(60, 64, 67, 0.15);\n",
              "      fill: #174EA6;\n",
              "    }\n",
              "\n",
              "    [theme=dark] .colab-df-convert {\n",
              "      background-color: #3B4455;\n",
              "      fill: #D2E3FC;\n",
              "    }\n",
              "\n",
              "    [theme=dark] .colab-df-convert:hover {\n",
              "      background-color: #434B5C;\n",
              "      box-shadow: 0px 1px 3px 1px rgba(0, 0, 0, 0.15);\n",
              "      filter: drop-shadow(0px 1px 2px rgba(0, 0, 0, 0.3));\n",
              "      fill: #FFFFFF;\n",
              "    }\n",
              "  </style>\n",
              "\n",
              "      <script>\n",
              "        const buttonEl =\n",
              "          document.querySelector('#df-1fbbe125-aebd-41f7-9a18-8864160f44c5 button.colab-df-convert');\n",
              "        buttonEl.style.display =\n",
              "          google.colab.kernel.accessAllowed ? 'block' : 'none';\n",
              "\n",
              "        async function convertToInteractive(key) {\n",
              "          const element = document.querySelector('#df-1fbbe125-aebd-41f7-9a18-8864160f44c5');\n",
              "          const dataTable =\n",
              "            await google.colab.kernel.invokeFunction('convertToInteractive',\n",
              "                                                     [key], {});\n",
              "          if (!dataTable) return;\n",
              "\n",
              "          const docLinkHtml = 'Like what you see? Visit the ' +\n",
              "            '<a target=\"_blank\" href=https://colab.research.google.com/notebooks/data_table.ipynb>data table notebook</a>'\n",
              "            + ' to learn more about interactive tables.';\n",
              "          element.innerHTML = '';\n",
              "          dataTable['output_type'] = 'display_data';\n",
              "          await google.colab.output.renderOutput(dataTable, element);\n",
              "          const docLink = document.createElement('div');\n",
              "          docLink.innerHTML = docLinkHtml;\n",
              "          element.appendChild(docLink);\n",
              "        }\n",
              "      </script>\n",
              "    </div>\n",
              "  </div>\n",
              "  "
            ]
          },
          "metadata": {},
          "execution_count": 27
        }
      ]
    },
    {
      "cell_type": "markdown",
      "source": [
        "##**Selecting best model**"
      ],
      "metadata": {
        "id": "Col7RGyTRRKq"
      }
    },
    {
      "cell_type": "code",
      "source": [
        "best_model_index=np.argmin(test_error)\n",
        "selected_model=lin_reg_cv_results['estimator'][best_model_index]"
      ],
      "metadata": {
        "id": "83GBSGlnRJTw"
      },
      "execution_count": 28,
      "outputs": []
    },
    {
      "cell_type": "code",
      "source": [
        "print(\"intercept (w_0):\",selected_model['lin_reg'].intercept_)\n",
        "print(\"Coefficients (w_1,...,w_m:\",selected_model['lin_reg'].coef_)"
      ],
      "metadata": {
        "colab": {
          "base_uri": "https://localhost:8080/"
        },
        "id": "DHsMZax2Rqn0",
        "outputId": "c4d8976d-cd8d-45e9-e199-a6eb1bf68b86"
      },
      "execution_count": 29,
      "outputs": [
        {
          "output_type": "stream",
          "name": "stdout",
          "text": [
            "intercept (w_0): 2.0779898917958657\n",
            "Coefficients (w_1,...,w_m: [ 8.44324888e-01  1.18463901e-01 -3.04619574e-01  3.56620503e-01\n",
            "  1.74458509e-04 -4.23964612e-02 -8.96045642e-01 -8.68906479e-01]\n"
          ]
        }
      ]
    },
    {
      "cell_type": "markdown",
      "source": [
        "##Model performance"
      ],
      "metadata": {
        "id": "RbtgrUxzSiAZ"
      }
    },
    {
      "cell_type": "code",
      "source": [
        "from sklearn.model_selection import cross_val_predict\n",
        "cv_predictions=cross_val_predict(lin_reg_pipeline,train_features,train_labels)"
      ],
      "metadata": {
        "id": "4Pmqopm2SHW9"
      },
      "execution_count": 30,
      "outputs": []
    },
    {
      "cell_type": "code",
      "source": [
        "mse_cv=mean_squared_error(train_labels,cv_predictions)\n",
        "\n",
        "plt.scatter(train_labels,cv_predictions,color='blue')\n",
        "plt.plot(train_labels,train_labels,'r-')\n",
        "plt.title(f\"Mean squared error{mse_cv:.2f}\",size=24)\n",
        "plt.xlabel('Actual Median House value',size=15)\n",
        "plt.ylabel('Predicted Median House value',size=15)\n",
        "plt.show()"
      ],
      "metadata": {
        "colab": {
          "base_uri": "https://localhost:8080/",
          "height": 388
        },
        "id": "pE1VrXg_Sxnf",
        "outputId": "94ec5af9-3b1a-4b7b-b908-788e52a0c74e"
      },
      "execution_count": 31,
      "outputs": [
        {
          "output_type": "display_data",
          "data": {
            "text/plain": [
              "<Figure size 576x396 with 1 Axes>"
            ],
            "image/png": "[encoded data removed]"
          },
          "metadata": {}
        }
      ]
    },
    {
      "cell_type": "markdown",
      "source": [
        "##**Step #5:**Predictions"
      ],
      "metadata": {
        "id": "SNVySDsdTm0t"
      }
    },
    {
      "cell_type": "markdown",
      "source": [
        "Model in which we used cross validations"
      ],
      "metadata": {
        "id": "pdVsds0uUEHL"
      }
    },
    {
      "cell_type": "code",
      "source": [
        "test_predictions_cv=selected_model.predict(test_features)\n",
        "test_predictions_cv[:5]"
      ],
      "metadata": {
        "colab": {
          "base_uri": "https://localhost:8080/"
        },
        "id": "QdA4Syk8TGk9",
        "outputId": "8d7b0be9-e724-4969-e494-d81d8ad0feab"
      },
      "execution_count": 32,
      "outputs": [
        {
          "output_type": "execute_result",
          "data": {
            "text/plain": [
              "array([0.73548515, 1.7725621 , 2.70011199, 2.83716602, 2.60743151])"
            ]
          },
          "metadata": {},
          "execution_count": 32
        }
      ]
    },
    {
      "cell_type": "markdown",
      "source": [
        "Model without cross validations"
      ],
      "metadata": {
        "id": "Hu6CGKEmUJty"
      }
    },
    {
      "cell_type": "code",
      "source": [
        "test_predictions=lin_reg_pipeline.predict(test_features)\n",
        "test_predictions[:5]"
      ],
      "metadata": {
        "colab": {
          "base_uri": "https://localhost:8080/"
        },
        "id": "XKhOnNQmT42S",
        "outputId": "2e1d3344-9638-4469-d733-83d4bdb8a71f"
      },
      "execution_count": 33,
      "outputs": [
        {
          "output_type": "execute_result",
          "data": {
            "text/plain": [
              "array([0.72412832, 1.76677807, 2.71151581, 2.83601179, 2.603755  ])"
            ]
          },
          "metadata": {},
          "execution_count": 33
        }
      ]
    },
    {
      "cell_type": "markdown",
      "source": [
        "##Step #6 Report model performance"
      ],
      "metadata": {
        "id": "Idu1MVAPUmfJ"
      }
    },
    {
      "cell_type": "code",
      "source": [
        "mse=mean_squared_error(test_labels,test_predictions)\n",
        "mse_cv=mean_squared_error(test_labels,test_predictions_cv)\n",
        "print(\"MSE for the best model obtained via cross validation:\",mse_cv)\n",
        "print(\"MSE for model without cv:\",mse)\n",
        "        "
      ],
      "metadata": {
        "colab": {
          "base_uri": "https://localhost:8080/"
        },
        "id": "QQJlXKcSUVed",
        "outputId": "2ffa56b4-b9dd-4fd7-cd71-4c581d68aae6"
      },
      "execution_count": 34,
      "outputs": [
        {
          "output_type": "stream",
          "name": "stdout",
          "text": [
            "MSE for the best model obtained via cross validation: 0.5393995876218523\n",
            "MSE for model without cv: 0.5411287478470688\n"
          ]
        }
      ]
    },
    {
      "cell_type": "markdown",
      "source": [
        "##**Baseline Models**"
      ],
      "metadata": {
        "id": "Hhh8N2tdXKxy"
      }
    },
    {
      "cell_type": "code",
      "source": [
        "from sklearn.datasets import fetch_california_housing\n",
        "from sklearn.dummy import DummyRegressor\n",
        "from sklearn.model_selection import permutation_test_score "
      ],
      "metadata": {
        "id": "ZwoL4daEU0FG"
      },
      "execution_count": 35,
      "outputs": []
    },
    {
      "cell_type": "markdown",
      "source": [
        "##**Dummy Regressor**"
      ],
      "metadata": {
        "id": "kLxMRWfhaZQq"
      }
    },
    {
      "cell_type": "code",
      "source": [
        "def dummy_regressor_baseline(strategy,constant_val=None,quantile_val=None):\n",
        "  baseline_model_median=DummyRegressor(strategy=strategy,\n",
        "                                       constant=constant_val,\n",
        "                                       quantile=quantile_val)\n",
        "  baseline_median_cv_results=cross_validate(baseline_model_median,\n",
        "                                            train_features,train_labels,\n",
        "                                            cv=shuffle_split_cv,\n",
        "                                            scoring=\"neg_mean_absolute_error\",\n",
        "                                            n_jobs=2)\n",
        "  return pd.Series(-baseline_median_cv_results[\"test_score\"],name=\"Dummy regressor error\")  "
      ],
      "metadata": {
        "id": "bco0NyxXaSBU"
      },
      "execution_count": 36,
      "outputs": []
    },
    {
      "cell_type": "code",
      "source": [
        "baseline_median_cv_results_errors=dummy_regressor_baseline(strategy='median')\n",
        "baseline_mean_cv_results_errors=dummy_regressor_baseline(strategy='mean')\n",
        "baseline_constant_cv_results_errors=dummy_regressor_baseline(strategy='constant',constant_val=2)\n",
        "baseline_quantile_cv_results_errors=dummy_regressor_baseline(strategy='quantile',quantile_val=0.55)"
      ],
      "metadata": {
        "id": "Wae5qmW6brYU"
      },
      "execution_count": 37,
      "outputs": []
    },
    {
      "cell_type": "markdown",
      "source": [
        "##**permutation_test_score**\n",
        "It permutes the target to generate randomized data and computes the empirical p-value against the null hypothesis,that features and targets are independent"
      ],
      "metadata": {
        "id": "xwKzBjAvd_u8"
      }
    },
    {
      "cell_type": "code",
      "source": [
        "score,permutation_score,pvalue=permutation_test_score(\n",
        "    lin_reg_pipeline,train_features,train_labels,\n",
        "    cv=shuffle_split_cv,scoring=\"neg_mean_absolute_error\",\n",
        "    n_jobs=2,n_permutations=30\n",
        ")\n",
        "permutaion_errors=pd.Series(-permutation_score,name=\"Permed error\")"
      ],
      "metadata": {
        "id": "UTWx97Lvcu8p"
      },
      "execution_count": 38,
      "outputs": []
    },
    {
      "cell_type": "code",
      "source": [
        "print(permutation_score)"
      ],
      "metadata": {
        "colab": {
          "base_uri": "https://localhost:8080/"
        },
        "id": "ImS0FPFoe4wN",
        "outputId": "cbf74267-96e3-4136-8e4c-f50d9b3d0961"
      },
      "execution_count": 39,
      "outputs": [
        {
          "output_type": "stream",
          "name": "stdout",
          "text": [
            "[-0.91446539 -0.91608713 -0.91501122 -0.91112203 -0.91326112 -0.91428719\n",
            " -0.91694297 -0.90660687 -0.90873595 -0.91546138 -0.9084695  -0.91174023\n",
            " -0.91857102 -0.91467076 -0.90396709 -0.91239289 -0.91095499 -0.91729623\n",
            " -0.90529415 -0.91436609 -0.91993036 -0.91661883 -0.91104746 -0.91563156\n",
            " -0.91014294 -0.91526135 -0.90680247 -0.90796435 -0.91032999 -0.91545574]\n"
          ]
        }
      ]
    },
    {
      "cell_type": "code",
      "source": [
        "erros_df=pd.concat([lin_reg_errors,baseline_meedian_cv_results_errors,permutaion_errors],axis=1)"
      ],
      "metadata": {
        "colab": {
          "base_uri": "https://localhost:8080/",
          "height": 165
        },
        "id": "_LCC4SgLfjkk",
        "outputId": "faa4fa3d-a587-4a29-eacd-b6c7432420c9"
      },
      "execution_count": 40,
      "outputs": [
        {
          "output_type": "error",
          "ename": "NameError",
          "evalue": "ignored",
          "traceback": [
            "\u001b[0;31m---------------------------------------------------------------------------\u001b[0m",
            "\u001b[0;31mNameError\u001b[0m                                 Traceback (most recent call last)",
            "\u001b[0;32m<ipython-input-40-9e0376613b4f>\u001b[0m in \u001b[0;36m<module>\u001b[0;34m()\u001b[0m\n\u001b[0;32m----> 1\u001b[0;31m \u001b[0merros_df\u001b[0m\u001b[0;34m=\u001b[0m\u001b[0mpd\u001b[0m\u001b[0;34m.\u001b[0m\u001b[0mconcat\u001b[0m\u001b[0;34m(\u001b[0m\u001b[0;34m[\u001b[0m\u001b[0mlin_reg_errors\u001b[0m\u001b[0;34m,\u001b[0m\u001b[0mbaseline_meedian_cv_results_errors\u001b[0m\u001b[0;34m,\u001b[0m\u001b[0mpermutaion_errors\u001b[0m\u001b[0;34m]\u001b[0m\u001b[0;34m,\u001b[0m\u001b[0maxis\u001b[0m\u001b[0;34m=\u001b[0m\u001b[0;36m1\u001b[0m\u001b[0;34m)\u001b[0m\u001b[0;34m\u001b[0m\u001b[0;34m\u001b[0m\u001b[0m\n\u001b[0m",
            "\u001b[0;31mNameError\u001b[0m: name 'lin_reg_errors' is not defined"
          ]
        }
      ]
    },
    {
      "cell_type": "markdown",
      "source": [
        "##**Linear regression with iterative optimization:`SGDRegressor`**\n",
        "\n",
        "SGD offers a lot of control over optimization procedure through a number of hyperparameters."
      ],
      "metadata": {
        "id": "rUNFZBwPHIID"
      }
    },
    {
      "cell_type": "code",
      "source": [
        "import numpy as np\n",
        "import pandas as pd\n",
        "import matplotlib.pyplot as plt\n",
        "import seaborn as sns\n",
        "\n",
        "from sklearn.datasets import fetch_california_housing\n",
        "from sklearn.linear_model import SGDRegressor\n",
        "\n",
        "from sklearn.model_selection import cross_validate\n",
        "from sklearn.model_selection import cross_val_score\n",
        "from sklearn.model_selection import train_test_split\n",
        "from sklearn.model_selection import validation_curve\n",
        "from sklearn.model_selection import ShuffleSplit\n",
        "\n",
        "from sklearn.metrics import mean_squared_error\n",
        "from sklearn.metrics import mean_absolute_error\n",
        "\n",
        "from sklearn.pipeline import Pipeline\n",
        "from sklearn.preprocessing import StandardScaler"
      ],
      "metadata": {
        "id": "fLg1GV3Cf3sH"
      },
      "execution_count": 42,
      "outputs": []
    },
    {
      "cell_type": "markdown",
      "source": [
        "A `random seed` is a starting point in generating random numbers. A random seed specifies the start point when a computer generates a random number sequence. This can be any number, but it usually comes from seconds on a computer system's clock"
      ],
      "metadata": {
        "id": "_5G3rtcIKe3S"
      }
    },
    {
      "cell_type": "code",
      "source": [
        "np.random.seed(306)"
      ],
      "metadata": {
        "id": "yBnxoH3gH9Zj"
      },
      "execution_count": 43,
      "outputs": []
    },
    {
      "cell_type": "code",
      "source": [
        "shuffle_split_cv=ShuffleSplit(n_splits=10,test_size=0.2,random_state=0)"
      ],
      "metadata": {
        "id": "isijVyCTKX_1"
      },
      "execution_count": 44,
      "outputs": []
    },
    {
      "cell_type": "code",
      "source": [
        "features,labels=fetch_california_housing(as_frame=True,return_X_y=True)\n",
        "com_train_features,test_features,com_train_labels,test_labels=train_test_split(features,labels,random_state=42)"
      ],
      "metadata": {
        "id": "PXx7-J0zKuNF"
      },
      "execution_count": 45,
      "outputs": []
    },
    {
      "cell_type": "code",
      "source": [
        "train_features,dev_features,train_labels,dev_labels=train_test_split(com_train_features,com_train_labels,random_state=42)"
      ],
      "metadata": {
        "id": "TTOX6P5SLcT1"
      },
      "execution_count": 46,
      "outputs": []
    },
    {
      "cell_type": "markdown",
      "source": [
        "##**Baseline SGDRegressor**\n",
        "\n",
        "* `Step1`: TO begin with we instantiate a baselline SGDRegressor model with default parameters.\n",
        "* `Step 2`: Train the model with training features matrix and labels\n",
        "* `Step 3`: Obtain the score on the training and dev data"
      ],
      "metadata": {
        "id": "dP4giJ4MLtfA"
      }
    },
    {
      "cell_type": "code",
      "source": [
        "sgd=SGDRegressor(random_state=42)\n",
        "sgd.fit(train_features,train_labels)\n",
        "\n",
        "train_mae=mean_absolute_error(train_labels,sgd.predict(train_features))\n",
        "dev_mae=mean_absolute_error(dev_labels,sgd.predict(dev_features))\n",
        "print(\"Mean absolute error oon Training set:\",train_mae)\n",
        "print(\"Mean absolute error oon developement set:\",dev_mae)\n"
      ],
      "metadata": {
        "colab": {
          "base_uri": "https://localhost:8080/"
        },
        "id": "-iGd0UJVLsBk",
        "outputId": "c85f3c27-384b-4594-cfd1-4545cff6a60a"
      },
      "execution_count": 48,
      "outputs": [
        {
          "output_type": "stream",
          "name": "stdout",
          "text": [
            "Mean absolute error oon Training set: 312995824045833.75\n",
            "Mean absolute error oon developement set: 315394681503071.94\n"
          ]
        }
      ]
    },
    {
      "cell_type": "markdown",
      "source": [
        "We can observe that the mean absolute error is too high.The baseline model does not train well.This may happen due to large learning rate"
      ],
      "metadata": {
        "id": "jd5ujgbe-fPo"
      }
    },
    {
      "cell_type": "markdown",
      "source": [
        "So for reducing the mean absolute error first we \n",
        "##Add feature scaling step "
      ],
      "metadata": {
        "id": "7a1ilXqo_yuw"
      }
    },
    {
      "cell_type": "code",
      "source": [
        "sgd_pipeline=Pipeline([('feature_scaling',StandardScaler()),\n",
        "                       (\"sgd\",SGDRegressor())])\n",
        "sgd_pipeline.fit(train_features,train_labels)\n",
        "\n",
        "train_mae=mean_absolute_error(train_labels,sgd_pipeline.predict(train_features))\n",
        "dev_mae=mean_absolute_error(dev_labels,sgd_pipeline.predict(dev_features))\n",
        "print(\"Mean absolute error oon Training set:\",train_mae)\n",
        "print(\"Mean absolute error oon developement set:\",dev_mae)\n"
      ],
      "metadata": {
        "colab": {
          "base_uri": "https://localhost:8080/"
        },
        "id": "7dckjZjP9_Xn",
        "outputId": "8280668d-8019-4b07-d79d-826827daa924"
      },
      "execution_count": 49,
      "outputs": [
        {
          "output_type": "stream",
          "name": "stdout",
          "text": [
            "Mean absolute error oon Training set: 0.7935259642528993\n",
            "Mean absolute error oon developement set: 1.5185221399033502\n"
          ]
        }
      ]
    },
    {
      "cell_type": "markdown",
      "source": [
        "##step wise training of SGDRegressor\n",
        "to check why error is high"
      ],
      "metadata": {
        "id": "jbvxAlWsBQZv"
      }
    },
    {
      "cell_type": "markdown",
      "source": [
        "* **Step 1**:Instantiate SGDRegressor with warm_start=True and tol=-np.infty.\n",
        "* **Step 2**:Train SGD step by step and record regression loss in each step\n",
        "* **Step 3**:Plot learning curves and see if there are any issues in training.\n"
      ],
      "metadata": {
        "id": "CvMAP8fzBcGn"
      }
    },
    {
      "cell_type": "code",
      "source": [
        "eta0=1e-2 ##learning rate\n",
        "sgd_pipeline=Pipeline([('feature_scaling',StandardScaler()),\n",
        "                       (\"SGD\",SGDRegressor(max_iter=1,tol=-np.infty,\n",
        "                                           warm_start=True,\n",
        "                                           random_state=42))])\n",
        "loss=[]\n",
        "for epoch in range(100):\n",
        "  sgd_pipeline.fit(train_features,train_labels)\n",
        "  loss.append(mean_squared_error(train_labels,sgd_pipeline.predict(train_features)))\n",
        "\n",
        "plt.plot(np.arange(len(loss)),loss,'b-')\n",
        "plt.xlabel('Iteration#')\n",
        "plt.ylabel('MSE')\n",
        "plt.title(f'Learning curve:eta0={eta0:.4f}')"
      ],
      "metadata": {
        "colab": {
          "base_uri": "https://localhost:8080/",
          "height": 393
        },
        "id": "gC14u5KIBNV-",
        "outputId": "67c95ddf-8d47-4286-b7c8-cb6d6ea25c4c"
      },
      "execution_count": 54,
      "outputs": [
        {
          "output_type": "execute_result",
          "data": {
            "text/plain": [
              "Text(0.5, 1.0, 'Learning curve:eta0=0.0100')"
            ]
          },
          "metadata": {},
          "execution_count": 54
        },
        {
          "output_type": "display_data",
          "data": {
            "text/plain": [
              "<Figure size 576x396 with 1 Axes>"
            ],
            "image/png": "[encoded data removed]"
          },
          "metadata": {}
        }
      ]
    },
    {
      "cell_type": "markdown",
      "source": [
        "The loss reduced initialy and then incresed.This could be due to large learning rates."
      ],
      "metadata": {
        "id": "XdPH4TliE_jt"
      }
    },
    {
      "cell_type": "code",
      "source": [
        "eta0=1e-3 #reducing the learning rate by 10\n",
        "sgd_pipeline=Pipeline([('feature_scaling',StandardScaler()),\n",
        "                       (\"SGD\",SGDRegressor(max_iter=1,tol=-np.infty,\n",
        "                                           warm_start=True,\n",
        "                                           random_state=42,eta0=eta0))])\n",
        "loss=[]\n",
        "for epoch in range(100):\n",
        "  sgd_pipeline.fit(train_features,train_labels)\n",
        "  loss.append(mean_squared_error(train_labels,sgd_pipeline.predict(train_features)))\n",
        "\n",
        "plt.plot(np.arange(len(loss)),loss,'b-')\n",
        "plt.xlabel('Iteration#')\n",
        "plt.ylabel('MSE')\n",
        "plt.title(f'Learning curve:eta0={eta0:.4f}')"
      ],
      "metadata": {
        "colab": {
          "base_uri": "https://localhost:8080/",
          "height": 393
        },
        "id": "h5MTwmkyECIi",
        "outputId": "67fb22aa-f5a8-4b7b-b081-e9a491f6334f"
      },
      "execution_count": 57,
      "outputs": [
        {
          "output_type": "execute_result",
          "data": {
            "text/plain": [
              "Text(0.5, 1.0, 'Learning curve:eta0=0.0010')"
            ]
          },
          "metadata": {},
          "execution_count": 57
        },
        {
          "output_type": "display_data",
          "data": {
            "text/plain": [
              "<Figure size 576x396 with 1 Axes>"
            ],
            "image/png": "[encoded data removed]"
          },
          "metadata": {}
        }
      ]
    },
    {
      "cell_type": "code",
      "source": [
        "print(\"#iteration before reaching convergence criteria:\",sgd_pipeline[-1].n_iter_)\n",
        "print(\"#weight updates:\",sgd_pipeline[-1].t_)"
      ],
      "metadata": {
        "colab": {
          "base_uri": "https://localhost:8080/"
        },
        "id": "uDXhk-XCFN6I",
        "outputId": "439ed110-641e-4a48-b930-6df042a56e20"
      },
      "execution_count": 59,
      "outputs": [
        {
          "output_type": "stream",
          "name": "stdout",
          "text": [
            "#iteration before reaching convergence criteria: 1\n",
            "#weight updates: 11611.0\n"
          ]
        }
      ]
    },
    {
      "cell_type": "markdown",
      "source": [
        "##Alternative method to fix learning rate by validation of curves\n",
        "\n",
        "* `STEP1`: Provide the list of values to be tried for hyper-parameter\n",
        "* `STEP2`: Instantiate an object of validation_curve with estimator training features and label.Set scoring parameter to relevant score.\n",
        "* `STEP3`: Convert scores to error\n",
        "* `STEP4`: Plot validation curve with the value of hyper-parameter on x-axis and error on the y-axis\n",
        "* `Step5`: FIx the hyper-parameter value where the test error is the least."
      ],
      "metadata": {
        "id": "QCei2j6aF8Qh"
      }
    },
    {
      "cell_type": "code",
      "source": [
        "%%time\n",
        "eta0=[1e-5,1e-4,1e-3,1e-2]\n",
        "train_scores,test_scores=validation_curve(\n",
        "    sgd_pipeline,com_train_features,com_train_labels,param_name=\"SGD__eta0\",\n",
        "    param_range=eta0,cv=shuffle_split_cv,scoring=\"neg_mean_squared_error\",\n",
        "    n_jobs=2\n",
        ")\n",
        "train_errors,test_errors=-train_scores,-test_scores"
      ],
      "metadata": {
        "colab": {
          "base_uri": "https://localhost:8080/"
        },
        "id": "qL14ZGCLF0S4",
        "outputId": "fdb02ba0-e44a-490b-b306-89aa0a0dcc41"
      },
      "execution_count": 62,
      "outputs": [
        {
          "output_type": "stream",
          "name": "stdout",
          "text": [
            "CPU times: user 290 ms, sys: 16.2 ms, total: 306 ms\n",
            "Wall time: 968 ms\n"
          ]
        }
      ]
    },
    {
      "cell_type": "code",
      "source": [
        "train_errors,test_errors=-train_scores,-test_scores\n",
        "plt.plot(eta0,train_errors.mean(axis=1),'b-x',label=\"Training error\")\n",
        "plt.plot(eta0,test_errors.mean(axis=1),'r-x',label=\"Test error\")\n",
        "plt.legend()\n",
        "plt.xlabel(\"eta0\")\n",
        "plt.ylabel(\"Mean absolute erro r(k$)\")\n",
        "_=plt.title(\"Validation curve for SGD\")"
      ],
      "metadata": {
        "colab": {
          "base_uri": "https://localhost:8080/",
          "height": 376
        },
        "id": "CsfJ-yjVTGtL",
        "outputId": "9f1131e6-4bed-42a5-b2f2-80af81a5a3ef"
      },
      "execution_count": 64,
      "outputs": [
        {
          "output_type": "display_data",
          "data": {
            "text/plain": [
              "<Figure size 576x396 with 1 Axes>"
            ],
            "image/png": "[encoded data removed]"
          },
          "metadata": {}
        }
      ]
    },
    {
      "cell_type": "markdown",
      "source": [
        "Now by graph we can decide to set hyper parameter eta0"
      ],
      "metadata": {
        "id": "roLo4SuaUpbu"
      }
    },
    {
      "cell_type": "markdown",
      "source": [
        "##**SGDRegressor**"
      ],
      "metadata": {
        "id": "Mz8ihxI8Uyq5"
      }
    },
    {
      "cell_type": "code",
      "source": [
        "sgd_pipeline=Pipeline([('feature_scaling',StandardScaler()),\n",
        "                       (\"sgd\",SGDRegressor(max_iter=500,\n",
        "                                           early_stopping=True,\n",
        "                                           eta0=1e-3,\n",
        "                                           tol=1e-3,\n",
        "                                           validation_fraction=0.2,\n",
        "                                           n_iter_no_change=5,\n",
        "                                           average=10,\n",
        "                                           random_state=42))])\n",
        "sgd_pipeline.fit(train_features,train_labels)\n",
        "\n",
        "train_mae=mean_absolute_error(train_labels,sgd_pipeline.predict(train_features))\n",
        "dev_mae=mean_absolute_error(dev_labels,sgd_pipeline.predict(dev_features))\n",
        "print(\"Mean absolute error oon Training set:\",train_mae)\n",
        "print(\"Mean absolute error oon developement set:\",dev_mae)"
      ],
      "metadata": {
        "colab": {
          "base_uri": "https://localhost:8080/"
        },
        "id": "FU8NF9gxT7Fh",
        "outputId": "401806f8-9ee8-4988-8fb2-073d8c1efe76"
      },
      "execution_count": 66,
      "outputs": [
        {
          "output_type": "stream",
          "name": "stdout",
          "text": [
            "Mean absolute error oon Training set: 0.579376454514559\n",
            "Mean absolute error oon developement set: 0.5689180241137523\n"
          ]
        }
      ]
    },
    {
      "cell_type": "code",
      "source": [
        "print(\"#iteration of SGD:\",sgd_pipeline[-1].n_iter_)\n",
        "print(\"#Number of weight updates:\",sgd_pipeline[-1].t_) #basically (iterations*no.of exaamples in training)"
      ],
      "metadata": {
        "colab": {
          "base_uri": "https://localhost:8080/"
        },
        "id": "hkQhkmWKVahd",
        "outputId": "b485c34e-cfd9-4860-ab22-3130c8a09bcb"
      },
      "execution_count": 70,
      "outputs": [
        {
          "output_type": "stream",
          "name": "stdout",
          "text": [
            "#iteration of SGD: 7\n",
            "#Number of weight updates: 81271.0\n"
          ]
        }
      ]
    },
    {
      "cell_type": "markdown",
      "source": [
        "Above SGD was using inverse scaling as learning rate now we use `constant` learning rate means eta0 will remain same for last .There is another `adaptive` learning rate which basicaly remains constant untill convergence critiria is reached after that it got changed by dividing learning rate by 5"
      ],
      "metadata": {
        "id": "A9FKu9buWHVW"
      }
    },
    {
      "cell_type": "code",
      "source": [
        "sgd_pipeline=Pipeline([('feature_scaling',StandardScaler()),\n",
        "                       (\"sgd\",SGDRegressor(max_iter=500,\n",
        "                                           early_stopping=True,\n",
        "                                           eta0=1e-3,\n",
        "                                           tol=1e-3,\n",
        "                                           learning_rate='constant',\n",
        "                                           validation_fraction=0.2,\n",
        "                                           n_iter_no_change=5,\n",
        "                                           average=10,\n",
        "                                           random_state=42))])\n",
        "sgd_pipeline.fit(train_features,train_labels)\n",
        "\n",
        "train_mae=mean_absolute_error(train_labels,sgd_pipeline.predict(train_features))\n",
        "dev_mae=mean_absolute_error(dev_labels,sgd_pipeline.predict(dev_features))\n",
        "print(\"Mean absolute error oon Training set:\",train_mae)\n",
        "print(\"Mean absolute error oon developement set:\",dev_mae)\n",
        "\n",
        "print(\"#iteration of SGD:\",sgd_pipeline[-1].n_iter_)\n",
        "print(\"#Number of weight updates:\",sgd_pipeline[-1].t_) #basically (iterations*no.of exaamples in training)"
      ],
      "metadata": {
        "colab": {
          "base_uri": "https://localhost:8080/"
        },
        "id": "dpjerEo1Vnih",
        "outputId": "cfa8994b-9945-4e26-8a9e-5a3caa9a7bd1"
      },
      "execution_count": 73,
      "outputs": [
        {
          "output_type": "stream",
          "name": "stdout",
          "text": [
            "Mean absolute error oon Training set: 0.5359339681114987\n",
            "Mean absolute error oon developement set: 0.5151099728924144\n",
            "#iteration of SGD: 8\n",
            "#Number of weight updates: 92881.0\n"
          ]
        }
      ]
    },
    {
      "cell_type": "code",
      "source": [
        "max_iter=np.ceil(1e6/com_train_features.shape[0])\n",
        "max_iter"
      ],
      "metadata": {
        "colab": {
          "base_uri": "https://localhost:8080/"
        },
        "id": "J5knUuGaWZ1-",
        "outputId": "8f68e718-2c6f-49d6-ea41-c4fd0610eb94"
      },
      "execution_count": 74,
      "outputs": [
        {
          "output_type": "execute_result",
          "data": {
            "text/plain": [
              "65.0"
            ]
          },
          "metadata": {},
          "execution_count": 74
        }
      ]
    },
    {
      "cell_type": "code",
      "source": [
        ""
      ],
      "metadata": {
        "id": "ZZVkFRnnXQUd"
      },
      "execution_count": null,
      "outputs": []
    }
  ]
}